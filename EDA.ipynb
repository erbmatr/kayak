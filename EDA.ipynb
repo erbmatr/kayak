{
 "cells": [
  {
   "cell_type": "code",
   "execution_count": 1,
   "metadata": {},
   "outputs": [],
   "source": [
    "# Import libraries\n",
    "import pandas as pd\n",
    "import numpy as np\n",
    "import plotly.express as px\n",
    "\n",
    "import boto3\n",
    "from io import StringIO\n",
    "\n",
    "import os\n",
    "from dotenv import load_dotenv\n",
    "load_dotenv(dotenv_path=r'C:\\Users\\ambri\\Desktop\\vscodetraining\\Training\\FullStack\\.env')\n",
    "\n",
    "from sqlalchemy import create_engine, text\n",
    "from sqlalchemy.orm import sessionmaker"
   ]
  },
  {
   "cell_type": "markdown",
   "metadata": {},
   "source": [
    "# Exploratory Data Analysis to find the top 20 hotels in the top 5 cities"
   ]
  },
  {
   "cell_type": "code",
   "execution_count": 2,
   "metadata": {},
   "outputs": [
    {
     "data": {
      "text/html": [
       "<div>\n",
       "<style scoped>\n",
       "    .dataframe tbody tr th:only-of-type {\n",
       "        vertical-align: middle;\n",
       "    }\n",
       "\n",
       "    .dataframe tbody tr th {\n",
       "        vertical-align: top;\n",
       "    }\n",
       "\n",
       "    .dataframe thead th {\n",
       "        text-align: right;\n",
       "    }\n",
       "</style>\n",
       "<table border=\"1\" class=\"dataframe\">\n",
       "  <thead>\n",
       "    <tr style=\"text-align: right;\">\n",
       "      <th></th>\n",
       "      <th>city</th>\n",
       "      <th>hotel_lat</th>\n",
       "      <th>hotel_lon</th>\n",
       "      <th>hotel_name</th>\n",
       "      <th>hotel_review</th>\n",
       "      <th>hotel_nbr_review</th>\n",
       "      <th>hotel_address</th>\n",
       "      <th>hotel_facilities</th>\n",
       "      <th>hotel_desc</th>\n",
       "      <th>hotel_url</th>\n",
       "    </tr>\n",
       "  </thead>\n",
       "  <tbody>\n",
       "    <tr>\n",
       "      <th>0</th>\n",
       "      <td>Carcassonne</td>\n",
       "      <td>43.206183545263</td>\n",
       "      <td>2.361151027302</td>\n",
       "      <td>Studio pour 2 avec terrasse au pied de la Cité...</td>\n",
       "      <td>9,5</td>\n",
       "      <td>174 expériences vécues</td>\n",
       "      <td>36 Rue Longue, 11000 Carcassonne, France</td>\n",
       "      <td>Parking gratuit,Connexion Wi-Fi gratuite,Chamb...</td>\n",
       "      <td>L’hébergement Studio pour 2 avec terrasse au p...</td>\n",
       "      <td>https://www.booking.com/hotel/fr/studio-pour-2...</td>\n",
       "    </tr>\n",
       "    <tr>\n",
       "      <th>1</th>\n",
       "      <td>Carcassonne</td>\n",
       "      <td>43.2114588</td>\n",
       "      <td>2.3508581</td>\n",
       "      <td>Marius - studio au cœur de la bastide</td>\n",
       "      <td>8,0</td>\n",
       "      <td>112 expériences vécues</td>\n",
       "      <td>9 Ruelle Perrot, 11000 Carcassonne, France</td>\n",
       "      <td>Connexion Wi-Fi gratuite,Chambres non-fumeurs,...</td>\n",
       "      <td>L’hébergement Marius - studio au cœur de la ba...</td>\n",
       "      <td>https://www.booking.com/hotel/fr/marius-studio...</td>\n",
       "    </tr>\n",
       "    <tr>\n",
       "      <th>2</th>\n",
       "      <td>Aigues Mortes</td>\n",
       "      <td>43.5672196715711</td>\n",
       "      <td>4.189343601465225</td>\n",
       "      <td>Hôtel Saint Louis</td>\n",
       "      <td>8,5</td>\n",
       "      <td>1 577 expériences vécues</td>\n",
       "      <td>10, Rue Amiral Courbet, 30220 Aigues-Mortes, F...</td>\n",
       "      <td>Parking,Spa et centre de bien-être,Connexion W...</td>\n",
       "      <td>Situé dans le cœur historique d'Aigues-Mortes,...</td>\n",
       "      <td>https://www.booking.com/hotel/fr/saint-louis-a...</td>\n",
       "    </tr>\n",
       "    <tr>\n",
       "      <th>3</th>\n",
       "      <td>Carcassonne</td>\n",
       "      <td>43.2140544</td>\n",
       "      <td>2.3460563</td>\n",
       "      <td>Chez Pauline &amp; Vincent Côté Canal</td>\n",
       "      <td>9,8</td>\n",
       "      <td>11 expériences vécues</td>\n",
       "      <td>19 Avenue Pierre Charles Lespinasse, 11000 Car...</td>\n",
       "      <td>Parking gratuit,Connexion Wi-Fi gratuite,Chamb...</td>\n",
       "      <td>L’hébergement Chez Pauline &amp; Vincent Côté Cana...</td>\n",
       "      <td>https://www.booking.com/hotel/fr/cote-canal-ca...</td>\n",
       "    </tr>\n",
       "    <tr>\n",
       "      <th>4</th>\n",
       "      <td>Carcassonne</td>\n",
       "      <td>43.2082373962379</td>\n",
       "      <td>2.36704409122467</td>\n",
       "      <td>La Rapière</td>\n",
       "      <td>8,4</td>\n",
       "      <td>3 099 expériences vécues</td>\n",
       "      <td>9 Montée Gaston Combéléran, 11000 Carcassonne,...</td>\n",
       "      <td>Parking gratuit,Connexion Wi-Fi gratuite,Chamb...</td>\n",
       "      <td>La chambre d'hôtes La Rapiere est située à Car...</td>\n",
       "      <td>https://www.booking.com/hotel/fr/la-rapia-re.f...</td>\n",
       "    </tr>\n",
       "  </tbody>\n",
       "</table>\n",
       "</div>"
      ],
      "text/plain": [
       "            city         hotel_lat          hotel_lon  \\\n",
       "0    Carcassonne   43.206183545263     2.361151027302   \n",
       "1    Carcassonne        43.2114588          2.3508581   \n",
       "2  Aigues Mortes  43.5672196715711  4.189343601465225   \n",
       "3    Carcassonne        43.2140544          2.3460563   \n",
       "4    Carcassonne  43.2082373962379   2.36704409122467   \n",
       "\n",
       "                                          hotel_name hotel_review  \\\n",
       "0  Studio pour 2 avec terrasse au pied de la Cité...          9,5   \n",
       "1              Marius - studio au cœur de la bastide          8,0   \n",
       "2                                  Hôtel Saint Louis          8,5   \n",
       "3                  Chez Pauline & Vincent Côté Canal          9,8   \n",
       "4                                         La Rapière          8,4   \n",
       "\n",
       "           hotel_nbr_review  \\\n",
       "0    174 expériences vécues   \n",
       "1    112 expériences vécues   \n",
       "2  1 577 expériences vécues   \n",
       "3     11 expériences vécues   \n",
       "4  3 099 expériences vécues   \n",
       "\n",
       "                                       hotel_address  \\\n",
       "0           36 Rue Longue, 11000 Carcassonne, France   \n",
       "1         9 Ruelle Perrot, 11000 Carcassonne, France   \n",
       "2  10, Rue Amiral Courbet, 30220 Aigues-Mortes, F...   \n",
       "3  19 Avenue Pierre Charles Lespinasse, 11000 Car...   \n",
       "4  9 Montée Gaston Combéléran, 11000 Carcassonne,...   \n",
       "\n",
       "                                    hotel_facilities  \\\n",
       "0  Parking gratuit,Connexion Wi-Fi gratuite,Chamb...   \n",
       "1  Connexion Wi-Fi gratuite,Chambres non-fumeurs,...   \n",
       "2  Parking,Spa et centre de bien-être,Connexion W...   \n",
       "3  Parking gratuit,Connexion Wi-Fi gratuite,Chamb...   \n",
       "4  Parking gratuit,Connexion Wi-Fi gratuite,Chamb...   \n",
       "\n",
       "                                          hotel_desc  \\\n",
       "0  L’hébergement Studio pour 2 avec terrasse au p...   \n",
       "1  L’hébergement Marius - studio au cœur de la ba...   \n",
       "2  Situé dans le cœur historique d'Aigues-Mortes,...   \n",
       "3  L’hébergement Chez Pauline & Vincent Côté Cana...   \n",
       "4  La chambre d'hôtes La Rapiere est située à Car...   \n",
       "\n",
       "                                           hotel_url  \n",
       "0  https://www.booking.com/hotel/fr/studio-pour-2...  \n",
       "1  https://www.booking.com/hotel/fr/marius-studio...  \n",
       "2  https://www.booking.com/hotel/fr/saint-louis-a...  \n",
       "3  https://www.booking.com/hotel/fr/cote-canal-ca...  \n",
       "4  https://www.booking.com/hotel/fr/la-rapia-re.f...  "
      ]
     },
     "execution_count": 2,
     "metadata": {},
     "output_type": "execute_result"
    }
   ],
   "source": [
    "#Read the csv that we create in the scrap notebook\n",
    "df = pd.read_csv(\"Kayak_Project_scrap_booking.csv\")\n",
    "df.head()"
   ]
  },
  {
   "cell_type": "code",
   "execution_count": 3,
   "metadata": {},
   "outputs": [
    {
     "data": {
      "text/plain": [
       "city                object\n",
       "hotel_lat           object\n",
       "hotel_lon           object\n",
       "hotel_name          object\n",
       "hotel_review        object\n",
       "hotel_nbr_review    object\n",
       "hotel_address       object\n",
       "hotel_facilities    object\n",
       "hotel_desc          object\n",
       "hotel_url           object\n",
       "dtype: object"
      ]
     },
     "execution_count": 3,
     "metadata": {},
     "output_type": "execute_result"
    }
   ],
   "source": [
    "# Types of columns\n",
    "df.dtypes"
   ]
  },
  {
   "cell_type": "code",
   "execution_count": 4,
   "metadata": {},
   "outputs": [],
   "source": [
    "# Convert float data\n",
    "df['hotel_lat'] = pd.to_numeric(df['hotel_lat'], errors='coerce')\n",
    "df['hotel_lon'] = pd.to_numeric(df['hotel_lon'], errors='coerce')"
   ]
  },
  {
   "cell_type": "code",
   "execution_count": 5,
   "metadata": {},
   "outputs": [
    {
     "data": {
      "text/html": [
       "<div>\n",
       "<style scoped>\n",
       "    .dataframe tbody tr th:only-of-type {\n",
       "        vertical-align: middle;\n",
       "    }\n",
       "\n",
       "    .dataframe tbody tr th {\n",
       "        vertical-align: top;\n",
       "    }\n",
       "\n",
       "    .dataframe thead th {\n",
       "        text-align: right;\n",
       "    }\n",
       "</style>\n",
       "<table border=\"1\" class=\"dataframe\">\n",
       "  <thead>\n",
       "    <tr style=\"text-align: right;\">\n",
       "      <th></th>\n",
       "      <th>city</th>\n",
       "      <th>hotel_lat</th>\n",
       "      <th>hotel_lon</th>\n",
       "      <th>hotel_name</th>\n",
       "      <th>hotel_review</th>\n",
       "      <th>hotel_nbr_review</th>\n",
       "      <th>hotel_address</th>\n",
       "      <th>hotel_facilities</th>\n",
       "      <th>hotel_desc</th>\n",
       "      <th>hotel_url</th>\n",
       "    </tr>\n",
       "  </thead>\n",
       "  <tbody>\n",
       "    <tr>\n",
       "      <th>0</th>\n",
       "      <td>Carcassonne</td>\n",
       "      <td>43.206184</td>\n",
       "      <td>2.361151</td>\n",
       "      <td>Studio pour 2 avec terrasse au pied de la Cité...</td>\n",
       "      <td>9.5</td>\n",
       "      <td>174.0</td>\n",
       "      <td>36 Rue Longue, 11000 Carcassonne, France</td>\n",
       "      <td>Parking gratuit,Connexion Wi-Fi gratuite,Chamb...</td>\n",
       "      <td>L’hébergement Studio pour 2 avec terrasse au p...</td>\n",
       "      <td>https://www.booking.com/hotel/fr/studio-pour-2...</td>\n",
       "    </tr>\n",
       "    <tr>\n",
       "      <th>1</th>\n",
       "      <td>Carcassonne</td>\n",
       "      <td>43.211459</td>\n",
       "      <td>2.350858</td>\n",
       "      <td>Marius - studio au cœur de la bastide</td>\n",
       "      <td>8.0</td>\n",
       "      <td>112.0</td>\n",
       "      <td>9 Ruelle Perrot, 11000 Carcassonne, France</td>\n",
       "      <td>Connexion Wi-Fi gratuite,Chambres non-fumeurs,...</td>\n",
       "      <td>L’hébergement Marius - studio au cœur de la ba...</td>\n",
       "      <td>https://www.booking.com/hotel/fr/marius-studio...</td>\n",
       "    </tr>\n",
       "    <tr>\n",
       "      <th>2</th>\n",
       "      <td>Aigues Mortes</td>\n",
       "      <td>43.567220</td>\n",
       "      <td>4.189344</td>\n",
       "      <td>Hôtel Saint Louis</td>\n",
       "      <td>8.5</td>\n",
       "      <td>1.0</td>\n",
       "      <td>10, Rue Amiral Courbet, 30220 Aigues-Mortes, F...</td>\n",
       "      <td>Parking,Spa et centre de bien-être,Connexion W...</td>\n",
       "      <td>Situé dans le cœur historique d'Aigues-Mortes,...</td>\n",
       "      <td>https://www.booking.com/hotel/fr/saint-louis-a...</td>\n",
       "    </tr>\n",
       "    <tr>\n",
       "      <th>3</th>\n",
       "      <td>Carcassonne</td>\n",
       "      <td>43.214054</td>\n",
       "      <td>2.346056</td>\n",
       "      <td>Chez Pauline &amp; Vincent Côté Canal</td>\n",
       "      <td>9.8</td>\n",
       "      <td>11.0</td>\n",
       "      <td>19 Avenue Pierre Charles Lespinasse, 11000 Car...</td>\n",
       "      <td>Parking gratuit,Connexion Wi-Fi gratuite,Chamb...</td>\n",
       "      <td>L’hébergement Chez Pauline &amp; Vincent Côté Cana...</td>\n",
       "      <td>https://www.booking.com/hotel/fr/cote-canal-ca...</td>\n",
       "    </tr>\n",
       "    <tr>\n",
       "      <th>4</th>\n",
       "      <td>Carcassonne</td>\n",
       "      <td>43.208237</td>\n",
       "      <td>2.367044</td>\n",
       "      <td>La Rapière</td>\n",
       "      <td>8.4</td>\n",
       "      <td>3.0</td>\n",
       "      <td>9 Montée Gaston Combéléran, 11000 Carcassonne,...</td>\n",
       "      <td>Parking gratuit,Connexion Wi-Fi gratuite,Chamb...</td>\n",
       "      <td>La chambre d'hôtes La Rapiere est située à Car...</td>\n",
       "      <td>https://www.booking.com/hotel/fr/la-rapia-re.f...</td>\n",
       "    </tr>\n",
       "  </tbody>\n",
       "</table>\n",
       "</div>"
      ],
      "text/plain": [
       "            city  hotel_lat  hotel_lon  \\\n",
       "0    Carcassonne  43.206184   2.361151   \n",
       "1    Carcassonne  43.211459   2.350858   \n",
       "2  Aigues Mortes  43.567220   4.189344   \n",
       "3    Carcassonne  43.214054   2.346056   \n",
       "4    Carcassonne  43.208237   2.367044   \n",
       "\n",
       "                                          hotel_name  hotel_review  \\\n",
       "0  Studio pour 2 avec terrasse au pied de la Cité...           9.5   \n",
       "1              Marius - studio au cœur de la bastide           8.0   \n",
       "2                                  Hôtel Saint Louis           8.5   \n",
       "3                  Chez Pauline & Vincent Côté Canal           9.8   \n",
       "4                                         La Rapière           8.4   \n",
       "\n",
       "   hotel_nbr_review                                      hotel_address  \\\n",
       "0             174.0           36 Rue Longue, 11000 Carcassonne, France   \n",
       "1             112.0         9 Ruelle Perrot, 11000 Carcassonne, France   \n",
       "2               1.0  10, Rue Amiral Courbet, 30220 Aigues-Mortes, F...   \n",
       "3              11.0  19 Avenue Pierre Charles Lespinasse, 11000 Car...   \n",
       "4               3.0  9 Montée Gaston Combéléran, 11000 Carcassonne,...   \n",
       "\n",
       "                                    hotel_facilities  \\\n",
       "0  Parking gratuit,Connexion Wi-Fi gratuite,Chamb...   \n",
       "1  Connexion Wi-Fi gratuite,Chambres non-fumeurs,...   \n",
       "2  Parking,Spa et centre de bien-être,Connexion W...   \n",
       "3  Parking gratuit,Connexion Wi-Fi gratuite,Chamb...   \n",
       "4  Parking gratuit,Connexion Wi-Fi gratuite,Chamb...   \n",
       "\n",
       "                                          hotel_desc  \\\n",
       "0  L’hébergement Studio pour 2 avec terrasse au p...   \n",
       "1  L’hébergement Marius - studio au cœur de la ba...   \n",
       "2  Situé dans le cœur historique d'Aigues-Mortes,...   \n",
       "3  L’hébergement Chez Pauline & Vincent Côté Cana...   \n",
       "4  La chambre d'hôtes La Rapiere est située à Car...   \n",
       "\n",
       "                                           hotel_url  \n",
       "0  https://www.booking.com/hotel/fr/studio-pour-2...  \n",
       "1  https://www.booking.com/hotel/fr/marius-studio...  \n",
       "2  https://www.booking.com/hotel/fr/saint-louis-a...  \n",
       "3  https://www.booking.com/hotel/fr/cote-canal-ca...  \n",
       "4  https://www.booking.com/hotel/fr/la-rapia-re.f...  "
      ]
     },
     "execution_count": 5,
     "metadata": {},
     "output_type": "execute_result"
    }
   ],
   "source": [
    "#Clean the str to have only float\n",
    "df['hotel_nbr_review'] = df['hotel_nbr_review'].str.extract(r'([\\d.]+)')\n",
    "df['hotel_nbr_review'] = pd.to_numeric(df['hotel_nbr_review'])\n",
    "\n",
    "#Standardization of the object then transform to numeric\n",
    "df['hotel_review'] = df['hotel_review'].str.replace(',', '.')\n",
    "df['hotel_review'] = pd.to_numeric(df['hotel_review'], errors='coerce')\n",
    "\n",
    "# Load the dataframe in a data lake : S3 bucket\n",
    "session = boto3.Session(aws_access_key_id=os.environ[\"AWS_ACCESS_KEY\"], \n",
    "                        aws_secret_access_key=os.environ[\"AWS_SECRET_ACCESS_KEY\"])\n",
    "\n",
    "s3 = session.resource(\"s3\")\n",
    "\n",
    "bucket = s3.create_bucket(Bucket=\"citiesinfoskayakjedha\")\n",
    "\n",
    "# Transform the dataframe into a csv. and upload the CSV file to S3\n",
    "csv = df.to_csv()\n",
    "put_object = bucket.put_object(Key=\"all_hotel_info.csv\", Body=csv)\n",
    "\n",
    "df.head()"
   ]
  },
  {
   "cell_type": "code",
   "execution_count": null,
   "metadata": {},
   "outputs": [
    {
     "name": "stdout",
     "output_type": "stream",
     "text": [
      "2025-03-02 14:23:49,225 INFO sqlalchemy.engine.Engine select pg_catalog.version()\n",
      "2025-03-02 14:23:49,228 INFO sqlalchemy.engine.Engine [raw sql] {}\n",
      "2025-03-02 14:23:49,263 INFO sqlalchemy.engine.Engine select current_schema()\n",
      "2025-03-02 14:23:49,267 INFO sqlalchemy.engine.Engine [raw sql] {}\n",
      "2025-03-02 14:23:49,300 INFO sqlalchemy.engine.Engine show standard_conforming_strings\n",
      "2025-03-02 14:23:49,302 INFO sqlalchemy.engine.Engine [raw sql] {}\n",
      "2025-03-02 14:23:49,336 INFO sqlalchemy.engine.Engine BEGIN (implicit)\n",
      "2025-03-02 14:23:49,352 INFO sqlalchemy.engine.Engine SELECT pg_catalog.pg_class.relname \n",
      "FROM pg_catalog.pg_class JOIN pg_catalog.pg_namespace ON pg_catalog.pg_namespace.oid = pg_catalog.pg_class.relnamespace \n",
      "WHERE pg_catalog.pg_class.relname = %(table_name)s AND pg_catalog.pg_class.relkind = ANY (ARRAY[%(param_1)s, %(param_2)s, %(param_3)s, %(param_4)s, %(param_5)s]) AND pg_catalog.pg_table_is_visible(pg_catalog.pg_class.oid) AND pg_catalog.pg_namespace.nspname != %(nspname_1)s\n",
      "2025-03-02 14:23:49,352 INFO sqlalchemy.engine.Engine [generated in 0.00084s] {'table_name': 'hotel_info', 'param_1': 'r', 'param_2': 'p', 'param_3': 'f', 'param_4': 'v', 'param_5': 'm', 'nspname_1': 'pg_catalog'}\n",
      "2025-03-02 14:23:49,386 INFO sqlalchemy.engine.Engine SELECT pg_catalog.pg_class.relname \n",
      "FROM pg_catalog.pg_class JOIN pg_catalog.pg_namespace ON pg_catalog.pg_namespace.oid = pg_catalog.pg_class.relnamespace \n",
      "WHERE pg_catalog.pg_class.relname = %(table_name)s AND pg_catalog.pg_class.relkind = ANY (ARRAY[%(param_1)s, %(param_2)s, %(param_3)s, %(param_4)s, %(param_5)s]) AND pg_catalog.pg_table_is_visible(pg_catalog.pg_class.oid) AND pg_catalog.pg_namespace.nspname != %(nspname_1)s\n",
      "2025-03-02 14:23:49,389 INFO sqlalchemy.engine.Engine [cached since 0.0373s ago] {'table_name': 'hotel_info', 'param_1': 'r', 'param_2': 'p', 'param_3': 'f', 'param_4': 'v', 'param_5': 'm', 'nspname_1': 'pg_catalog'}\n",
      "2025-03-02 14:23:49,409 INFO sqlalchemy.engine.Engine SELECT pg_catalog.pg_class.relname \n",
      "FROM pg_catalog.pg_class JOIN pg_catalog.pg_namespace ON pg_catalog.pg_namespace.oid = pg_catalog.pg_class.relnamespace \n",
      "WHERE pg_catalog.pg_class.relkind = ANY (ARRAY[%(param_1)s, %(param_2)s]) AND pg_catalog.pg_class.relpersistence != %(relpersistence_1)s AND pg_catalog.pg_table_is_visible(pg_catalog.pg_class.oid) AND pg_catalog.pg_namespace.nspname != %(nspname_1)s\n",
      "2025-03-02 14:23:49,411 INFO sqlalchemy.engine.Engine [generated in 0.00262s] {'param_1': 'r', 'param_2': 'p', 'relpersistence_1': 't', 'nspname_1': 'pg_catalog'}\n",
      "2025-03-02 14:23:49,433 INFO sqlalchemy.engine.Engine SELECT pg_catalog.pg_class.relname \n",
      "FROM pg_catalog.pg_class JOIN pg_catalog.pg_namespace ON pg_catalog.pg_namespace.oid = pg_catalog.pg_class.relnamespace \n",
      "WHERE pg_catalog.pg_class.relkind = ANY (ARRAY[%(param_1)s]) AND pg_catalog.pg_class.relpersistence != %(relpersistence_1)s AND pg_catalog.pg_table_is_visible(pg_catalog.pg_class.oid) AND pg_catalog.pg_namespace.nspname != %(nspname_1)s\n",
      "2025-03-02 14:23:49,435 INFO sqlalchemy.engine.Engine [generated in 0.00288s] {'param_1': 'v', 'relpersistence_1': 't', 'nspname_1': 'pg_catalog'}\n",
      "2025-03-02 14:23:49,455 INFO sqlalchemy.engine.Engine SELECT pg_catalog.pg_class.relname \n",
      "FROM pg_catalog.pg_class JOIN pg_catalog.pg_namespace ON pg_catalog.pg_namespace.oid = pg_catalog.pg_class.relnamespace \n",
      "WHERE pg_catalog.pg_class.relkind = ANY (ARRAY[%(param_1)s]) AND pg_catalog.pg_class.relpersistence != %(relpersistence_1)s AND pg_catalog.pg_table_is_visible(pg_catalog.pg_class.oid) AND pg_catalog.pg_namespace.nspname != %(nspname_1)s\n",
      "2025-03-02 14:23:49,457 INFO sqlalchemy.engine.Engine [cached since 0.02425s ago] {'param_1': 'm', 'relpersistence_1': 't', 'nspname_1': 'pg_catalog'}\n",
      "2025-03-02 14:23:49,486 INFO sqlalchemy.engine.Engine SELECT pg_catalog.pg_attribute.attname AS name, pg_catalog.format_type(pg_catalog.pg_attribute.atttypid, pg_catalog.pg_attribute.atttypmod) AS format_type, (SELECT pg_catalog.pg_get_expr(pg_catalog.pg_attrdef.adbin, pg_catalog.pg_attrdef.adrelid) AS pg_get_expr_1 \n",
      "FROM pg_catalog.pg_attrdef \n",
      "WHERE pg_catalog.pg_attrdef.adrelid = pg_catalog.pg_attribute.attrelid AND pg_catalog.pg_attrdef.adnum = pg_catalog.pg_attribute.attnum AND pg_catalog.pg_attribute.atthasdef) AS \"default\", pg_catalog.pg_attribute.attnotnull AS not_null, pg_catalog.pg_class.relname AS table_name, pg_catalog.pg_description.description AS comment, pg_catalog.pg_attribute.attgenerated AS generated, (SELECT json_build_object(%(json_build_object_2)s, pg_catalog.pg_attribute.attidentity = %(attidentity_1)s, %(json_build_object_3)s, pg_catalog.pg_sequence.seqstart, %(json_build_object_4)s, pg_catalog.pg_sequence.seqincrement, %(json_build_object_5)s, pg_catalog.pg_sequence.seqmin, %(json_build_object_6)s, pg_catalog.pg_sequence.seqmax, %(json_build_object_7)s, pg_catalog.pg_sequence.seqcache, %(json_build_object_8)s, pg_catalog.pg_sequence.seqcycle) AS json_build_object_1 \n",
      "FROM pg_catalog.pg_sequence \n",
      "WHERE pg_catalog.pg_attribute.attidentity != %(attidentity_2)s AND pg_catalog.pg_sequence.seqrelid = CAST(CAST(pg_catalog.pg_get_serial_sequence(CAST(CAST(pg_catalog.pg_attribute.attrelid AS REGCLASS) AS TEXT), pg_catalog.pg_attribute.attname) AS REGCLASS) AS OID)) AS identity_options \n",
      "FROM pg_catalog.pg_class LEFT OUTER JOIN pg_catalog.pg_attribute ON pg_catalog.pg_class.oid = pg_catalog.pg_attribute.attrelid AND pg_catalog.pg_attribute.attnum > %(attnum_1)s AND NOT pg_catalog.pg_attribute.attisdropped LEFT OUTER JOIN pg_catalog.pg_description ON pg_catalog.pg_description.objoid = pg_catalog.pg_attribute.attrelid AND pg_catalog.pg_description.objsubid = pg_catalog.pg_attribute.attnum JOIN pg_catalog.pg_namespace ON pg_catalog.pg_namespace.oid = pg_catalog.pg_class.relnamespace \n",
      "WHERE pg_catalog.pg_class.relkind = ANY (ARRAY[%(param_1)s, %(param_2)s, %(param_3)s, %(param_4)s, %(param_5)s]) AND pg_catalog.pg_table_is_visible(pg_catalog.pg_class.oid) AND pg_catalog.pg_namespace.nspname != %(nspname_1)s AND pg_catalog.pg_class.relname IN (%(filter_names_1)s) ORDER BY pg_catalog.pg_class.relname, pg_catalog.pg_attribute.attnum\n",
      "2025-03-02 14:23:49,488 INFO sqlalchemy.engine.Engine [generated in 0.00313s] {'json_build_object_2': 'always', 'attidentity_1': 'a', 'json_build_object_3': 'start', 'json_build_object_4': 'increment', 'json_build_object_5': 'minvalue', 'json_build_object_6': 'maxvalue', 'json_build_object_7': 'cache', 'json_build_object_8': 'cycle', 'attidentity_2': '', 'attnum_1': 0, 'param_1': 'r', 'param_2': 'p', 'param_3': 'f', 'param_4': 'v', 'param_5': 'm', 'nspname_1': 'pg_catalog', 'filter_names_1': 'hotel_info'}\n",
      "2025-03-02 14:23:49,522 INFO sqlalchemy.engine.Engine SELECT pg_catalog.pg_type.typname AS name, pg_catalog.format_type(pg_catalog.pg_type.typbasetype, pg_catalog.pg_type.typtypmod) AS attype, NOT pg_catalog.pg_type.typnotnull AS nullable, pg_catalog.pg_type.typdefault AS \"default\", pg_catalog.pg_type_is_visible(pg_catalog.pg_type.oid) AS visible, pg_catalog.pg_namespace.nspname AS schema, domain_constraints.condefs, domain_constraints.connames, pg_catalog.pg_collation.collname \n",
      "FROM pg_catalog.pg_type JOIN pg_catalog.pg_namespace ON pg_catalog.pg_namespace.oid = pg_catalog.pg_type.typnamespace LEFT OUTER JOIN pg_catalog.pg_collation ON pg_catalog.pg_type.typcollation = pg_catalog.pg_collation.oid LEFT OUTER JOIN (SELECT pg_catalog.pg_constraint.contypid AS contypid, array_agg(pg_catalog.pg_get_constraintdef(pg_catalog.pg_constraint.oid, %(pg_get_constraintdef_1)s)) AS condefs, array_agg(CAST(pg_catalog.pg_constraint.conname AS TEXT)) AS connames \n",
      "FROM pg_catalog.pg_constraint \n",
      "WHERE pg_catalog.pg_constraint.contypid != %(contypid_1)s GROUP BY pg_catalog.pg_constraint.contypid) AS domain_constraints ON pg_catalog.pg_type.oid = domain_constraints.contypid \n",
      "WHERE pg_catalog.pg_type.typtype = %(typtype_1)s ORDER BY pg_catalog.pg_namespace.nspname, pg_catalog.pg_type.typname\n",
      "2025-03-02 14:23:49,524 INFO sqlalchemy.engine.Engine [generated in 0.00141s] {'pg_get_constraintdef_1': True, 'contypid_1': 0, 'typtype_1': 'd'}\n",
      "2025-03-02 14:23:49,549 INFO sqlalchemy.engine.Engine SELECT pg_catalog.pg_type.typname AS name, pg_catalog.pg_type_is_visible(pg_catalog.pg_type.oid) AS visible, pg_catalog.pg_namespace.nspname AS schema, lbl_agg.labels AS labels \n",
      "FROM pg_catalog.pg_type JOIN pg_catalog.pg_namespace ON pg_catalog.pg_namespace.oid = pg_catalog.pg_type.typnamespace LEFT OUTER JOIN (SELECT pg_catalog.pg_enum.enumtypid AS enumtypid, array_agg(CAST(pg_catalog.pg_enum.enumlabel AS TEXT) ORDER BY pg_catalog.pg_enum.enumsortorder) AS labels \n",
      "FROM pg_catalog.pg_enum GROUP BY pg_catalog.pg_enum.enumtypid) AS lbl_agg ON pg_catalog.pg_type.oid = lbl_agg.enumtypid \n",
      "WHERE pg_catalog.pg_type.typtype = %(typtype_1)s ORDER BY pg_catalog.pg_namespace.nspname, pg_catalog.pg_type.typname\n",
      "2025-03-02 14:23:49,552 INFO sqlalchemy.engine.Engine [generated in 0.00284s] {'typtype_1': 'e'}\n",
      "2025-03-02 14:23:49,575 INFO sqlalchemy.engine.Engine SELECT pg_catalog.pg_class.oid, pg_catalog.pg_class.relname \n",
      "FROM pg_catalog.pg_class JOIN pg_catalog.pg_namespace ON pg_catalog.pg_namespace.oid = pg_catalog.pg_class.relnamespace \n",
      "WHERE pg_catalog.pg_class.relkind = ANY (ARRAY[%(param_1)s, %(param_2)s, %(param_3)s, %(param_4)s, %(param_5)s]) AND pg_catalog.pg_table_is_visible(pg_catalog.pg_class.oid) AND pg_catalog.pg_namespace.nspname != %(nspname_1)s AND pg_catalog.pg_class.relname IN (%(filter_names_1)s)\n",
      "2025-03-02 14:23:49,579 INFO sqlalchemy.engine.Engine [generated in 0.00410s] {'param_1': 'r', 'param_2': 'p', 'param_3': 'f', 'param_4': 'v', 'param_5': 'm', 'nspname_1': 'pg_catalog', 'filter_names_1': 'hotel_info'}\n",
      "2025-03-02 14:23:49,603 INFO sqlalchemy.engine.Engine SELECT attr.conrelid, array_agg(CAST(attr.attname AS TEXT) ORDER BY attr.ord) AS cols, attr.conname, min(attr.description) AS description, NULL AS extra \n",
      "FROM (SELECT con.conrelid AS conrelid, con.conname AS conname, con.conindid AS conindid, con.description AS description, con.ord AS ord, pg_catalog.pg_attribute.attname AS attname \n",
      "FROM pg_catalog.pg_attribute JOIN (SELECT pg_catalog.pg_constraint.conrelid AS conrelid, pg_catalog.pg_constraint.conname AS conname, pg_catalog.pg_constraint.conindid AS conindid, unnest(pg_catalog.pg_constraint.conkey) AS attnum, generate_subscripts(pg_catalog.pg_constraint.conkey, %(generate_subscripts_1)s) AS ord, pg_catalog.pg_description.description AS description \n",
      "FROM pg_catalog.pg_constraint LEFT OUTER JOIN pg_catalog.pg_description ON pg_catalog.pg_description.objoid = pg_catalog.pg_constraint.oid \n",
      "WHERE pg_catalog.pg_constraint.contype = %(contype)s AND pg_catalog.pg_constraint.conrelid IN (%(oids_1)s)) AS con ON pg_catalog.pg_attribute.attnum = con.attnum AND pg_catalog.pg_attribute.attrelid = con.conrelid \n",
      "WHERE con.conrelid IN (%(oids_1)s)) AS attr GROUP BY attr.conrelid, attr.conname ORDER BY attr.conrelid, attr.conname\n",
      "2025-03-02 14:23:49,606 INFO sqlalchemy.engine.Engine [generated in 0.00355s] {'generate_subscripts_1': 1, 'contype': 'p', 'oids_1': 23495}\n",
      "2025-03-02 14:23:49,631 INFO sqlalchemy.engine.Engine SELECT pg_catalog.pg_class.relname, pg_catalog.pg_constraint.conname, CASE WHEN (pg_catalog.pg_constraint.oid IS NOT NULL) THEN pg_catalog.pg_get_constraintdef(pg_catalog.pg_constraint.oid, %(pg_get_constraintdef_1)s) END AS anon_1, nsp_ref.nspname, pg_catalog.pg_description.description \n",
      "FROM pg_catalog.pg_class LEFT OUTER JOIN pg_catalog.pg_constraint ON pg_catalog.pg_class.oid = pg_catalog.pg_constraint.conrelid AND pg_catalog.pg_constraint.contype = %(contype_1)s LEFT OUTER JOIN pg_catalog.pg_class AS cls_ref ON cls_ref.oid = pg_catalog.pg_constraint.confrelid LEFT OUTER JOIN pg_catalog.pg_namespace AS nsp_ref ON cls_ref.relnamespace = nsp_ref.oid LEFT OUTER JOIN pg_catalog.pg_description ON pg_catalog.pg_description.objoid = pg_catalog.pg_constraint.oid JOIN pg_catalog.pg_namespace ON pg_catalog.pg_namespace.oid = pg_catalog.pg_class.relnamespace \n",
      "WHERE pg_catalog.pg_class.relkind = ANY (ARRAY[%(param_1)s, %(param_2)s, %(param_3)s, %(param_4)s, %(param_5)s]) AND pg_catalog.pg_table_is_visible(pg_catalog.pg_class.oid) AND pg_catalog.pg_namespace.nspname != %(nspname_1)s AND pg_catalog.pg_class.relname IN (%(filter_names_1)s) ORDER BY pg_catalog.pg_class.relname, pg_catalog.pg_constraint.conname\n",
      "2025-03-02 14:23:49,633 INFO sqlalchemy.engine.Engine [generated in 0.00254s] {'pg_get_constraintdef_1': True, 'contype_1': 'f', 'param_1': 'r', 'param_2': 'p', 'param_3': 'f', 'param_4': 'v', 'param_5': 'm', 'nspname_1': 'pg_catalog', 'filter_names_1': 'hotel_info'}\n",
      "2025-03-02 14:23:49,663 INFO sqlalchemy.engine.Engine SELECT pg_catalog.pg_index.indrelid, cls_idx.relname AS relname_index, pg_catalog.pg_index.indisunique, pg_catalog.pg_constraint.conrelid IS NOT NULL AS has_constraint, pg_catalog.pg_index.indoption, cls_idx.reloptions, pg_catalog.pg_am.amname, CASE WHEN (pg_catalog.pg_index.indpred IS NOT NULL) THEN pg_catalog.pg_get_expr(pg_catalog.pg_index.indpred, pg_catalog.pg_index.indrelid) END AS filter_definition, pg_catalog.pg_index.indnkeyatts, pg_catalog.pg_index.indnullsnotdistinct, idx_cols.elements, idx_cols.elements_is_expr \n",
      "FROM pg_catalog.pg_index JOIN pg_catalog.pg_class AS cls_idx ON pg_catalog.pg_index.indexrelid = cls_idx.oid JOIN pg_catalog.pg_am ON cls_idx.relam = pg_catalog.pg_am.oid LEFT OUTER JOIN (SELECT idx_attr.indexrelid AS indexrelid, min(idx_attr.indrelid) AS min_1, array_agg(idx_attr.element ORDER BY idx_attr.ord) AS elements, array_agg(idx_attr.is_expr ORDER BY idx_attr.ord) AS elements_is_expr \n",
      "FROM (SELECT idx.indexrelid AS indexrelid, idx.indrelid AS indrelid, idx.ord AS ord, CASE WHEN (idx.attnum = %(attnum_1)s) THEN pg_catalog.pg_get_indexdef(idx.indexrelid, idx.ord + %(ord_1)s, %(pg_get_indexdef_1)s) ELSE CAST(pg_catalog.pg_attribute.attname AS TEXT) END AS element, idx.attnum = %(attnum_2)s AS is_expr \n",
      "FROM (SELECT pg_catalog.pg_index.indexrelid AS indexrelid, pg_catalog.pg_index.indrelid AS indrelid, unnest(pg_catalog.pg_index.indkey) AS attnum, generate_subscripts(pg_catalog.pg_index.indkey, %(generate_subscripts_1)s) AS ord \n",
      "FROM pg_catalog.pg_index \n",
      "WHERE NOT pg_catalog.pg_index.indisprimary AND pg_catalog.pg_index.indrelid IN (%(oids_1)s)) AS idx LEFT OUTER JOIN pg_catalog.pg_attribute ON pg_catalog.pg_attribute.attnum = idx.attnum AND pg_catalog.pg_attribute.attrelid = idx.indrelid \n",
      "WHERE idx.indrelid IN (%(oids_1)s)) AS idx_attr GROUP BY idx_attr.indexrelid) AS idx_cols ON pg_catalog.pg_index.indexrelid = idx_cols.indexrelid LEFT OUTER JOIN pg_catalog.pg_constraint ON pg_catalog.pg_index.indrelid = pg_catalog.pg_constraint.conrelid AND pg_catalog.pg_index.indexrelid = pg_catalog.pg_constraint.conindid AND pg_catalog.pg_constraint.contype = ANY (ARRAY[%(param_1)s, %(param_2)s, %(param_3)s]) \n",
      "WHERE pg_catalog.pg_index.indrelid IN (%(oids_1)s) AND NOT pg_catalog.pg_index.indisprimary ORDER BY pg_catalog.pg_index.indrelid, cls_idx.relname\n",
      "2025-03-02 14:23:49,664 INFO sqlalchemy.engine.Engine [generated in 0.00094s] {'attnum_1': 0, 'ord_1': 1, 'pg_get_indexdef_1': True, 'attnum_2': 0, 'generate_subscripts_1': 1, 'param_1': 'p', 'param_2': 'u', 'param_3': 'x', 'oids_1': 23495}\n",
      "2025-03-02 14:23:49,691 INFO sqlalchemy.engine.Engine SELECT attr.conrelid, array_agg(CAST(attr.attname AS TEXT) ORDER BY attr.ord) AS cols, attr.conname, min(attr.description) AS description, bool_and(pg_catalog.pg_index.indnullsnotdistinct) AS indnullsnotdistinct \n",
      "FROM (SELECT con.conrelid AS conrelid, con.conname AS conname, con.conindid AS conindid, con.description AS description, con.ord AS ord, pg_catalog.pg_attribute.attname AS attname \n",
      "FROM pg_catalog.pg_attribute JOIN (SELECT pg_catalog.pg_constraint.conrelid AS conrelid, pg_catalog.pg_constraint.conname AS conname, pg_catalog.pg_constraint.conindid AS conindid, unnest(pg_catalog.pg_constraint.conkey) AS attnum, generate_subscripts(pg_catalog.pg_constraint.conkey, %(generate_subscripts_1)s) AS ord, pg_catalog.pg_description.description AS description \n",
      "FROM pg_catalog.pg_constraint LEFT OUTER JOIN pg_catalog.pg_description ON pg_catalog.pg_description.objoid = pg_catalog.pg_constraint.oid \n",
      "WHERE pg_catalog.pg_constraint.contype = %(contype)s AND pg_catalog.pg_constraint.conrelid IN (%(oids_1)s)) AS con ON pg_catalog.pg_attribute.attnum = con.attnum AND pg_catalog.pg_attribute.attrelid = con.conrelid \n",
      "WHERE con.conrelid IN (%(oids_1)s)) AS attr JOIN pg_catalog.pg_index ON attr.conindid = pg_catalog.pg_index.indexrelid GROUP BY attr.conrelid, attr.conname ORDER BY attr.conrelid, attr.conname\n",
      "2025-03-02 14:23:49,694 INFO sqlalchemy.engine.Engine [generated in 0.00256s] {'generate_subscripts_1': 1, 'contype': 'u', 'oids_1': 23495}\n",
      "2025-03-02 14:23:49,718 INFO sqlalchemy.engine.Engine SELECT pg_catalog.pg_class.relname, pg_catalog.pg_description.description \n",
      "FROM pg_catalog.pg_class LEFT OUTER JOIN pg_catalog.pg_description ON pg_catalog.pg_class.oid = pg_catalog.pg_description.objoid AND pg_catalog.pg_description.objsubid = %(objsubid_1)s AND pg_catalog.pg_description.classoid = CAST(%(param_1)s AS REGCLASS) JOIN pg_catalog.pg_namespace ON pg_catalog.pg_namespace.oid = pg_catalog.pg_class.relnamespace \n",
      "WHERE pg_catalog.pg_class.relkind = ANY (ARRAY[%(param_2)s, %(param_3)s, %(param_4)s, %(param_5)s, %(param_6)s]) AND pg_catalog.pg_table_is_visible(pg_catalog.pg_class.oid) AND pg_catalog.pg_namespace.nspname != %(nspname_1)s AND pg_catalog.pg_class.relname IN (%(filter_names_1)s)\n",
      "2025-03-02 14:23:49,719 INFO sqlalchemy.engine.Engine [generated in 0.00224s] {'objsubid_1': 0, 'param_1': 'pg_catalog.pg_class', 'param_2': 'r', 'param_3': 'p', 'param_4': 'f', 'param_5': 'v', 'param_6': 'm', 'nspname_1': 'pg_catalog', 'filter_names_1': 'hotel_info'}\n",
      "2025-03-02 14:23:49,740 INFO sqlalchemy.engine.Engine SELECT pg_catalog.pg_class.relname, pg_catalog.pg_constraint.conname, CASE WHEN (pg_catalog.pg_constraint.oid IS NOT NULL) THEN pg_catalog.pg_get_constraintdef(pg_catalog.pg_constraint.oid, %(pg_get_constraintdef_1)s) END AS anon_1, pg_catalog.pg_description.description \n",
      "FROM pg_catalog.pg_class LEFT OUTER JOIN pg_catalog.pg_constraint ON pg_catalog.pg_class.oid = pg_catalog.pg_constraint.conrelid AND pg_catalog.pg_constraint.contype = %(contype_1)s LEFT OUTER JOIN pg_catalog.pg_description ON pg_catalog.pg_description.objoid = pg_catalog.pg_constraint.oid JOIN pg_catalog.pg_namespace ON pg_catalog.pg_namespace.oid = pg_catalog.pg_class.relnamespace \n",
      "WHERE pg_catalog.pg_class.relkind = ANY (ARRAY[%(param_1)s, %(param_2)s, %(param_3)s, %(param_4)s, %(param_5)s]) AND pg_catalog.pg_table_is_visible(pg_catalog.pg_class.oid) AND pg_catalog.pg_namespace.nspname != %(nspname_1)s AND pg_catalog.pg_class.relname IN (%(filter_names_1)s) ORDER BY pg_catalog.pg_class.relname, pg_catalog.pg_constraint.conname\n",
      "2025-03-02 14:23:49,741 INFO sqlalchemy.engine.Engine [generated in 0.00096s] {'pg_get_constraintdef_1': True, 'contype_1': 'c', 'param_1': 'r', 'param_2': 'p', 'param_3': 'f', 'param_4': 'v', 'param_5': 'm', 'nspname_1': 'pg_catalog', 'filter_names_1': 'hotel_info'}\n",
      "2025-03-02 14:23:49,760 INFO sqlalchemy.engine.Engine \n",
      "DROP TABLE hotel_info\n",
      "2025-03-02 14:23:49,763 INFO sqlalchemy.engine.Engine [no key 0.00299s] {}\n",
      "2025-03-02 14:23:49,789 INFO sqlalchemy.engine.Engine \n",
      "CREATE TABLE hotel_info (\n",
      "\tcity TEXT, \n",
      "\thotel_lat FLOAT(53), \n",
      "\thotel_lon FLOAT(53), \n",
      "\thotel_name TEXT, \n",
      "\thotel_review FLOAT(53), \n",
      "\thotel_nbr_review FLOAT(53), \n",
      "\thotel_address TEXT, \n",
      "\thotel_facilities TEXT, \n",
      "\thotel_desc TEXT, \n",
      "\thotel_url TEXT\n",
      ")\n",
      "\n",
      "\n",
      "2025-03-02 14:23:49,790 INFO sqlalchemy.engine.Engine [no key 0.00168s] {}\n",
      "2025-03-02 14:23:49,850 INFO sqlalchemy.engine.Engine INSERT INTO hotel_info (city, hotel_lat, hotel_lon, hotel_name, hotel_review, hotel_nbr_review, hotel_address, hotel_facilities, hotel_desc, hotel_url) VALUES (%(city__0)s, %(hotel_lat__0)s, %(hotel_lon__0)s, %(hotel_name__0)s, %(hotel_review__0)s, % ... 218707 characters truncated ... __999)s, %(hotel_address__999)s, %(hotel_facilities__999)s, %(hotel_desc__999)s, %(hotel_url__999)s)\n",
      "2025-03-02 14:23:49,851 INFO sqlalchemy.engine.Engine [generated in 0.01448s (insertmanyvalues) 1/3 (unordered)] {'hotel_url__0': 'https://www.booking.com/hotel/fr/studio-pour-2-avec-terrasse-au-pied-de-la-cite-ma-pierre-a-l-edifice.fr.html?aid=304142&label=gen173nr-1FCAQoggJCEnN ... (177 characters truncated) ... dults=2&no_rooms=1&group_children=0&req_children=0&hpos=17&hapos=17&sr_order=popularity&srpvid=901256aaa7c903cd&srepoch=1739103573&from=searchresults', 'hotel_lon__0': 2.361151027302, 'hotel_address__0': '36 Rue Longue, 11000 Carcassonne, France', 'city__0': 'Carcassonne', 'hotel_facilities__0': \"Parking gratuit,Connexion Wi-Fi gratuite,Chambres non-fumeurs,Terrasse,Parking gratuit,Connexion Wi-Fi gratuite,Chambres non-fumeurs,Terrasse,Places  ... (813 characters truncated) ... é aux adultes,Espace fumeurs,Climatisation,Établissement entièrement non-fumeurs,Chambres insonorisées,Chambres non-fumeurs,Anglais,Espagnol,Français\", 'hotel_nbr_review__0': 174.0, 'hotel_desc__0': \"L’hébergement Studio pour 2 avec terrasse au pied de la Cité : ma pierre à l’édifice vous accueille à Carcassonne, à respectivement 49 km et 1,4 km d ... (445 characters truncated) ...  une kitchenette entièrement équipée et une terrasse offrant une vue sur la ville.\\n\\nL'aéroport le plus proche (Aéroport de Carcassonne) est à 5 km.\", 'hotel_name__0': 'Studio pour 2 avec terrasse au pied de la Cité : ma pierre à l’édifice', 'hotel_review__0': 9.5, 'hotel_lat__0': 43.206183545263, 'hotel_url__1': 'https://www.booking.com/hotel/fr/marius-studio-au-coeur-de-la-bastide.fr.html?aid=304142&label=gen173nr-1FCAQoggJCEnNlYXJjaF9jYXJjYXNzb25uZUgNWARoTYg ... (145 characters truncated) ... dults=2&no_rooms=1&group_children=0&req_children=0&hpos=15&hapos=15&sr_order=popularity&srpvid=901256aaa7c903cd&srepoch=1739103573&from=searchresults', 'hotel_lon__1': 2.3508581, 'hotel_address__1': '9 Ruelle Perrot, 11000 Carcassonne, France', 'city__1': 'Carcassonne', 'hotel_facilities__1': 'Connexion Wi-Fi gratuite,Chambres non-fumeurs,Connexion Wi-Fi gratuite,Chambres non-fumeurs,Table à manger,Machine à café,Produits ménagers,Plaque de ... (456 characters truncated) ... u rez-de-chaussée,Plateau / bouilloire,Appartement privé dans un immeuble,Établissement entièrement non-fumeurs,Chambres non-fumeurs,Anglais,Français', 'hotel_nbr_review__1': 112.0, 'hotel_desc__1': \"L’hébergement Marius - studio au cœur de la bastide vous accueille à Carcassonne, à respectivement 50 km et 200 mètres de ces lieux d’intérêt : Terme ... (417 characters truncated) ... veux et un lave-linge. Des serviettes et du linge de lit sont à votre disposition.\\n\\nL'aéroport le plus proche (Aéroport de Carcassonne) est à 3 km.\", 'hotel_name__1': 'Marius - studio au cœur de la bastide', 'hotel_review__1': 8.0, 'hotel_lat__1': 43.2114588, 'hotel_url__2': 'https://www.booking.com/hotel/fr/saint-louis-aigues-mortes.fr.html?aid=304142&label=gen173nr-1FCAQoggJCFHNlYXJjaF9haWd1ZXMgbW9ydGVzSA1YBGhNiAEBmAENuA ... (135 characters truncated) ... _adults=2&no_rooms=1&group_children=0&req_children=0&hpos=1&hapos=1&sr_order=popularity&srpvid=13ca56aa8ff406c6&srepoch=1739103573&from=searchresults', 'hotel_lon__2': 4.189343601465225, 'hotel_address__2': '10, Rue Amiral Courbet, 30220 Aigues-Mortes, France', 'city__2': 'Aigues Mortes', 'hotel_facilities__2': \"Parking,Spa et centre de bien-être,Connexion Wi-Fi gratuite,Restaurant,Chambres familiales,Chambres non-fumeurs,Bar,Petit-déjeuner fabuleux,Parking,S ... (1320 characters truncated) ... ,Massage crânien,Massage des pieds,Massage du dos,Forfaits spa/bien-être,Massages,Spa et centre de bien-être,Sauna,Allemand,Anglais,Espagnol,Français\", 'hotel_nbr_review__2': 1.0, 'hotel_desc__2': \"Situé dans le cœur historique d'Aigues-Mortes, à 200 mètres de la Tour de Constance, l'Hôtel Saint Louis est un hôtel climatisé doté d'un centre de b ... (676 characters truncated) ... es. L'aéroport de Montpellier-Méditerranée est à 26 km.\\n\\n Un centre de bien-être avec sauna et des massages sont également disponibles sur demande.\", 'hotel_name__2': 'Hôtel Saint Louis', 'hotel_review__2': 8.5, 'hotel_lat__2': 43.5672196715711, 'hotel_url__3': 'https://www.booking.com/hotel/fr/cote-canal-carcassonne.fr.html?aid=304142&label=gen173nr-1FCAQoggJCEnNlYXJjaF9jYXJjYXNzb25uZUgNWARoTYgBAZgBDbgBCsgBB ... (131 characters truncated) ... dults=2&no_rooms=1&group_children=0&req_children=0&hpos=18&hapos=18&sr_order=popularity&srpvid=901256aaa7c903cd&srepoch=1739103573&from=searchresults', 'hotel_lon__3': 2.3460563, 'hotel_address__3': '19 Avenue Pierre Charles Lespinasse, 11000 Carcassonne, France', 'city__3': 'Carcassonne', 'hotel_facilities__3': \"Parking gratuit,Connexion Wi-Fi gratuite,Chambres non-fumeurs,Parking gratuit,Connexion Wi-Fi gratuite,Chambres non-fumeurs,Chaise haute pour enfants ... (804 characters truncated) ... es, DVD ou musique pour enfants,Jeux de société / puzzles,Climatisation,Établissement entièrement non-fumeurs,Chauffage,Chambres non-fumeurs,Français\", 'hotel_nbr_review__3': 11.0, 'hotel_desc__3': \"L’hébergement Chez Pauline & Vincent Côté Canal se situe à Carcassonne, à respectivement 700 mètres et 800 mètres de ces lieux d’intérêt : Memorial H ... (495 characters truncated) ... ticles de toilette gratuits. Des serviettes et du linge de lit sont à disposition.\\n\\nL'aéroport le plus proche (Aéroport de Carcassonne) est à 3 km.\", 'hotel_name__3': 'Chez Pauline & Vincent Côté Canal', 'hotel_review__3': 9.8, 'hotel_lat__3': 43.2140544, 'hotel_url__4': 'https://www.booking.com/hotel/fr/la-rapia-re.fr.html?aid=304142&label=gen173nr-1FCAQoggJCEnNlYXJjaF9jYXJjYXNzb25uZUgNWARoTYgBAZgBDbgBCsgBBdgBAegBAfgB ... (118 characters truncated) ... _adults=2&no_rooms=1&group_children=0&req_children=0&hpos=1&hapos=1&sr_order=popularity&srpvid=901256aaa7c903cd&srepoch=1739103573&from=searchresults', 'hotel_lon__4': 2.36704409122467, 'hotel_address__4': '9 Montée Gaston Combéléran, 11000 Carcassonne, France', 'city__4': 'Carcassonne', 'hotel_facilities__4': \"Parking gratuit,Connexion Wi-Fi gratuite,Chambres familiales,Restaurant,Chambres non-fumeurs,Navette aéroport,Équipements pour les personnes handicap ... (1079 characters truncated) ... ge,Insonorisation,Chambres insonorisées,Chambres familiales,Équipements pour les personnes handicapées,Chambres non-fumeurs,Anglais,Espagnol,Français\", 'hotel_nbr_review__4': 3.0, 'hotel_desc__4': \"La chambre d'hôtes La Rapiere est située à Carcassonne, juste à l'extérieur des remparts médiévaux, à seulement 150\\xa0mètres de la cité médiévale et ... (782 characters truncated) ...  à 3\\xa0km. Le canal du Midi est accessible à 20\\xa0minutes à pied. Si vous arrivez en train, la gare de Carcassonne est idéalement située à 2\\xa0km.\", 'hotel_name__4': 'La Rapière', 'hotel_review__4': 8.4, 'hotel_lat__4': 43.2082373962379 ... 9900 parameters truncated ... 'hotel_url__995': 'https://www.booking.com/hotel/fr/appartement-camargue.fr.html?aid=304142&label=gen173nr-1FCAQoggJCH3NlYXJjaF9zYWludGVzIG1hcmllcyBkZSBsYSBtZXJIDVgEaE2 ... (146 characters truncated) ... dults=2&no_rooms=1&group_children=0&req_children=0&hpos=18&hapos=18&sr_order=popularity&srpvid=d7cd71230fd10743&srepoch=1740845128&from=searchresults', 'hotel_lon__995': 4.429859, 'hotel_address__995': 'Les impériaux III, appartement n°15 1 Place des Impériaux, 13460 Les Saintes-Maries-de-la-Mer, France', 'city__995': 'Saintes Maries de la mer', 'hotel_facilities__995': 'Parking gratuit,Parking gratuit,Places de stationnement dans la rue,Table à manger,Machine à café,Plaque de cuisson,Four,Ustensiles de cuisine,Bouill ... (386 characters truncated) ... ,Canoë-kayak,Planche à voile,Pêche,Vue sur la mer,Vue,Appartement privé dans un immeuble,Climatisation,Chauffage,Détecteurs de fumée,Anglais,Français', 'hotel_nbr_review__995': 42.0, 'hotel_desc__995': \"L’hébergement Appartement Camargue offre une vue sur la mer, à environ 600 mètres de ce lieu d’intérêt : Plage des Amphores. Il possède un balcon et  ... (479 characters truncated) ... \\n\\nVous séjournerez à 39 km de ce lieu d’intérêt : Arènes d'Arles. L'aéroport le plus proche (Aéroport de Nîmes Alès Camargue Cévennes) est à 41 km.\", 'hotel_name__995': 'Appartement Camargue', 'hotel_review__995': 7.5, 'hotel_lat__995': 43.453735, 'hotel_url__996': 'https://www.booking.com/hotel/fr/jolie-appartement-refait-a-neuf.fr.html?aid=304142&label=gen173nr-1FCAQoggJCH3NlYXJjaF9zYWludGVzIG1hcmllcyBkZSBsYSBt ... (157 characters truncated) ... dults=2&no_rooms=1&group_children=0&req_children=0&hpos=20&hapos=20&sr_order=popularity&srpvid=d7cd71230fd10743&srepoch=1740845128&from=searchresults', 'hotel_lon__996': 4.4300057, 'hotel_address__996': '4 Avenue des Massoucles, 13460 Les Saintes-Maries-de-la-Mer, France', 'city__996': 'Saintes Maries de la mer', 'hotel_facilities__996': 'Parking gratuit,Chambres familiales,Chambres non-fumeurs,Parking gratuit,Chambres familiales,Chambres non-fumeurs,Table à manger,Machine à café,Produ ... (572 characters truncated) ... Terrasse,Jardin,Plage,Vue sur le jardin,Mitoyen,Climatisation,Établissement entièrement non-fumeurs,Chambres familiales,Chambres non-fumeurs,Français', 'hotel_nbr_review__996': 15.0, 'hotel_desc__996': \"L’hébergement Jolie appartement refait à neuf propose un jardin et une terrasse. Il se situe à Saintes-Maries-de-la-Mer, à respectivement 800 mètres, ... (452 characters truncated) ... \\n\\nVous séjournerez à 38 km de ce lieu d’intérêt : Arènes d'Arles. L'aéroport le plus proche (Aéroport de Nîmes Alès Camargue Cévennes) est à 41 km.\", 'hotel_name__996': 'Jolie appartement refait à neuf', 'hotel_review__996': 8.7, 'hotel_lat__996': 43.4556909, 'hotel_url__997': 'https://www.booking.com/hotel/fr/jolie-maisonnette-a-proximite-de-toutes-commodites.fr.html?aid=304142&label=gen173nr-1FCAQoggJCH3NlYXJjaF9zYWludGVzI ... (176 characters truncated) ... dults=2&no_rooms=1&group_children=0&req_children=0&hpos=19&hapos=19&sr_order=popularity&srpvid=d7cd71230fd10743&srepoch=1740845128&from=searchresults', 'hotel_lon__997': 4.4274383, 'hotel_address__997': '9 Rue Jarjaie, 13460 Les Saintes-Maries-de-la-Mer, France', 'city__997': 'Saintes Maries de la mer', 'hotel_facilities__997': \"En bord de plage,Chambres non-fumeurs,Bar,En bord de plage,Chambres non-fumeurs,Bar,Table à manger,Machine à café,Grille-pain,Plaque de cuisson,Four, ... (737 characters truncated) ... é pour bébés,Établissement entièrement non-fumeurs,Chambres non-fumeurs,Détecteurs de fumée,Détecteur de monoxyde de carbone,Anglais,Français,Italien\", 'hotel_nbr_review__997': 15.0, 'hotel_desc__997': \"L’hébergement Jolie maisonnette à proximité de toutes commodités se situe à Saintes-Maries-de-la-Mer, à respectivement 500 mètres, 500 mètres et 800  ... (461 characters truncated) ... \\n\\nVous séjournerez à 39 km de ce lieu d’intérêt : Arènes d'Arles. L'aéroport le plus proche (Aéroport de Nîmes Alès Camargue Cévennes) est à 41 km.\", 'hotel_name__997': 'Jolie maisonnette à proximité de toutes commodités', 'hotel_review__997': 8.9, 'hotel_lat__997': 43.453081, 'hotel_url__998': 'https://www.booking.com/hotel/fr/mas-des-salicornes.fr.html?aid=304142&label=gen173nr-1FCAQoggJCH3NlYXJjaF9zYWludGVzIG1hcmllcyBkZSBsYSBtZXJIDVgEaE2IA ... (144 characters truncated) ... dults=2&no_rooms=1&group_children=0&req_children=0&hpos=17&hapos=17&sr_order=popularity&srpvid=d7cd71230fd10743&srepoch=1740845128&from=searchresults', 'hotel_lon__998': 4.426175951957703, 'hotel_address__998': '38 Chemin du Pont Blanc, 13460 Les Saintes-Maries-de-la-Mer, France', 'city__998': 'Saintes Maries de la mer', 'hotel_facilities__998': 'Piscine extérieure,Parking gratuit,Connexion Wi-Fi gratuite,Chambres familiales,Équipements pour les personnes handicapées,Chambres non-fumeurs,Plate ... (1057 characters truncated) ... ous les âges sont les bienvenus,Espace peu profond,Chaises longues ou de plage,Parasols,Parasols,Chaises longues ou de plage,Anglais,Français,Italien', 'hotel_nbr_review__998': 998.0, 'hotel_desc__998': \"Le Mas Des Salicornes est un hôtel de campagne qui vous accueille à seulement 10 minutes à pied de la plage, au cœur de la Provence. Il propose une p ... (600 characters truncated) ... es-de-la-Mer, le Mas Des Salicornes se trouve à 20 minutes en voiture du parc naturel régional de la Camargue ainsi qu'à 35 minutes de route d'Arles.\", 'hotel_name__998': 'Mas Des Salicornes', 'hotel_review__998': 9.2, 'hotel_lat__998': 43.45687142239208, 'hotel_url__999': 'https://www.booking.com/hotel/fr/chambre-les-flamants.fr.html?aid=304142&label=gen173nr-1FCAQoggJCH3NlYXJjaF9zYWludGVzIG1hcmllcyBkZSBsYSBtZXJIDVgEaE2 ... (146 characters truncated) ... dults=2&no_rooms=1&group_children=0&req_children=0&hpos=16&hapos=16&sr_order=popularity&srpvid=d7cd71230fd10743&srepoch=1740845128&from=searchresults', 'hotel_lon__999': 4.430955, 'hotel_address__999': '29 Rue Fanfonne Guillerme, 13460 Les Saintes-Maries-de-la-Mer, France', 'city__999': 'Saintes Maries de la mer', 'hotel_facilities__999': \"Parking gratuit,Connexion Wi-Fi gratuite,Chambres familiales,Chambres non-fumeurs,Service d'étage,Petit-déjeuner,Parking gratuit,Connexion Wi-Fi grat ... (1571 characters truncated) ... riel de repassage,Presse à pantalons,Chambres non-fumeurs,Fer à repasser,Étages supérieurs accessibles uniquement par les escaliers,Parasols,Français\", 'hotel_nbr_review__999': 62.0, 'hotel_desc__999': \"L’hébergement Chambre les flamants, vue sur les étangs, les oiseaux, les flamants, petit déjeuner compris se situe à Saintes-Maries-de-la-Mer, à resp ... (736 characters truncated) ... 2 km et 38 km de ces lieux d’intérêt : Plage Est et Arènes d'Arles. L'aéroport le plus proche (Aéroport de Nîmes Alès Camargue Cévennes) est à 41 km.\", 'hotel_name__999': 'Chambre les flamants, vue sur les étangs, les oiseaux, les flamants, petit déjeuner compris', 'hotel_review__999': 9.5, 'hotel_lat__999': 43.457069}\n",
      "2025-03-02 14:23:50,133 INFO sqlalchemy.engine.Engine INSERT INTO hotel_info (city, hotel_lat, hotel_lon, hotel_name, hotel_review, hotel_nbr_review, hotel_address, hotel_facilities, hotel_desc, hotel_url) VALUES (%(city__0)s, %(hotel_lat__0)s, %(hotel_lon__0)s, %(hotel_name__0)s, %(hotel_review__0)s, % ... 218707 characters truncated ... __999)s, %(hotel_address__999)s, %(hotel_facilities__999)s, %(hotel_desc__999)s, %(hotel_url__999)s)\n",
      "2025-03-02 14:23:50,134 INFO sqlalchemy.engine.Engine [insertmanyvalues 2/3 (unordered)] {'hotel_url__0': 'https://www.booking.com/hotel/fr/appartement-duplex-4pers-climatise.fr.html?aid=304142&label=gen173nr-1FCAQoggJCH3NlYXJjaF9zYWludGVzIG1hcmllcyBkZSBsY ... (160 characters truncated) ... dults=2&no_rooms=1&group_children=0&req_children=0&hpos=15&hapos=15&sr_order=popularity&srpvid=d7cd71230fd10743&srepoch=1740845128&from=searchresults', 'hotel_lon__0': 4.4293162, 'hotel_address__0': '10 Avenue des Massoucles, 13460 Les Saintes-Maries-de-la-Mer, France', 'city__0': 'Saintes Maries de la mer', 'hotel_facilities__0': \"Parking gratuit,Connexion Wi-Fi rapide\\xa0gratuite (534\\xa0Mb/s),Chambres non-fumeurs,Parking gratuit,Connexion Wi-Fi rapide\\xa0gratuite (534\\xa0Mb/s ... (990 characters truncated) ...  puzzles,Climatisation,Établissement entièrement non-fumeurs,Chauffage,Chambres non-fumeurs,Détecteurs de fumée,Clés d'accès,Anglais,Français,Italien\", 'hotel_nbr_review__0': 52.0, 'hotel_desc__0': \"Offrant une vue sur la ville, l’hébergement Appartement Duplex 4pers Climatisé - Locations VLD Camargue comprend une terrasse et un balcon, à environ ... (529 characters truncated) ... s et 1,1 km de ces lieux d’intérêt : Plage des Arènes et Plage Est. L'aéroport le plus proche (Aéroport de Nîmes Alès Camargue Cévennes) est à 41 km.\", 'hotel_name__0': 'Appartement Duplex 4pers Climatisé - Locations VLD Camargue', 'hotel_review__0': 9.0, 'hotel_lat__0': 43.4560081, 'hotel_url__1': 'https://www.booking.com/hotel/fr/appartement-de-l-39-olivier.fr.html?aid=304142&label=gen173nr-1FCAQoggJCH3NlYXJjaF9zYWludGVzIG1hcmllcyBkZSBsYSBtZXJI ... (153 characters truncated) ... dults=2&no_rooms=1&group_children=0&req_children=0&hpos=14&hapos=14&sr_order=popularity&srpvid=d7cd71230fd10743&srepoch=1740845128&from=searchresults', 'hotel_lon__1': 4.424928820072, 'hotel_address__1': '26 Les launes du couchant, 13460 Les Saintes-Maries-de-la-Mer, France', 'city__1': 'Saintes Maries de la mer', 'hotel_facilities__1': 'Parking gratuit,Connexion Wi-Fi gratuite,Chambres non-fumeurs,Parking gratuit,Connexion Wi-Fi gratuite,Chambres non-fumeurs,Parking intérieur,Table à ... (539 characters truncated) ... le jardin,Mitoyen,Indépendant,Climatisation,Établissement entièrement non-fumeurs,Chauffage,Chambres non-fumeurs,Détecteurs de fumée,Anglais,Français', 'hotel_nbr_review__1': 101.0, 'hotel_desc__1': \"L’hébergement Appartement de l'olivier se trouve à Saintes-Maries-de-la-Mer, à 800 mètres de ce lieu d’intérêt : Plage des Amphores. Il propose une t ... (467 characters truncated) ... \\n\\nVous séjournerez à 39 km de ce lieu d’intérêt : Arènes d'Arles. L'aéroport le plus proche (Aéroport de Nîmes Alès Camargue Cévennes) est à 41 km.\", 'hotel_name__1': \"Appartement de l'olivier\", 'hotel_review__1': 9.0, 'hotel_lat__1': 43.453848689005, 'hotel_url__2': 'https://www.booking.com/hotel/fr/les-deux-pins-saintes-maries-de-la-mer.fr.html?aid=304142&label=gen173nr-1FCAQoggJCH3NlYXJjaF9zYWludGVzIG1hcmllcyBkZ ... (164 characters truncated) ... dults=2&no_rooms=1&group_children=0&req_children=0&hpos=13&hapos=13&sr_order=popularity&srpvid=d7cd71230fd10743&srepoch=1740845128&from=searchresults', 'hotel_lon__2': 4.373770185181, 'hotel_address__2': '81 cabane de cambon, 13460 Les Saintes-Maries-de-la-Mer, France', 'city__2': 'Saintes Maries de la mer', 'hotel_facilities__2': \"Piscine extérieure,Parking gratuit,Connexion Wi-Fi gratuite,Chambres non-fumeurs,Piscine extérieure,Parking gratuit,Connexion Wi-Fi gratuite,Chambres ... (493 characters truncated) ... s,Climatisation,Établissement entièrement non-fumeurs,Chambres non-fumeurs,Extincteurs,Détecteurs de fumée,Clés d'accès,Coffre-fort,Espagnol,Français\", 'hotel_nbr_review__2': 6.0, 'hotel_desc__2': \"Situé à Saintes-Maries-de-la-Mer, l’hébergement les deux pins offre une vue sur le jardin. Il propose une piscine extérieure ouverte en saison, un ja ... (324 characters truncated) ...  d’intérêt : Arènes d'Arles et Parc des expositions de Montpellier. L'aéroport le plus proche (Aéroport de Nîmes Alès Camargue Cévennes) est à 36 km.\", 'hotel_name__2': 'les deux pins', 'hotel_review__2': 9.3, 'hotel_lat__2': 43.51745414613, 'hotel_url__3': 'https://www.booking.com/hotel/fr/le-fangassier.fr.html?aid=304142&label=gen173nr-1FCAQoggJCH3NlYXJjaF9zYWludGVzIG1hcmllcyBkZSBsYSBtZXJIDVgEaE2IAQGYAQ ... (139 characters truncated) ... dults=2&no_rooms=1&group_children=0&req_children=0&hpos=11&hapos=11&sr_order=popularity&srpvid=d7cd71230fd10743&srepoch=1740845128&from=searchresults', 'hotel_lon__3': 4.430707544088364, 'hotel_address__3': '12, Route de Cacharel, 13460 Les Saintes-Maries-de-la-Mer, France', 'city__3': 'Saintes Maries de la mer', 'hotel_facilities__3': \"Connexion Wi-Fi gratuite,Équipements pour les personnes handicapées,Chambres non-fumeurs,Petit-déjeuner fabuleux,Connexion Wi-Fi gratuite,Équipements ... (436 characters truncated) ... lles : panneaux tactiles,Aides visuelles : braille,Toilettes surélevées,Toilettes avec barres d'appui,Accessible en fauteuil roulant,Anglais,Français\", 'hotel_nbr_review__3': 851.0, 'hotel_desc__3': \"L’établissement Le Fangassier vous accueille dans un bâtiment de style camarguais, à 600\\xa0mètres de la plage des Saintes-Maries-de-la-Mer, en Prove ... (387 characters truncated) ...  magasins et restaurants à moins de 5\\xa0minutes de marche.\\n\\nL’hôtel se trouve à 15\\xa0minutes de route du château d’Avignon et à 37\\xa0km d’Arles.\", 'hotel_name__3': 'Le Fangassier', 'hotel_review__3': 8.9, 'hotel_lat__3': 43.45449604194784, 'hotel_url__4': 'https://www.booking.com/hotel/fr/superbe-duplex-aux-saintes-terrasse-plein-sud-3.fr.html?aid=304142&label=gen173nr-1FCAQoggJCH3NlYXJjaF9zYWludGVzIG1h ... (173 characters truncated) ... dults=2&no_rooms=1&group_children=0&req_children=0&hpos=12&hapos=12&sr_order=popularity&srpvid=d7cd71230fd10743&srepoch=1740845128&from=searchresults', 'hotel_lon__4': 4.428967679762, 'hotel_address__4': 'rue consecanieres Avenue des Massoucles, 13460 Les Saintes-Maries-de-la-Mer, France', 'city__4': 'Saintes Maries de la mer', 'hotel_facilities__4': \"Chambres non-fumeurs,Chambres non-fumeurs,Table à manger,Machine à café,Produits ménagers,Grille-pain,Plaque de cuisson,Four,Ustensiles de cuisine,Bo ... (717 characters truncated) ... eux de société / puzzles,Climatisation,Établissement entièrement non-fumeurs,Chauffage,Chambres non-fumeurs,Détecteurs de fumée,Clés d'accès,Français\", 'hotel_nbr_review__4': 85.0, 'hotel_desc__4': \"Offrant une vue sur la ville, l’hébergement Superbe Duplex aux Saintes terrasse plein sud 3*** propose une terrasse et un balcon, à environ 900 mètre ... (524 characters truncated) ... \\n\\nVous séjournerez à 38 km de ce lieu d’intérêt : Arènes d'Arles. L'aéroport le plus proche (Aéroport de Nîmes Alès Camargue Cévennes) est à 41 km.\", 'hotel_name__4': 'Superbe Duplex aux Saintes terrasse plein sud 3***', 'hotel_review__4': 8.7, 'hotel_lat__4': 43.456039733313 ... 9900 parameters truncated ... 'hotel_url__995': 'https://www.booking.com/hotel/fr/canal-aigues-mortes.fr.html?aid=304142&label=gen173nr-1FCAQoggJCFHNlYXJjaF9haWd1ZXMgbW9ydGVzSA1YBGhNiAEBmAENuAEKyAEF ... (129 characters truncated) ... _adults=2&no_rooms=1&group_children=0&req_children=0&hpos=2&hapos=2&sr_order=popularity&srpvid=281635d336920229&srepoch=1740901159&from=searchresults', 'hotel_lon__995': 4.194824695587158, 'hotel_address__995': '440 Route De Nimes, 30220 Aigues-Mortes, France', 'city__995': 'Aigues Mortes', 'hotel_facilities__995': \"Piscine extérieure,Parking gratuit,Connexion Wi-Fi gratuite,Chambres familiales,Chambres non-fumeurs,Équipements pour les personnes handicapées,Navet ... (1389 characters truncated) ... ine avec vue,Piscine chauffée,Chaises longues ou de plage,Clôture autour de la piscine,Chaises longues ou de plage,Solarium,Anglais,Espagnol,Français\", 'hotel_nbr_review__995': 1.0, 'hotel_desc__995': \"L’hôtel Canal Aigues Mortes vous accueille sur les rives du canal, à 5 minutes à pied de la ville fortifiée. Vous pourrez profiter d’une vue sur le c ... (914 characters truncated) ... er-Méditerranée. La gare d'Aigues-Mortes est à 4 minutes de marche. Montpellier, Arles et Nîmes peuvent être atteints à moins de 45 minutes de route.\", 'hotel_name__995': 'Les Jardins du Canal', 'hotel_review__995': 8.7, 'hotel_lat__995': 43.572987520084624, 'hotel_url__996': 'https://www.booking.com/hotel/fr/le-royal-hotel-aigues-mortes.fr.html?aid=304142&label=gen173nr-1FCAQoggJCFHNlYXJjaF9haWd1ZXMgbW9ydGVzSA1YBGhNiAEBmAE ... (138 characters truncated) ... _adults=2&no_rooms=1&group_children=0&req_children=0&hpos=1&hapos=1&sr_order=popularity&srpvid=281635d336920229&srepoch=1740901159&from=searchresults', 'hotel_lon__996': 4.197818040847778, 'hotel_address__996': '897, Route De Nîmes, 30220 Aigues-Mortes, France', 'city__996': 'Aigues Mortes', 'hotel_facilities__996': \"Piscine extérieure,Parking gratuit,Connexion Wi-Fi gratuite,Chambres familiales,Chambres non-fumeurs,Petit-déjeuner,Piscine extérieure,Parking gratui ... (1065 characters truncated) ... erture,En saison,Tous les âges sont les bienvenus,Chaises longues ou de plage,Parasols,Parasols,Chaises longues ou de plage,Anglais,Espagnol,Français\", 'hotel_nbr_review__996': 1.0, 'hotel_desc__996': 'Featuring free WiFi and a seasonal outdoor swimming pool, Artemia Aigues-Mortes is located in Aigues-Mortes, a 15-minute drive from the Carmague Natu ... (393 characters truncated) ... om Artemia Aigues-Mortes, while Arles is 45 km from the property. The nearest airport is Montpellier - Mediterranee Airport, 26 km from the property.', 'hotel_name__996': 'Artemia Aigues-Mortes - Hotel avec piscine', 'hotel_review__996': 7.0, 'hotel_lat__996': 43.57639588787367, 'hotel_url__997': 'https://www.booking.com/hotel/fr/best-western-le-galice.fr.html?aid=304142&label=gen173nr-1FCAQoggJCFnNlYXJjaF9haXggZW4gcHJvdmVuY2VIDVgEaE2IAQGYAQ24A ... (136 characters truncated) ... dults=2&no_rooms=1&group_children=0&req_children=0&hpos=16&hapos=16&sr_order=popularity&srpvid=d2b935d353a304b6&srepoch=1740901159&from=searchresults', 'hotel_lon__997': 5.434359312057495, 'hotel_address__997': '5 Route de Galice, 13090 Aix-en-Provence, France', 'city__997': 'Aix en Provence', 'hotel_facilities__997': \"Piscine extérieure,Parking privé,Connexion Wi-Fi gratuite,Chambres familiales,Chambres non-fumeurs,Équipements pour les personnes handicapées,Récepti ... (1653 characters truncated) ... ,Accessible en fauteuil roulant,En saison,Chaises longues ou de plage,Parasols,Chaises longues ou de plage,Bain en plein air,Anglais,Français,Italien\", 'hotel_nbr_review__997': 2.0, 'hotel_desc__997': 'Situé à 10\\xa0minutes à pied du centre d’Aix-en-Provence, le Best Western Le Galice Centre Ville dispose d’une piscine extérieure ouverte en saison e ... (538 characters truncated) ... e Marseille Provence et à 15 km de la gare TGV d’Aix-en-Provence. Un parking souterrain sécurisé est disponible, moyennant des frais supplémentaires.', 'hotel_name__997': 'Best Western Le Galice Centre Ville', 'hotel_review__997': 8.0, 'hotel_lat__997': 43.52803110430644, 'hotel_url__998': 'https://www.booking.com/hotel/fr/b-amp-b-aix-en-provence-pont-de-l-39-arc.fr.html?aid=304142&label=gen173nr-1FCAQoggJCFnNlYXJjaF9haXggZW4gcHJvdmVuY2V ... (154 characters truncated) ... dults=2&no_rooms=1&group_children=0&req_children=0&hpos=19&hapos=19&sr_order=popularity&srpvid=d2b935d353a304b6&srepoch=1740901159&from=searchresults', 'hotel_lon__998': 5.4446805, 'hotel_address__998': \"Avenue de l'Arc de Meyran, 13100 Aix-en-Provence, France\", 'city__998': 'Aix en Provence', 'hotel_facilities__998': \"Parking gratuit,Connexion Wi-Fi gratuite,Chambres familiales,Chambres non-fumeurs,Bon petit-déjeuner,Parking gratuit,Connexion Wi-Fi gratuite,Chambre ... (421 characters truncated) ... imatisation,Établissement entièrement non-fumeurs,Chauffage,Insonorisation,Chambres familiales,Chambres non-fumeurs,Anglais,Espagnol,Français,Italien\", 'hotel_nbr_review__998': 2.0, 'hotel_desc__998': \"Doté d'une connexion Wi-Fi gratuite, le B&B HOTEL Aix-en-Provence Pont de l'Arc est situé à Aix-en-Provence. Cet établissement 2 étoiles propose des  ... (368 characters truncated) ... le Saint-Sauveur se trouve à 2,7 km du B&B HOTEL Aix-en-Provence Pont de l'Arc. L'aéroport de Marseille-Provence, le plus proche, est établi à 25 km.\", 'hotel_name__998': \"B&B HOTEL Aix-en-Provence Pont de l'Arc\", 'hotel_review__998': 7.3, 'hotel_lat__998': 43.5111713, 'hotel_url__999': 'https://www.booking.com/hotel/fr/residence-aixoise.fr.html?aid=304142&label=gen173nr-1FCAQoggJCFnNlYXJjaF9haXggZW4gcHJvdmVuY2VIDVgEaE2IAQGYAQ24AQrIAQ ... (131 characters truncated) ... dults=2&no_rooms=1&group_children=0&req_children=0&hpos=17&hapos=17&sr_order=popularity&srpvid=d2b935d353a304b6&srepoch=1740901159&from=searchresults', 'hotel_lon__999': 5.404795, 'hotel_address__999': '85 Rue Paul Sabatier, 13090 Aix-en-Provence, France', 'city__999': 'Aix en Provence', 'hotel_facilities__999': \"Parking privé,Connexion Wi-Fi gratuite,Chambres non-fumeurs,Équipements pour les personnes handicapées,Terrasse,Jardin,Bon petit-déjeuner,Parking pri ... (1145 characters truncated) ... à l'extérieur de l'établissement,Caméras de surveillance dans les parties communes,Détecteurs de fumée,Clés d'accès,Anglais,Espagnol,Français,Italien\", 'hotel_nbr_review__999': 2.0, 'hotel_desc__999': \"L’établissement Résidence Les Académies Aixoise se trouve à Aix-en-Provence, à respectivement 32 km et 32 km de ces lieux d’intérêt : Gare de Marseil ... (579 characters truncated) ... ieux d’intérêt : Centre commercial Les Terrasses du Port et Métro Vieux-Port. L'aéroport le plus proche (Aéroport de Marseille Provence) est à 30 km.\", 'hotel_name__999': 'Résidence Les Académies Aixoise', 'hotel_review__999': 7.3, 'hotel_lat__999': 43.52724}\n",
      "2025-03-02 14:23:50,367 INFO sqlalchemy.engine.Engine INSERT INTO hotel_info (city, hotel_lat, hotel_lon, hotel_name, hotel_review, hotel_nbr_review, hotel_address, hotel_facilities, hotel_desc, hotel_url) VALUES (%(city__0)s, %(hotel_lat__0)s, %(hotel_lon__0)s, %(hotel_name__0)s, %(hotel_review__0)s, % ... 42267 characters truncated ... __197)s, %(hotel_address__197)s, %(hotel_facilities__197)s, %(hotel_desc__197)s, %(hotel_url__197)s)\n",
      "2025-03-02 14:23:50,369 INFO sqlalchemy.engine.Engine [insertmanyvalues 3/3 (unordered)] {'hotel_url__0': 'https://www.booking.com/hotel/fr/grand-mercure-roi-rene.fr.html?aid=304142&label=gen173nr-1FCAQoggJCFnNlYXJjaF9haXggZW4gcHJvdmVuY2VIDVgEaE2IAQGYAQ24A ... (167 characters truncated) ... en=0&req_children=0&hpos=15&hapos=15&sr_order=popularity&srpvid=d2b935d353a304b6&srepoch=1740901159&from_sustainable_property_sr=1&from=searchresults', 'hotel_lon__0': 5.449725687503815, 'hotel_address__0': '24 Boulevard du Roi René, 13100 Aix-en-Provence, France', 'city__0': 'Aix en Provence', 'hotel_facilities__0': \"Piscine extérieure,Parking privé,Connexion Wi-Fi gratuite,Restaurant,Centre de remise en forme,Chambres non-fumeurs,Équipements pour les personnes ha ... (2464 characters truncated) ... e/de plage,Chaises longues ou de plage,Cours de yoga,Fitness,Parasols,Chaises longues ou de plage,Centre de remise en forme,Anglais,Espagnol,Français\", 'hotel_nbr_review__0': 982.0, 'hotel_desc__0': \"Situé à seulement 5\\xa0minutes à pied du cours Mirabeau et du centre-ville d’Aix-en-Provence, le Grand Hôtel Roi René Aix en Provence Centre\\xa0-\\xa0 ... (978 characters truncated) ... res.\\n\\nL'hôtel fait partie du label «\\xa0Clef Verte\\xa0», engagé en faveur d’un tourisme durable pour les restaurants et les hébergements en France.\", 'hotel_name__0': 'Grand Hôtel Roi René Aix en Provence Centre - MGallery', 'hotel_review__0': 8.4, 'hotel_lat__0': 43.52332474147478, 'hotel_url__1': 'https://www.booking.com/hotel/fr/les-augustins.fr.html?aid=304142&label=gen173nr-1FCAQoggJCFnNlYXJjaF9haXggZW4gcHJvdmVuY2VIDVgEaE2IAQGYAQ24AQrIAQXYAQ ... (127 characters truncated) ... dults=2&no_rooms=1&group_children=0&req_children=0&hpos=18&hapos=18&sr_order=popularity&srpvid=d2b935d353a304b6&srepoch=1740901159&from=searchresults', 'hotel_lon__1': 5.447271466255188, 'hotel_address__1': '3 Rue De La Masse, 13100 Aix-en-Provence, France', 'city__1': 'Aix en Provence', 'hotel_facilities__1': \"Parking,Connexion Wi-Fi gratuite,Chambres non-fumeurs,Service d'étage,Réception ouverte 24h/24,Bar,Bon petit-déjeuner,Parking,Connexion Wi-Fi gratuit ... (521 characters truncated) ... de réveil,Chauffage,Chambres insonorisées,Ascenseur,Chambres non-fumeurs,Service de réveil / réveil,Service d'étage,Anglais,Espagnol,Français,Italien\", 'hotel_nbr_review__1': 2.0, 'hotel_desc__1': \"Situé à côté du célèbre cours Mirabeau, au cœur de la vieille ville d'Aix-en-Provence, l'Hôtel Les Augustins se trouve dans les murs d'un couvent dat ... (403 characters truncated) ... dans le confort de votre chambre. Vous pourrez profiter d’une connexion Wi-Fi gratuite dans l’ensemble des locaux, et d’une réception ouverte 24h/24.\", 'hotel_name__1': 'Hôtel des Augustins', 'hotel_review__1': 8.3, 'hotel_lat__1': 43.526886636225456, 'hotel_url__2': 'https://www.booking.com/hotel/fr/joli-studio-lumineux-centre-avec-parking-securise-dans-quartier-recherche.fr.html?aid=304142&label=gen173nr-1FCAQogg ... (187 characters truncated) ... dults=2&no_rooms=1&group_children=0&req_children=0&hpos=13&hapos=13&sr_order=popularity&srpvid=d2b935d353a304b6&srepoch=1740901159&from=searchresults', 'hotel_lon__2': 5.4381348, 'hotel_address__2': '4 Rue Eugène Debazac, 13090 Aix-en-Provence, France', 'city__2': 'Aix en Provence', 'hotel_facilities__2': \"Parking gratuit,Connexion Wi-Fi gratuite,Chambres non-fumeurs,Terrasse,Parking gratuit,Connexion Wi-Fi gratuite,Chambres non-fumeurs,Terrasse,Parking ... (583 characters truncated) ... de,Enregistrement/départ privé,Établissement entièrement non-fumeurs,Chauffage,Chambres non-fumeurs,Détecteurs de fumée,Clés d'accès,Anglais,Français\", 'hotel_nbr_review__2': 18.0, 'hotel_desc__2': \"Situé à Aix-en-Provence, l’hébergement Joli studio lumineux centre avec parking securise dans quartier recherche met à votre disposition une connexio ... (438 characters truncated) ... eux d’intérêt\\xa0: Métro Joliette et Centre commercial Les Terrasses du Port. L'aéroport le plus proche (Aéroport de Marseille Provence) est à 25 km.\", 'hotel_name__2': 'Joli studio lumineux centre avec parking securise dans quartier recherche', 'hotel_review__2': 7.9, 'hotel_lat__2': 43.5168058, 'hotel_url__3': 'https://www.booking.com/hotel/fr/the-originals-residence-aix-schuman.fr.html?aid=304142&label=gen173nr-1FCAQoggJCFnNlYXJjaF9haXggZW4gcHJvdmVuY2VIDVgE ... (149 characters truncated) ... dults=2&no_rooms=1&group_children=0&req_children=0&hpos=14&hapos=14&sr_order=popularity&srpvid=d2b935d353a304b6&srepoch=1740901159&from=searchresults', 'hotel_lon__3': 5.4471929, 'hotel_address__3': '1 Avenue Robert Schuman, 13090 Aix-en-Provence, France', 'city__3': 'Aix en Provence', 'hotel_facilities__3': \"Parking privé,Connexion Wi-Fi gratuite,Chambres familiales,Centre de remise en forme,Chambres non-fumeurs,Équipements pour les personnes handicapées, ... (1737 characters truncated) ... ,Accessible en fauteuil roulant,Étages supérieurs accessibles par ascenseur,Fitness,Centre de remise en forme,Arabe,Anglais,Espagnol,Français,Italien\", 'hotel_nbr_review__3': 2.0, 'hotel_desc__3': \"L’établissement The Originals Résidence Aix Schuman vous accueille à Aix-en-Provence, à 30 km de ce lieu d’intérêt : Gare de Marseille-Saint-Charles. ... (786 characters truncated) ... eux d’intérêt\\xa0: Métro Joliette et Centre commercial Les Terrasses du Port. L'aéroport le plus proche (Aéroport de Marseille Provence) est à 26 km.\", 'hotel_name__3': 'The Originals Résidence Aix Schuman', 'hotel_review__3': 8.3, 'hotel_lat__3': 43.5205148, 'hotel_url__4': 'https://www.booking.com/hotel/fr/la-chambre-cezanne.fr.html?aid=304142&label=gen173nr-1FCAQoggJCFnNlYXJjaF9haXggZW4gcHJvdmVuY2VIDVgEaE2IAQGYAQ24AQrIA ... (132 characters truncated) ... dults=2&no_rooms=1&group_children=0&req_children=0&hpos=12&hapos=12&sr_order=popularity&srpvid=d2b935d353a304b6&srepoch=1740901159&from=searchresults', 'hotel_lon__4': 5.446933410416, 'hotel_address__4': '26 Avenue Paul Cézanne, 13090 Aix-en-Provence, France', 'city__4': 'Aix en Provence', 'hotel_facilities__4': \"Piscine extérieure,Parking privé,Connexion Wi-Fi gratuite,Chambres non-fumeurs,Jardin,Petit-déjeuner,Piscine extérieure,Parking privé,Connexion Wi-Fi ... (885 characters truncated) ... Piscine chauffée,Piscine d'eau salée,Serviettes de piscine/de plage,Chaises longues ou de plage,Parasols,Chaises longues ou de plage,Anglais,Français\", 'hotel_nbr_review__4': 181.0, 'hotel_desc__4': \"L’hébergement La Chambre Cézanne vous accueille à Aix-en-Provence, à respectivement 31 km et 31 km de ces lieux d’intérêt : Gare de Marseille-Saint-C ... (380 characters truncated) ... ieux d’intérêt : Centre commercial Les Terrasses du Port et Métro Vieux-Port. L'aéroport le plus proche (Aéroport de Marseille Provence) est à 27 km.\", 'hotel_name__4': 'La Chambre Cézanne', 'hotel_review__4': 9.1, 'hotel_lat__4': 43.537482804559 ... 1880 parameters truncated ... 'hotel_url__193': 'https://www.booking.com/hotel/fr/des-croisades.fr.html?aid=304142&label=gen173nr-1FCAQoggJCFHNlYXJjaF9haWd1ZXMgbW9ydGVzSA1YBGhNiAEBmAENuAEKyAEF2AEB6A ... (123 characters truncated) ... _adults=2&no_rooms=1&group_children=0&req_children=0&hpos=5&hapos=5&sr_order=popularity&srpvid=005a39103e6504de&srepoch=1740902817&from=searchresults', 'hotel_lon__193': 4.18829819999996, 'hotel_address__193': '2 RUE DU PORT, 30220 Aigues-Mortes, France', 'city__193': 'Aigues Mortes', 'hotel_facilities__193': 'Parking gratuit,Connexion Wi-Fi gratuite,Chambres familiales,Chambres non-fumeurs,Plateau/bouilloire dans tous les hébergements,Superbe petit-déjeune ... (805 characters truncated) ...  société/puzzles,Extincteurs,Détecteurs de fumée,Alarme de sécurité,Climatisation,Chauffage,Chambres familiales,Chambres non-fumeurs,Anglais,Français', 'hotel_nbr_review__193': 1.0, 'hotel_desc__193': \"Possédant une terrasse, l’établissement Maison des Croisades vous accueille à Aigues-Mortes dans la région Languedoc-Roussillon, à respectivement 22  ... (780 characters truncated) ... ntérêt\\xa0: Zénith Sud Montpellier et Centre commercial régional Odysseum. L'aéroport le plus proche (Aéroport Montpellier Méditerranée) est à 29 km.\", 'hotel_name__193': 'Maison des Croisades', 'hotel_review__193': 8.8, 'hotel_lat__193': 43.5689974, 'hotel_url__194': 'https://www.booking.com/hotel/fr/42-rue-pasteur.fr.html?aid=304142&label=gen173nr-1FCAQoggJCFHNlYXJjaF9haWd1ZXMgbW9ydGVzSA1YBGhNiAEBmAENuAEKyAEF2AEB6 ... (124 characters truncated) ... _adults=2&no_rooms=1&group_children=0&req_children=0&hpos=4&hapos=4&sr_order=popularity&srpvid=005a39103e6504de&srepoch=1740902817&from=searchresults', 'hotel_lon__194': 4.192578573016, 'hotel_address__194': '42 Rue Pasteur, 30220 Aigues-Mortes, France', 'city__194': 'Aigues Mortes', 'hotel_facilities__194': 'Parking gratuit,Connexion Wi-Fi gratuite,Parking gratuit,Connexion Wi-Fi gratuite,Table à manger,Machine à café,Produits ménagers,Grille-pain,Plaque  ... (556 characters truncated) ... toyen,Indépendant,Facture fournie sur demande,Barrières de sécurité pour bébés,Climatisation,Établissement entièrement non-fumeurs,Chauffage,Français', 'hotel_nbr_review__194': 129.0, 'hotel_desc__194': \"L’hébergement Lou Mirèio se situe à Aigues-Mortes, à respectivement 23 km et 24 km de ces lieux d’intérêt : Parc des expositions de Montpellier et Sa ... (565 characters truncated) ...  km de ces lieux d’intérêt\\xa0: Hôtel de ville de Montpellier et Le Corum. L'aéroport le plus proche (Aéroport Montpellier Méditerranée) est à 29 km.\", 'hotel_name__194': 'Lou Mirèio', 'hotel_review__194': 9.5, 'hotel_lat__194': 43.566074978303, 'hotel_url__195': 'https://www.booking.com/hotel/fr/canal-aigues-mortes.fr.html?aid=304142&label=gen173nr-1FCAQoggJCFHNlYXJjaF9haWd1ZXMgbW9ydGVzSA1YBGhNiAEBmAENuAEKyAEF ... (129 characters truncated) ... _adults=2&no_rooms=1&group_children=0&req_children=0&hpos=3&hapos=3&sr_order=popularity&srpvid=005a39103e6504de&srepoch=1740902817&from=searchresults', 'hotel_lon__195': 4.194824695587158, 'hotel_address__195': '440 Route De Nimes, 30220 Aigues-Mortes, France', 'city__195': 'Aigues Mortes', 'hotel_facilities__195': \"Piscine extérieure,Parking gratuit,Connexion Wi-Fi gratuite,Chambres familiales,Chambres non-fumeurs,Équipements pour les personnes handicapées,Navet ... (1389 characters truncated) ... ine avec vue,Piscine chauffée,Chaises longues ou de plage,Clôture autour de la piscine,Chaises longues ou de plage,Solarium,Anglais,Espagnol,Français\", 'hotel_nbr_review__195': 1.0, 'hotel_desc__195': \"L’hôtel Canal Aigues Mortes vous accueille sur les rives du canal, à 5 minutes à pied de la ville fortifiée. Vous pourrez profiter d’une vue sur le c ... (914 characters truncated) ... er-Méditerranée. La gare d'Aigues-Mortes est à 4 minutes de marche. Montpellier, Arles et Nîmes peuvent être atteints à moins de 45 minutes de route.\", 'hotel_name__195': 'Les Jardins du Canal', 'hotel_review__195': 8.7, 'hotel_lat__195': 43.572987520084624, 'hotel_url__196': 'https://www.booking.com/hotel/fr/le-royal-hotel-aigues-mortes.fr.html?aid=304142&label=gen173nr-1FCAQoggJCFHNlYXJjaF9haWd1ZXMgbW9ydGVzSA1YBGhNiAEBmAE ... (138 characters truncated) ... _adults=2&no_rooms=1&group_children=0&req_children=0&hpos=2&hapos=2&sr_order=popularity&srpvid=005a39103e6504de&srepoch=1740902817&from=searchresults', 'hotel_lon__196': 4.197818040847778, 'hotel_address__196': '897, Route De Nîmes, 30220 Aigues-Mortes, France', 'city__196': 'Aigues Mortes', 'hotel_facilities__196': \"Piscine extérieure,Parking gratuit,Connexion Wi-Fi gratuite,Chambres familiales,Chambres non-fumeurs,Petit-déjeuner,Piscine extérieure,Parking gratui ... (1065 characters truncated) ... erture,En saison,Tous les âges sont les bienvenus,Chaises longues ou de plage,Parasols,Parasols,Chaises longues ou de plage,Anglais,Espagnol,Français\", 'hotel_nbr_review__196': 1.0, 'hotel_desc__196': 'Featuring free WiFi and a seasonal outdoor swimming pool, Artemia Aigues-Mortes is located in Aigues-Mortes, a 15-minute drive from the Carmague Natu ... (393 characters truncated) ... om Artemia Aigues-Mortes, while Arles is 45 km from the property. The nearest airport is Montpellier - Mediterranee Airport, 26 km from the property.', 'hotel_name__196': 'Artemia Aigues-Mortes - Hotel avec piscine', 'hotel_review__196': 7.0, 'hotel_lat__196': 43.57639588787367, 'hotel_url__197': 'https://www.booking.com/hotel/fr/saint-louis-aigues-mortes.fr.html?aid=304142&label=gen173nr-1FCAQoggJCFHNlYXJjaF9haWd1ZXMgbW9ydGVzSA1YBGhNiAEBmAENuA ... (135 characters truncated) ... _adults=2&no_rooms=1&group_children=0&req_children=0&hpos=1&hapos=1&sr_order=popularity&srpvid=005a39103e6504de&srepoch=1740902817&from=searchresults', 'hotel_lon__197': 4.189343601465225, 'hotel_address__197': '10, Rue Amiral Courbet, 30220 Aigues-Mortes, France', 'city__197': 'Aigues Mortes', 'hotel_facilities__197': \"Parking,Spa et centre de bien-être,Connexion Wi-Fi gratuite,Restaurant,Chambres familiales,Chambres non-fumeurs,Bar,Petit-déjeuner fabuleux,Parking,S ... (1320 characters truncated) ... ,Massage crânien,Massage des pieds,Massage du dos,Forfaits spa/bien-être,Massages,Spa et centre de bien-être,Sauna,Allemand,Anglais,Espagnol,Français\", 'hotel_nbr_review__197': 1.0, 'hotel_desc__197': \"Situé dans le cœur historique d'Aigues-Mortes, à 200 mètres de la Tour de Constance, l'Hôtel Saint Louis est un hôtel climatisé doté d'un centre de b ... (676 characters truncated) ... es. L'aéroport de Montpellier-Méditerranée est à 26 km.\\n\\n Un centre de bien-être avec sauna et des massages sont également disponibles sur demande.\", 'hotel_name__197': 'Hôtel Saint Louis', 'hotel_review__197': 8.5, 'hotel_lat__197': 43.5672196715711}\n",
      "2025-03-02 14:23:50,424 INFO sqlalchemy.engine.Engine COMMIT\n"
     ]
    },
    {
     "data": {
      "text/plain": [
       "198"
      ]
     },
     "execution_count": 6,
     "metadata": {},
     "output_type": "execute_result"
    }
   ],
   "source": [
    "# Initialization of the SQL engine\n",
    "USERNAME = \"postgres\"\n",
    "HOSTNAME = os.environ[\"HOSTNAME\"]\n",
    "PASSWORD = os.environ[\"PASSWORD\"]\n",
    "\n",
    "engine = create_engine(f\"postgresql+psycopg2://{USERNAME}:{PASSWORD}@{HOSTNAME}\", echo=True)\n",
    "Session = sessionmaker(bind=engine)\n",
    "session = Session()\n",
    "\n",
    "# Storing the dataframe as SQL tables\n",
    "df.to_sql('hotel_info', con=engine, if_exists='replace', index=False)"
   ]
  },
  {
   "cell_type": "code",
   "execution_count": 7,
   "metadata": {},
   "outputs": [
    {
     "data": {
      "text/html": [
       "<div>\n",
       "<style scoped>\n",
       "    .dataframe tbody tr th:only-of-type {\n",
       "        vertical-align: middle;\n",
       "    }\n",
       "\n",
       "    .dataframe tbody tr th {\n",
       "        vertical-align: top;\n",
       "    }\n",
       "\n",
       "    .dataframe thead th {\n",
       "        text-align: right;\n",
       "    }\n",
       "</style>\n",
       "<table border=\"1\" class=\"dataframe\">\n",
       "  <thead>\n",
       "    <tr style=\"text-align: right;\">\n",
       "      <th></th>\n",
       "      <th>index</th>\n",
       "      <th>city</th>\n",
       "      <th>hotel_lat</th>\n",
       "      <th>hotel_lon</th>\n",
       "      <th>hotel_name</th>\n",
       "      <th>hotel_review</th>\n",
       "      <th>hotel_nbr_review</th>\n",
       "      <th>hotel_address</th>\n",
       "      <th>hotel_facilities</th>\n",
       "      <th>hotel_desc</th>\n",
       "      <th>hotel_url</th>\n",
       "    </tr>\n",
       "  </thead>\n",
       "  <tbody>\n",
       "    <tr>\n",
       "      <th>0</th>\n",
       "      <td>40</td>\n",
       "      <td>Cassis</td>\n",
       "      <td>43.217600</td>\n",
       "      <td>5.532350</td>\n",
       "      <td>LE SEPT charmant studio aux portes des calanques</td>\n",
       "      <td>9.9</td>\n",
       "      <td>89.0</td>\n",
       "      <td>7 Avenue des Carriers, 13260 Cassis, France</td>\n",
       "      <td>Piscine extérieure,Parking gratuit,Connexion W...</td>\n",
       "      <td>Situé à Cassis et offrant une vue sur la mer, ...</td>\n",
       "      <td>https://www.booking.com/hotel/fr/le-sept-charm...</td>\n",
       "    </tr>\n",
       "    <tr>\n",
       "      <th>1</th>\n",
       "      <td>35</td>\n",
       "      <td>Cassis</td>\n",
       "      <td>43.220452</td>\n",
       "      <td>5.536091</td>\n",
       "      <td>Villa Bobnell</td>\n",
       "      <td>9.6</td>\n",
       "      <td>89.0</td>\n",
       "      <td>4 Impasse du 8 mai, 13260 Cassis, France</td>\n",
       "      <td>Parking gratuit,Connexion Wi-Fi gratuite,Chamb...</td>\n",
       "      <td>L’établissement Villa Bobnell se situe à Cassi...</td>\n",
       "      <td>https://www.booking.com/hotel/fr/villa-bobnell...</td>\n",
       "    </tr>\n",
       "    <tr>\n",
       "      <th>2</th>\n",
       "      <td>0</td>\n",
       "      <td>Carcassonne</td>\n",
       "      <td>43.206184</td>\n",
       "      <td>2.361151</td>\n",
       "      <td>Studio pour 2 avec terrasse au pied de la Cité...</td>\n",
       "      <td>9.5</td>\n",
       "      <td>174.0</td>\n",
       "      <td>36 Rue Longue, 11000 Carcassonne, France</td>\n",
       "      <td>Parking gratuit,Connexion Wi-Fi gratuite,Chamb...</td>\n",
       "      <td>L’hébergement Studio pour 2 avec terrasse au p...</td>\n",
       "      <td>https://www.booking.com/hotel/fr/studio-pour-2...</td>\n",
       "    </tr>\n",
       "    <tr>\n",
       "      <th>3</th>\n",
       "      <td>42</td>\n",
       "      <td>Cassis</td>\n",
       "      <td>43.216099</td>\n",
       "      <td>5.537840</td>\n",
       "      <td>Mistral gagnant - parking privé</td>\n",
       "      <td>9.5</td>\n",
       "      <td>77.0</td>\n",
       "      <td>25 Rue Frédéric Mistral, 13260 Cassis, France</td>\n",
       "      <td>Parking gratuit,Connexion Wi-Fi gratuite,Chamb...</td>\n",
       "      <td>L’hébergement Mistral gagnant - parking privé ...</td>\n",
       "      <td>https://www.booking.com/hotel/fr/mistral-gagna...</td>\n",
       "    </tr>\n",
       "    <tr>\n",
       "      <th>4</th>\n",
       "      <td>51</td>\n",
       "      <td>Saintes Maries de la mer</td>\n",
       "      <td>43.517299</td>\n",
       "      <td>4.374500</td>\n",
       "      <td>La Villa Vaihéré en Camargue, l'Hibiscus et le...</td>\n",
       "      <td>9.5</td>\n",
       "      <td>110.0</td>\n",
       "      <td>78, Cabanes de Cambon, 13460 Les Saintes-Marie...</td>\n",
       "      <td>Parking gratuit,Connexion Wi-Fi rapide gratuit...</td>\n",
       "      <td>L’établissement La Villa Vaihéré en Camargue, ...</td>\n",
       "      <td>https://www.booking.com/hotel/fr/la-villa-vaih...</td>\n",
       "    </tr>\n",
       "    <tr>\n",
       "      <th>5</th>\n",
       "      <td>21</td>\n",
       "      <td>Saintes Maries de la mer</td>\n",
       "      <td>43.457069</td>\n",
       "      <td>4.430955</td>\n",
       "      <td>Chambre les flamants, vue sur les étangs, les ...</td>\n",
       "      <td>9.5</td>\n",
       "      <td>62.0</td>\n",
       "      <td>29 Rue Fanfonne Guillerme, 13460 Les Saintes-M...</td>\n",
       "      <td>Parking gratuit,Connexion Wi-Fi gratuite,Chamb...</td>\n",
       "      <td>L’hébergement Chambre les flamants, vue sur le...</td>\n",
       "      <td>https://www.booking.com/hotel/fr/chambre-les-f...</td>\n",
       "    </tr>\n",
       "    <tr>\n",
       "      <th>6</th>\n",
       "      <td>32</td>\n",
       "      <td>Cassis</td>\n",
       "      <td>43.227286</td>\n",
       "      <td>5.533102</td>\n",
       "      <td>Rêves de vie, studio Port Miou perle rare à Ca...</td>\n",
       "      <td>9.4</td>\n",
       "      <td>116.0</td>\n",
       "      <td>47 Avenue des Terrasses, 13260 Cassis, France</td>\n",
       "      <td>Parking gratuit,Connexion Wi-Fi gratuite,Chamb...</td>\n",
       "      <td>Doté d’un bain à remous, l’hébergement Rêves d...</td>\n",
       "      <td>https://www.booking.com/hotel/fr/reves-de-vie....</td>\n",
       "    </tr>\n",
       "    <tr>\n",
       "      <th>7</th>\n",
       "      <td>52</td>\n",
       "      <td>Cassis</td>\n",
       "      <td>43.215009</td>\n",
       "      <td>5.530956</td>\n",
       "      <td>La douceur de Cassis</td>\n",
       "      <td>9.4</td>\n",
       "      <td>106.0</td>\n",
       "      <td>16 Avenue du Picouveau, 13260 Cassis, France</td>\n",
       "      <td>Parking gratuit,Connexion Wi-Fi gratuite,Chamb...</td>\n",
       "      <td>L’hébergement La douceur de Cassis se trouve à...</td>\n",
       "      <td>https://www.booking.com/hotel/fr/la-douceur-de...</td>\n",
       "    </tr>\n",
       "    <tr>\n",
       "      <th>8</th>\n",
       "      <td>59</td>\n",
       "      <td>Marseille</td>\n",
       "      <td>43.301957</td>\n",
       "      <td>5.372294</td>\n",
       "      <td>Marseille City Chambres&amp;Appartements</td>\n",
       "      <td>9.4</td>\n",
       "      <td>865.0</td>\n",
       "      <td>26 Boulevard des Dames, 13002 Marseille, France</td>\n",
       "      <td>Connexion Wi-Fi rapide gratuite (98 Mb/s),Cham...</td>\n",
       "      <td>Le Marseille City Chambres&amp;Appartements propos...</td>\n",
       "      <td>https://www.booking.com/hotel/fr/marseillecity...</td>\n",
       "    </tr>\n",
       "    <tr>\n",
       "      <th>9</th>\n",
       "      <td>19</td>\n",
       "      <td>Saintes Maries de la mer</td>\n",
       "      <td>43.467296</td>\n",
       "      <td>4.413867</td>\n",
       "      <td>Maison l'Etrier</td>\n",
       "      <td>9.3</td>\n",
       "      <td>346.0</td>\n",
       "      <td>chemin bas des launes 373, 13460 Les Saintes-M...</td>\n",
       "      <td>Piscine extérieure,Parking gratuit,Connexion W...</td>\n",
       "      <td>L’établissement Maison l'Etrier se situe à 2,7...</td>\n",
       "      <td>https://www.booking.com/hotel/fr/l-39-etrier.f...</td>\n",
       "    </tr>\n",
       "    <tr>\n",
       "      <th>10</th>\n",
       "      <td>10</td>\n",
       "      <td>Carcassonne</td>\n",
       "      <td>43.216482</td>\n",
       "      <td>2.357958</td>\n",
       "      <td>Appartement cosy avec vue imprenable sur la cité</td>\n",
       "      <td>9.3</td>\n",
       "      <td>44.0</td>\n",
       "      <td>43 Rue Pierre Germain, 11000 Carcassonne, France</td>\n",
       "      <td>Connexion Wi-Fi gratuite,Chambres non-fumeurs,...</td>\n",
       "      <td>Offrant une vue sur la ville, l’hébergement Ap...</td>\n",
       "      <td>https://www.booking.com/hotel/fr/appartement-c...</td>\n",
       "    </tr>\n",
       "    <tr>\n",
       "      <th>11</th>\n",
       "      <td>24</td>\n",
       "      <td>Saintes Maries de la mer</td>\n",
       "      <td>43.455822</td>\n",
       "      <td>4.429660</td>\n",
       "      <td>Studio des Saintes</td>\n",
       "      <td>9.3</td>\n",
       "      <td>52.0</td>\n",
       "      <td>app 21 1er étage, passage du beaudu 8 Avenue d...</td>\n",
       "      <td>Parking gratuit,Chambres non-fumeurs,Parking g...</td>\n",
       "      <td>L’hébergement Studio des Saintes offre une vue...</td>\n",
       "      <td>https://www.booking.com/hotel/fr/studio-des-sa...</td>\n",
       "    </tr>\n",
       "    <tr>\n",
       "      <th>12</th>\n",
       "      <td>48</td>\n",
       "      <td>Cassis</td>\n",
       "      <td>43.211728</td>\n",
       "      <td>5.528614</td>\n",
       "      <td>Astoria Villa maison d hôtes Appartement vue m...</td>\n",
       "      <td>9.0</td>\n",
       "      <td>119.0</td>\n",
       "      <td>15 Traverse du Soleil, 13260 Cassis, France</td>\n",
       "      <td>Piscine extérieure,Parking gratuit,Chambres no...</td>\n",
       "      <td>Situé à Cassis et offrant une vue sur la ville...</td>\n",
       "      <td>https://www.booking.com/hotel/fr/appartement-a...</td>\n",
       "    </tr>\n",
       "    <tr>\n",
       "      <th>13</th>\n",
       "      <td>6</td>\n",
       "      <td>Carcassonne</td>\n",
       "      <td>43.220325</td>\n",
       "      <td>2.351596</td>\n",
       "      <td>Studio avec parking vue sur la Cité de Carcass...</td>\n",
       "      <td>9.0</td>\n",
       "      <td>158.0</td>\n",
       "      <td>Résidence Cantegril 25 Rue Buffon, 11000 Carca...</td>\n",
       "      <td>Parking gratuit,Connexion Wi-Fi gratuite,Chamb...</td>\n",
       "      <td>L’hébergement Studio avec parking vue sur la C...</td>\n",
       "      <td>https://www.booking.com/hotel/fr/studio-avec-p...</td>\n",
       "    </tr>\n",
       "    <tr>\n",
       "      <th>14</th>\n",
       "      <td>18</td>\n",
       "      <td>Saintes Maries de la mer</td>\n",
       "      <td>43.456008</td>\n",
       "      <td>4.429316</td>\n",
       "      <td>Appartement Duplex 4pers Climatisé - Locations...</td>\n",
       "      <td>9.0</td>\n",
       "      <td>50.0</td>\n",
       "      <td>10 Avenue des Massoucles, 13460 Les Saintes-Ma...</td>\n",
       "      <td>Parking gratuit,Connexion Wi-Fi rapide gratuit...</td>\n",
       "      <td>Offrant une vue sur la ville, l’hébergement Ap...</td>\n",
       "      <td>https://www.booking.com/hotel/fr/appartement-d...</td>\n",
       "    </tr>\n",
       "    <tr>\n",
       "      <th>15</th>\n",
       "      <td>22</td>\n",
       "      <td>Saintes Maries de la mer</td>\n",
       "      <td>43.453849</td>\n",
       "      <td>4.424929</td>\n",
       "      <td>Appartement de l'olivier</td>\n",
       "      <td>9.0</td>\n",
       "      <td>104.0</td>\n",
       "      <td>26 Les launes du couchant, 13460 Les Saintes-M...</td>\n",
       "      <td>Parking gratuit,Connexion Wi-Fi gratuite,Chamb...</td>\n",
       "      <td>L’hébergement Appartement de l'olivier se trou...</td>\n",
       "      <td>https://www.booking.com/hotel/fr/appartement-d...</td>\n",
       "    </tr>\n",
       "    <tr>\n",
       "      <th>16</th>\n",
       "      <td>38</td>\n",
       "      <td>Cassis</td>\n",
       "      <td>43.214237</td>\n",
       "      <td>5.534614</td>\n",
       "      <td>Vue de rêve</td>\n",
       "      <td>8.9</td>\n",
       "      <td>65.0</td>\n",
       "      <td>7 Avenue de l'Amiral Ganteaume, 13260 Cassis, ...</td>\n",
       "      <td>Connexion Wi-Fi gratuite,Chambres non-fumeurs,...</td>\n",
       "      <td>Situé à Cassis, l’hébergement Vue de rêve offr...</td>\n",
       "      <td>https://www.booking.com/hotel/fr/vue-de-reve.f...</td>\n",
       "    </tr>\n",
       "    <tr>\n",
       "      <th>17</th>\n",
       "      <td>37</td>\n",
       "      <td>Cassis</td>\n",
       "      <td>43.212707</td>\n",
       "      <td>5.530256</td>\n",
       "      <td>AU BORD DE L'EAU Studio climatisé avec Terrass...</td>\n",
       "      <td>8.9</td>\n",
       "      <td>75.0</td>\n",
       "      <td>Le calendal 2 Avenue des Calanques, 13260 Cass...</td>\n",
       "      <td>Parking,En bord de plage,Connexion Wi-Fi gratu...</td>\n",
       "      <td>L’hébergement AU BORD DE L'EAU Studio climatis...</td>\n",
       "      <td>https://www.booking.com/hotel/fr/location-au-b...</td>\n",
       "    </tr>\n",
       "    <tr>\n",
       "      <th>18</th>\n",
       "      <td>5</td>\n",
       "      <td>Carcassonne</td>\n",
       "      <td>43.207684</td>\n",
       "      <td>2.364483</td>\n",
       "      <td>La Demeure de la Cité by Jean Bacou</td>\n",
       "      <td>8.8</td>\n",
       "      <td>124.0</td>\n",
       "      <td>4-5 rue st jean, 11000 Carcassonne, France</td>\n",
       "      <td>Parking privé,Connexion Wi-Fi gratuite,Chambre...</td>\n",
       "      <td>L’établissement La Demeure de la Cité by Jean ...</td>\n",
       "      <td>https://www.booking.com/hotel/fr/la-demeure-de...</td>\n",
       "    </tr>\n",
       "    <tr>\n",
       "      <th>19</th>\n",
       "      <td>43</td>\n",
       "      <td>Cassis</td>\n",
       "      <td>43.215008</td>\n",
       "      <td>5.535190</td>\n",
       "      <td>LA RADE - Centre Ville - Balcon - Clim - Neuf</td>\n",
       "      <td>8.8</td>\n",
       "      <td>70.0</td>\n",
       "      <td>12 Avenue de l'Amiral Ganteaume, 13260 Cassis,...</td>\n",
       "      <td>Parking gratuit,Terrasse,Parking gratuit,Terra...</td>\n",
       "      <td>L’hébergement LA RADE - Centre Ville - Balcon ...</td>\n",
       "      <td>https://www.booking.com/hotel/fr/la-rade-centr...</td>\n",
       "    </tr>\n",
       "  </tbody>\n",
       "</table>\n",
       "</div>"
      ],
      "text/plain": [
       "    index                      city  hotel_lat  hotel_lon  \\\n",
       "0      40                    Cassis  43.217600   5.532350   \n",
       "1      35                    Cassis  43.220452   5.536091   \n",
       "2       0               Carcassonne  43.206184   2.361151   \n",
       "3      42                    Cassis  43.216099   5.537840   \n",
       "4      51  Saintes Maries de la mer  43.517299   4.374500   \n",
       "5      21  Saintes Maries de la mer  43.457069   4.430955   \n",
       "6      32                    Cassis  43.227286   5.533102   \n",
       "7      52                    Cassis  43.215009   5.530956   \n",
       "8      59                 Marseille  43.301957   5.372294   \n",
       "9      19  Saintes Maries de la mer  43.467296   4.413867   \n",
       "10     10               Carcassonne  43.216482   2.357958   \n",
       "11     24  Saintes Maries de la mer  43.455822   4.429660   \n",
       "12     48                    Cassis  43.211728   5.528614   \n",
       "13      6               Carcassonne  43.220325   2.351596   \n",
       "14     18  Saintes Maries de la mer  43.456008   4.429316   \n",
       "15     22  Saintes Maries de la mer  43.453849   4.424929   \n",
       "16     38                    Cassis  43.214237   5.534614   \n",
       "17     37                    Cassis  43.212707   5.530256   \n",
       "18      5               Carcassonne  43.207684   2.364483   \n",
       "19     43                    Cassis  43.215008   5.535190   \n",
       "\n",
       "                                           hotel_name  hotel_review  \\\n",
       "0    LE SEPT charmant studio aux portes des calanques           9.9   \n",
       "1                                       Villa Bobnell           9.6   \n",
       "2   Studio pour 2 avec terrasse au pied de la Cité...           9.5   \n",
       "3                     Mistral gagnant - parking privé           9.5   \n",
       "4   La Villa Vaihéré en Camargue, l'Hibiscus et le...           9.5   \n",
       "5   Chambre les flamants, vue sur les étangs, les ...           9.5   \n",
       "6   Rêves de vie, studio Port Miou perle rare à Ca...           9.4   \n",
       "7                                La douceur de Cassis           9.4   \n",
       "8                Marseille City Chambres&Appartements           9.4   \n",
       "9                                     Maison l'Etrier           9.3   \n",
       "10   Appartement cosy avec vue imprenable sur la cité           9.3   \n",
       "11                                 Studio des Saintes           9.3   \n",
       "12  Astoria Villa maison d hôtes Appartement vue m...           9.0   \n",
       "13  Studio avec parking vue sur la Cité de Carcass...           9.0   \n",
       "14  Appartement Duplex 4pers Climatisé - Locations...           9.0   \n",
       "15                           Appartement de l'olivier           9.0   \n",
       "16                                        Vue de rêve           8.9   \n",
       "17  AU BORD DE L'EAU Studio climatisé avec Terrass...           8.9   \n",
       "18                La Demeure de la Cité by Jean Bacou           8.8   \n",
       "19      LA RADE - Centre Ville - Balcon - Clim - Neuf           8.8   \n",
       "\n",
       "    hotel_nbr_review                                      hotel_address  \\\n",
       "0               89.0        7 Avenue des Carriers, 13260 Cassis, France   \n",
       "1               89.0           4 Impasse du 8 mai, 13260 Cassis, France   \n",
       "2              174.0           36 Rue Longue, 11000 Carcassonne, France   \n",
       "3               77.0      25 Rue Frédéric Mistral, 13260 Cassis, France   \n",
       "4              110.0  78, Cabanes de Cambon, 13460 Les Saintes-Marie...   \n",
       "5               62.0  29 Rue Fanfonne Guillerme, 13460 Les Saintes-M...   \n",
       "6              116.0      47 Avenue des Terrasses, 13260 Cassis, France   \n",
       "7              106.0       16 Avenue du Picouveau, 13260 Cassis, France   \n",
       "8              865.0    26 Boulevard des Dames, 13002 Marseille, France   \n",
       "9              346.0  chemin bas des launes 373, 13460 Les Saintes-M...   \n",
       "10              44.0   43 Rue Pierre Germain, 11000 Carcassonne, France   \n",
       "11              52.0  app 21 1er étage, passage du beaudu 8 Avenue d...   \n",
       "12             119.0        15 Traverse du Soleil, 13260 Cassis, France   \n",
       "13             158.0  Résidence Cantegril 25 Rue Buffon, 11000 Carca...   \n",
       "14              50.0  10 Avenue des Massoucles, 13460 Les Saintes-Ma...   \n",
       "15             104.0  26 Les launes du couchant, 13460 Les Saintes-M...   \n",
       "16              65.0  7 Avenue de l'Amiral Ganteaume, 13260 Cassis, ...   \n",
       "17              75.0  Le calendal 2 Avenue des Calanques, 13260 Cass...   \n",
       "18             124.0         4-5 rue st jean, 11000 Carcassonne, France   \n",
       "19              70.0  12 Avenue de l'Amiral Ganteaume, 13260 Cassis,...   \n",
       "\n",
       "                                     hotel_facilities  \\\n",
       "0   Piscine extérieure,Parking gratuit,Connexion W...   \n",
       "1   Parking gratuit,Connexion Wi-Fi gratuite,Chamb...   \n",
       "2   Parking gratuit,Connexion Wi-Fi gratuite,Chamb...   \n",
       "3   Parking gratuit,Connexion Wi-Fi gratuite,Chamb...   \n",
       "4   Parking gratuit,Connexion Wi-Fi rapide gratuit...   \n",
       "5   Parking gratuit,Connexion Wi-Fi gratuite,Chamb...   \n",
       "6   Parking gratuit,Connexion Wi-Fi gratuite,Chamb...   \n",
       "7   Parking gratuit,Connexion Wi-Fi gratuite,Chamb...   \n",
       "8   Connexion Wi-Fi rapide gratuite (98 Mb/s),Cham...   \n",
       "9   Piscine extérieure,Parking gratuit,Connexion W...   \n",
       "10  Connexion Wi-Fi gratuite,Chambres non-fumeurs,...   \n",
       "11  Parking gratuit,Chambres non-fumeurs,Parking g...   \n",
       "12  Piscine extérieure,Parking gratuit,Chambres no...   \n",
       "13  Parking gratuit,Connexion Wi-Fi gratuite,Chamb...   \n",
       "14  Parking gratuit,Connexion Wi-Fi rapide gratuit...   \n",
       "15  Parking gratuit,Connexion Wi-Fi gratuite,Chamb...   \n",
       "16  Connexion Wi-Fi gratuite,Chambres non-fumeurs,...   \n",
       "17  Parking,En bord de plage,Connexion Wi-Fi gratu...   \n",
       "18  Parking privé,Connexion Wi-Fi gratuite,Chambre...   \n",
       "19  Parking gratuit,Terrasse,Parking gratuit,Terra...   \n",
       "\n",
       "                                           hotel_desc  \\\n",
       "0   Situé à Cassis et offrant une vue sur la mer, ...   \n",
       "1   L’établissement Villa Bobnell se situe à Cassi...   \n",
       "2   L’hébergement Studio pour 2 avec terrasse au p...   \n",
       "3   L’hébergement Mistral gagnant - parking privé ...   \n",
       "4   L’établissement La Villa Vaihéré en Camargue, ...   \n",
       "5   L’hébergement Chambre les flamants, vue sur le...   \n",
       "6   Doté d’un bain à remous, l’hébergement Rêves d...   \n",
       "7   L’hébergement La douceur de Cassis se trouve à...   \n",
       "8   Le Marseille City Chambres&Appartements propos...   \n",
       "9   L’établissement Maison l'Etrier se situe à 2,7...   \n",
       "10  Offrant une vue sur la ville, l’hébergement Ap...   \n",
       "11  L’hébergement Studio des Saintes offre une vue...   \n",
       "12  Situé à Cassis et offrant une vue sur la ville...   \n",
       "13  L’hébergement Studio avec parking vue sur la C...   \n",
       "14  Offrant une vue sur la ville, l’hébergement Ap...   \n",
       "15  L’hébergement Appartement de l'olivier se trou...   \n",
       "16  Situé à Cassis, l’hébergement Vue de rêve offr...   \n",
       "17  L’hébergement AU BORD DE L'EAU Studio climatis...   \n",
       "18  L’établissement La Demeure de la Cité by Jean ...   \n",
       "19  L’hébergement LA RADE - Centre Ville - Balcon ...   \n",
       "\n",
       "                                            hotel_url  \n",
       "0   https://www.booking.com/hotel/fr/le-sept-charm...  \n",
       "1   https://www.booking.com/hotel/fr/villa-bobnell...  \n",
       "2   https://www.booking.com/hotel/fr/studio-pour-2...  \n",
       "3   https://www.booking.com/hotel/fr/mistral-gagna...  \n",
       "4   https://www.booking.com/hotel/fr/la-villa-vaih...  \n",
       "5   https://www.booking.com/hotel/fr/chambre-les-f...  \n",
       "6   https://www.booking.com/hotel/fr/reves-de-vie....  \n",
       "7   https://www.booking.com/hotel/fr/la-douceur-de...  \n",
       "8   https://www.booking.com/hotel/fr/marseillecity...  \n",
       "9   https://www.booking.com/hotel/fr/l-39-etrier.f...  \n",
       "10  https://www.booking.com/hotel/fr/appartement-c...  \n",
       "11  https://www.booking.com/hotel/fr/studio-des-sa...  \n",
       "12  https://www.booking.com/hotel/fr/appartement-a...  \n",
       "13  https://www.booking.com/hotel/fr/studio-avec-p...  \n",
       "14  https://www.booking.com/hotel/fr/appartement-d...  \n",
       "15  https://www.booking.com/hotel/fr/appartement-d...  \n",
       "16  https://www.booking.com/hotel/fr/vue-de-reve.f...  \n",
       "17  https://www.booking.com/hotel/fr/location-au-b...  \n",
       "18  https://www.booking.com/hotel/fr/la-demeure-de...  \n",
       "19  https://www.booking.com/hotel/fr/la-rade-centr...  "
      ]
     },
     "execution_count": 7,
     "metadata": {},
     "output_type": "execute_result"
    }
   ],
   "source": [
    "#Apply a mask with the conditions needed : the review and the nbr of review\n",
    "conditions = (df['hotel_review']>8.7) & (df['hotel_nbr_review'] > 30)\n",
    "top_hotels = df[conditions]\n",
    "top20_hotels = pd.DataFrame(top_hotels.iloc[:20,:]).sort_values(['hotel_review'],ascending=False).reset_index()\n",
    "top20_hotels"
   ]
  },
  {
   "cell_type": "code",
   "execution_count": 9,
   "metadata": {},
   "outputs": [
    {
     "data": {
      "application/vnd.plotly.v1+json": {
       "config": {
        "plotlyServerURL": "https://plot.ly"
       },
       "data": [
        {
         "hovertemplate": "<b>%{hovertext}</b><br><br>hotel_nbr_review=%{marker.size}<br>hotel_lat=%{lat}<br>hotel_lon=%{lon}<br>hotel_review=%{marker.color}<extra></extra>",
         "hovertext": [
          "LE SEPT charmant studio aux portes des calanques",
          "Villa Bobnell",
          "Studio pour 2 avec terrasse au pied de la Cité : ma pierre à l’édifice",
          "Mistral gagnant - parking privé",
          "La Villa Vaihéré en Camargue, l'Hibiscus et le Magnolia",
          "Chambre les flamants, vue sur les étangs, les oiseaux, les flamants, petit déjeuner compris",
          "Rêves de vie, studio Port Miou perle rare à Cassis",
          "La douceur de Cassis",
          "Marseille City Chambres&Appartements",
          "Maison l'Etrier",
          "Appartement cosy avec vue imprenable sur la cité",
          "Studio des Saintes",
          "Astoria Villa maison d hôtes Appartement vue mer avec piscine",
          "Studio avec parking vue sur la Cité de Carcassonne",
          "Appartement Duplex 4pers Climatisé - Locations VLD Camargue",
          "Appartement de l'olivier",
          "Vue de rêve",
          "AU BORD DE L'EAU Studio climatisé avec Terrasse et vue mer à 40m de la plage",
          "La Demeure de la Cité by Jean Bacou",
          "LA RADE - Centre Ville - Balcon - Clim - Neuf"
         ],
         "lat": [
          43.2175997,
          43.22045190000001,
          43.206183545263,
          43.2160986,
          43.517298542478,
          43.457069,
          43.227285693315,
          43.215009,
          43.30195653192128,
          43.467296,
          43.2164815,
          43.45582204989434,
          43.211728,
          43.2203247,
          43.4560081,
          43.453848689005,
          43.2142373,
          43.21270691626079,
          43.207684,
          43.215008063197
         ],
         "legendgroup": "",
         "lon": [
          5.53235,
          5.536090800000011,
          2.361151027302,
          5.5378404,
          4.374499746033,
          4.430955,
          5.533101761377,
          5.530956,
          5.372294336557388,
          4.413867,
          2.3579582,
          4.429660299223537,
          5.5286144,
          2.3515962,
          4.4293162,
          4.424928820072,
          5.5346136,
          5.530255613708505,
          2.364483,
          5.535190430897
         ],
         "marker": {
          "color": [
           9.9,
           9.6,
           9.5,
           9.5,
           9.5,
           9.5,
           9.4,
           9.4,
           9.4,
           9.3,
           9.3,
           9.3,
           9,
           9,
           9,
           9,
           8.9,
           8.9,
           8.8,
           8.8
          ],
          "coloraxis": "coloraxis",
          "opacity": 0.7,
          "size": [
           89,
           89,
           174,
           77,
           110,
           62,
           116,
           106,
           865,
           346,
           44,
           52,
           119,
           158,
           50,
           104,
           65,
           75,
           124,
           70
          ],
          "sizemode": "area",
          "sizeref": 0.7061224489795919
         },
         "mode": "markers",
         "name": "",
         "showlegend": false,
         "subplot": "map",
         "type": "scattermap"
        }
       ],
       "layout": {
        "coloraxis": {
         "colorbar": {
          "title": {
           "text": "hotel_review"
          }
         },
         "colorscale": [
          [
           0,
           "#440154"
          ],
          [
           0.1111111111111111,
           "#482878"
          ],
          [
           0.2222222222222222,
           "#3e4989"
          ],
          [
           0.3333333333333333,
           "#31688e"
          ],
          [
           0.4444444444444444,
           "#26828e"
          ],
          [
           0.5555555555555556,
           "#1f9e89"
          ],
          [
           0.6666666666666666,
           "#35b779"
          ],
          [
           0.7777777777777778,
           "#6ece58"
          ],
          [
           0.8888888888888888,
           "#b5de2b"
          ],
          [
           1,
           "#fde725"
          ]
         ]
        },
        "height": 900,
        "legend": {
         "itemsizing": "constant",
         "tracegroupgap": 0
        },
        "map": {
         "center": {
          "lat": 43.29550489156672,
          "lon": 4.555486141758522
         },
         "domain": {
          "x": [
           0,
           1
          ],
          "y": [
           0,
           1
          ]
         },
         "zoom": 5
        },
        "mapbox": {
         "center": {
          "lat": 43.29550489156672,
          "lon": 4.555486141758522
         },
         "zoom": 5
        },
        "margin": {
         "b": 10,
         "l": 10,
         "r": 10,
         "t": 100
        },
        "template": {
         "data": {
          "bar": [
           {
            "error_x": {
             "color": "#2a3f5f"
            },
            "error_y": {
             "color": "#2a3f5f"
            },
            "marker": {
             "line": {
              "color": "#E5ECF6",
              "width": 0.5
             },
             "pattern": {
              "fillmode": "overlay",
              "size": 10,
              "solidity": 0.2
             }
            },
            "type": "bar"
           }
          ],
          "barpolar": [
           {
            "marker": {
             "line": {
              "color": "#E5ECF6",
              "width": 0.5
             },
             "pattern": {
              "fillmode": "overlay",
              "size": 10,
              "solidity": 0.2
             }
            },
            "type": "barpolar"
           }
          ],
          "carpet": [
           {
            "aaxis": {
             "endlinecolor": "#2a3f5f",
             "gridcolor": "white",
             "linecolor": "white",
             "minorgridcolor": "white",
             "startlinecolor": "#2a3f5f"
            },
            "baxis": {
             "endlinecolor": "#2a3f5f",
             "gridcolor": "white",
             "linecolor": "white",
             "minorgridcolor": "white",
             "startlinecolor": "#2a3f5f"
            },
            "type": "carpet"
           }
          ],
          "choropleth": [
           {
            "colorbar": {
             "outlinewidth": 0,
             "ticks": ""
            },
            "type": "choropleth"
           }
          ],
          "contour": [
           {
            "colorbar": {
             "outlinewidth": 0,
             "ticks": ""
            },
            "colorscale": [
             [
              0,
              "#0d0887"
             ],
             [
              0.1111111111111111,
              "#46039f"
             ],
             [
              0.2222222222222222,
              "#7201a8"
             ],
             [
              0.3333333333333333,
              "#9c179e"
             ],
             [
              0.4444444444444444,
              "#bd3786"
             ],
             [
              0.5555555555555556,
              "#d8576b"
             ],
             [
              0.6666666666666666,
              "#ed7953"
             ],
             [
              0.7777777777777778,
              "#fb9f3a"
             ],
             [
              0.8888888888888888,
              "#fdca26"
             ],
             [
              1,
              "#f0f921"
             ]
            ],
            "type": "contour"
           }
          ],
          "contourcarpet": [
           {
            "colorbar": {
             "outlinewidth": 0,
             "ticks": ""
            },
            "type": "contourcarpet"
           }
          ],
          "heatmap": [
           {
            "colorbar": {
             "outlinewidth": 0,
             "ticks": ""
            },
            "colorscale": [
             [
              0,
              "#0d0887"
             ],
             [
              0.1111111111111111,
              "#46039f"
             ],
             [
              0.2222222222222222,
              "#7201a8"
             ],
             [
              0.3333333333333333,
              "#9c179e"
             ],
             [
              0.4444444444444444,
              "#bd3786"
             ],
             [
              0.5555555555555556,
              "#d8576b"
             ],
             [
              0.6666666666666666,
              "#ed7953"
             ],
             [
              0.7777777777777778,
              "#fb9f3a"
             ],
             [
              0.8888888888888888,
              "#fdca26"
             ],
             [
              1,
              "#f0f921"
             ]
            ],
            "type": "heatmap"
           }
          ],
          "heatmapgl": [
           {
            "colorbar": {
             "outlinewidth": 0,
             "ticks": ""
            },
            "colorscale": [
             [
              0,
              "#0d0887"
             ],
             [
              0.1111111111111111,
              "#46039f"
             ],
             [
              0.2222222222222222,
              "#7201a8"
             ],
             [
              0.3333333333333333,
              "#9c179e"
             ],
             [
              0.4444444444444444,
              "#bd3786"
             ],
             [
              0.5555555555555556,
              "#d8576b"
             ],
             [
              0.6666666666666666,
              "#ed7953"
             ],
             [
              0.7777777777777778,
              "#fb9f3a"
             ],
             [
              0.8888888888888888,
              "#fdca26"
             ],
             [
              1,
              "#f0f921"
             ]
            ],
            "type": "heatmapgl"
           }
          ],
          "histogram": [
           {
            "marker": {
             "pattern": {
              "fillmode": "overlay",
              "size": 10,
              "solidity": 0.2
             }
            },
            "type": "histogram"
           }
          ],
          "histogram2d": [
           {
            "colorbar": {
             "outlinewidth": 0,
             "ticks": ""
            },
            "colorscale": [
             [
              0,
              "#0d0887"
             ],
             [
              0.1111111111111111,
              "#46039f"
             ],
             [
              0.2222222222222222,
              "#7201a8"
             ],
             [
              0.3333333333333333,
              "#9c179e"
             ],
             [
              0.4444444444444444,
              "#bd3786"
             ],
             [
              0.5555555555555556,
              "#d8576b"
             ],
             [
              0.6666666666666666,
              "#ed7953"
             ],
             [
              0.7777777777777778,
              "#fb9f3a"
             ],
             [
              0.8888888888888888,
              "#fdca26"
             ],
             [
              1,
              "#f0f921"
             ]
            ],
            "type": "histogram2d"
           }
          ],
          "histogram2dcontour": [
           {
            "colorbar": {
             "outlinewidth": 0,
             "ticks": ""
            },
            "colorscale": [
             [
              0,
              "#0d0887"
             ],
             [
              0.1111111111111111,
              "#46039f"
             ],
             [
              0.2222222222222222,
              "#7201a8"
             ],
             [
              0.3333333333333333,
              "#9c179e"
             ],
             [
              0.4444444444444444,
              "#bd3786"
             ],
             [
              0.5555555555555556,
              "#d8576b"
             ],
             [
              0.6666666666666666,
              "#ed7953"
             ],
             [
              0.7777777777777778,
              "#fb9f3a"
             ],
             [
              0.8888888888888888,
              "#fdca26"
             ],
             [
              1,
              "#f0f921"
             ]
            ],
            "type": "histogram2dcontour"
           }
          ],
          "mesh3d": [
           {
            "colorbar": {
             "outlinewidth": 0,
             "ticks": ""
            },
            "type": "mesh3d"
           }
          ],
          "parcoords": [
           {
            "line": {
             "colorbar": {
              "outlinewidth": 0,
              "ticks": ""
             }
            },
            "type": "parcoords"
           }
          ],
          "pie": [
           {
            "automargin": true,
            "type": "pie"
           }
          ],
          "scatter": [
           {
            "fillpattern": {
             "fillmode": "overlay",
             "size": 10,
             "solidity": 0.2
            },
            "type": "scatter"
           }
          ],
          "scatter3d": [
           {
            "line": {
             "colorbar": {
              "outlinewidth": 0,
              "ticks": ""
             }
            },
            "marker": {
             "colorbar": {
              "outlinewidth": 0,
              "ticks": ""
             }
            },
            "type": "scatter3d"
           }
          ],
          "scattercarpet": [
           {
            "marker": {
             "colorbar": {
              "outlinewidth": 0,
              "ticks": ""
             }
            },
            "type": "scattercarpet"
           }
          ],
          "scattergeo": [
           {
            "marker": {
             "colorbar": {
              "outlinewidth": 0,
              "ticks": ""
             }
            },
            "type": "scattergeo"
           }
          ],
          "scattergl": [
           {
            "marker": {
             "colorbar": {
              "outlinewidth": 0,
              "ticks": ""
             }
            },
            "type": "scattergl"
           }
          ],
          "scattermapbox": [
           {
            "marker": {
             "colorbar": {
              "outlinewidth": 0,
              "ticks": ""
             }
            },
            "type": "scattermapbox"
           }
          ],
          "scatterpolar": [
           {
            "marker": {
             "colorbar": {
              "outlinewidth": 0,
              "ticks": ""
             }
            },
            "type": "scatterpolar"
           }
          ],
          "scatterpolargl": [
           {
            "marker": {
             "colorbar": {
              "outlinewidth": 0,
              "ticks": ""
             }
            },
            "type": "scatterpolargl"
           }
          ],
          "scatterternary": [
           {
            "marker": {
             "colorbar": {
              "outlinewidth": 0,
              "ticks": ""
             }
            },
            "type": "scatterternary"
           }
          ],
          "surface": [
           {
            "colorbar": {
             "outlinewidth": 0,
             "ticks": ""
            },
            "colorscale": [
             [
              0,
              "#0d0887"
             ],
             [
              0.1111111111111111,
              "#46039f"
             ],
             [
              0.2222222222222222,
              "#7201a8"
             ],
             [
              0.3333333333333333,
              "#9c179e"
             ],
             [
              0.4444444444444444,
              "#bd3786"
             ],
             [
              0.5555555555555556,
              "#d8576b"
             ],
             [
              0.6666666666666666,
              "#ed7953"
             ],
             [
              0.7777777777777778,
              "#fb9f3a"
             ],
             [
              0.8888888888888888,
              "#fdca26"
             ],
             [
              1,
              "#f0f921"
             ]
            ],
            "type": "surface"
           }
          ],
          "table": [
           {
            "cells": {
             "fill": {
              "color": "#EBF0F8"
             },
             "line": {
              "color": "white"
             }
            },
            "header": {
             "fill": {
              "color": "#C8D4E3"
             },
             "line": {
              "color": "white"
             }
            },
            "type": "table"
           }
          ]
         },
         "layout": {
          "annotationdefaults": {
           "arrowcolor": "#2a3f5f",
           "arrowhead": 0,
           "arrowwidth": 1
          },
          "autotypenumbers": "strict",
          "coloraxis": {
           "colorbar": {
            "outlinewidth": 0,
            "ticks": ""
           }
          },
          "colorscale": {
           "diverging": [
            [
             0,
             "#8e0152"
            ],
            [
             0.1,
             "#c51b7d"
            ],
            [
             0.2,
             "#de77ae"
            ],
            [
             0.3,
             "#f1b6da"
            ],
            [
             0.4,
             "#fde0ef"
            ],
            [
             0.5,
             "#f7f7f7"
            ],
            [
             0.6,
             "#e6f5d0"
            ],
            [
             0.7,
             "#b8e186"
            ],
            [
             0.8,
             "#7fbc41"
            ],
            [
             0.9,
             "#4d9221"
            ],
            [
             1,
             "#276419"
            ]
           ],
           "sequential": [
            [
             0,
             "#0d0887"
            ],
            [
             0.1111111111111111,
             "#46039f"
            ],
            [
             0.2222222222222222,
             "#7201a8"
            ],
            [
             0.3333333333333333,
             "#9c179e"
            ],
            [
             0.4444444444444444,
             "#bd3786"
            ],
            [
             0.5555555555555556,
             "#d8576b"
            ],
            [
             0.6666666666666666,
             "#ed7953"
            ],
            [
             0.7777777777777778,
             "#fb9f3a"
            ],
            [
             0.8888888888888888,
             "#fdca26"
            ],
            [
             1,
             "#f0f921"
            ]
           ],
           "sequentialminus": [
            [
             0,
             "#0d0887"
            ],
            [
             0.1111111111111111,
             "#46039f"
            ],
            [
             0.2222222222222222,
             "#7201a8"
            ],
            [
             0.3333333333333333,
             "#9c179e"
            ],
            [
             0.4444444444444444,
             "#bd3786"
            ],
            [
             0.5555555555555556,
             "#d8576b"
            ],
            [
             0.6666666666666666,
             "#ed7953"
            ],
            [
             0.7777777777777778,
             "#fb9f3a"
            ],
            [
             0.8888888888888888,
             "#fdca26"
            ],
            [
             1,
             "#f0f921"
            ]
           ]
          },
          "colorway": [
           "#636efa",
           "#EF553B",
           "#00cc96",
           "#ab63fa",
           "#FFA15A",
           "#19d3f3",
           "#FF6692",
           "#B6E880",
           "#FF97FF",
           "#FECB52"
          ],
          "font": {
           "color": "#2a3f5f"
          },
          "geo": {
           "bgcolor": "white",
           "lakecolor": "white",
           "landcolor": "#E5ECF6",
           "showlakes": true,
           "showland": true,
           "subunitcolor": "white"
          },
          "hoverlabel": {
           "align": "left"
          },
          "hovermode": "closest",
          "mapbox": {
           "style": "light"
          },
          "paper_bgcolor": "white",
          "plot_bgcolor": "#E5ECF6",
          "polar": {
           "angularaxis": {
            "gridcolor": "white",
            "linecolor": "white",
            "ticks": ""
           },
           "bgcolor": "#E5ECF6",
           "radialaxis": {
            "gridcolor": "white",
            "linecolor": "white",
            "ticks": ""
           }
          },
          "scene": {
           "xaxis": {
            "backgroundcolor": "#E5ECF6",
            "gridcolor": "white",
            "gridwidth": 2,
            "linecolor": "white",
            "showbackground": true,
            "ticks": "",
            "zerolinecolor": "white"
           },
           "yaxis": {
            "backgroundcolor": "#E5ECF6",
            "gridcolor": "white",
            "gridwidth": 2,
            "linecolor": "white",
            "showbackground": true,
            "ticks": "",
            "zerolinecolor": "white"
           },
           "zaxis": {
            "backgroundcolor": "#E5ECF6",
            "gridcolor": "white",
            "gridwidth": 2,
            "linecolor": "white",
            "showbackground": true,
            "ticks": "",
            "zerolinecolor": "white"
           }
          },
          "shapedefaults": {
           "line": {
            "color": "#2a3f5f"
           }
          },
          "ternary": {
           "aaxis": {
            "gridcolor": "white",
            "linecolor": "white",
            "ticks": ""
           },
           "baxis": {
            "gridcolor": "white",
            "linecolor": "white",
            "ticks": ""
           },
           "bgcolor": "#E5ECF6",
           "caxis": {
            "gridcolor": "white",
            "linecolor": "white",
            "ticks": ""
           }
          },
          "title": {
           "x": 0.05
          },
          "xaxis": {
           "automargin": true,
           "gridcolor": "white",
           "linecolor": "white",
           "ticks": "",
           "title": {
            "standoff": 15
           },
           "zerolinecolor": "white",
           "zerolinewidth": 2
          },
          "yaxis": {
           "automargin": true,
           "gridcolor": "white",
           "linecolor": "white",
           "ticks": "",
           "title": {
            "standoff": 15
           },
           "zerolinecolor": "white",
           "zerolinewidth": 2
          }
         }
        },
        "title": {
         "text": "Top 20 hotels in the top 5 places where the weather is best in France in the next 7 days"
        },
        "width": 1200
       }
      }
     },
     "metadata": {},
     "output_type": "display_data"
    }
   ],
   "source": [
    "# Plot the map of the top 20 hotels in the top 5 places\n",
    "fig = px.scatter_map(top20_hotels, lat=\"hotel_lat\",\n",
    "                        lon=\"hotel_lon\",\n",
    "                        color='hotel_review',\n",
    "                        size='hotel_nbr_review',\n",
    "                        size_max=35,  \n",
    "                        title='Top 20 hotels in the top 5 places where the weather is best in France in the next 7 days',\n",
    "                        color_continuous_scale=\"Viridis\",\n",
    "                        opacity=0.7,\n",
    "                        hover_name='hotel_name',\n",
    "                        width=1200, height=900,  \n",
    "                        zoom=5)  \n",
    "fig.update_layout(margin={\"r\":10,\"t\":100,\"l\":10,\"b\":10})\n",
    "fig.show()\n",
    "fig.write_html(\"top_20_hotels.html\")"
   ]
  }
 ],
 "metadata": {
  "kernelspec": {
   "display_name": "Python 3",
   "language": "python",
   "name": "python3"
  },
  "language_info": {
   "codemirror_mode": {
    "name": "ipython",
    "version": 3
   },
   "file_extension": ".py",
   "mimetype": "text/x-python",
   "name": "python",
   "nbconvert_exporter": "python",
   "pygments_lexer": "ipython3",
   "version": "3.13.0"
  }
 },
 "nbformat": 4,
 "nbformat_minor": 2
}
