{
 "cells": [
  {
   "cell_type": "code",
   "execution_count": 10,
   "metadata": {},
   "outputs": [],
   "source": [
    "# Import libraries\n",
    "import pandas as pd\n",
    "import numpy as np\n",
    "import plotly.express as px\n",
    "\n",
    "import boto3\n",
    "from io import StringIO\n",
    "\n",
    "import os\n",
    "from dotenv import load_dotenv\n",
    "load_dotenv(dotenv_path=r'C:\\Users\\ambri\\Desktop\\vscodetraining\\Training\\FullStack\\.env')\n",
    "\n",
    "from sqlalchemy import create_engine, text\n",
    "from sqlalchemy.orm import sessionmaker"
   ]
  },
  {
   "cell_type": "markdown",
   "metadata": {},
   "source": [
    "# Exploratory Data Analysis to find the top 20 hotels in the top 5 cities"
   ]
  },
  {
   "cell_type": "code",
   "execution_count": 11,
   "metadata": {},
   "outputs": [
    {
     "data": {
      "text/html": [
       "<div>\n",
       "<style scoped>\n",
       "    .dataframe tbody tr th:only-of-type {\n",
       "        vertical-align: middle;\n",
       "    }\n",
       "\n",
       "    .dataframe tbody tr th {\n",
       "        vertical-align: top;\n",
       "    }\n",
       "\n",
       "    .dataframe thead th {\n",
       "        text-align: right;\n",
       "    }\n",
       "</style>\n",
       "<table border=\"1\" class=\"dataframe\">\n",
       "  <thead>\n",
       "    <tr style=\"text-align: right;\">\n",
       "      <th></th>\n",
       "      <th>city</th>\n",
       "      <th>hotel_lat</th>\n",
       "      <th>hotel_lon</th>\n",
       "      <th>hotel_name</th>\n",
       "      <th>hotel_review</th>\n",
       "      <th>hotel_nbr_review</th>\n",
       "      <th>hotel_address</th>\n",
       "      <th>hotel_facilities</th>\n",
       "      <th>hotel_desc</th>\n",
       "      <th>hotel_url</th>\n",
       "    </tr>\n",
       "  </thead>\n",
       "  <tbody>\n",
       "    <tr>\n",
       "      <th>0</th>\n",
       "      <td>Carcassonne</td>\n",
       "      <td>43.206183545263</td>\n",
       "      <td>2.361151027302</td>\n",
       "      <td>Studio pour 2 avec terrasse au pied de la Cité...</td>\n",
       "      <td>9,5</td>\n",
       "      <td>174 expériences vécues</td>\n",
       "      <td>36 Rue Longue, 11000 Carcassonne, France</td>\n",
       "      <td>Parking gratuit,Connexion Wi-Fi gratuite,Chamb...</td>\n",
       "      <td>L’hébergement Studio pour 2 avec terrasse au p...</td>\n",
       "      <td>https://www.booking.com/hotel/fr/studio-pour-2...</td>\n",
       "    </tr>\n",
       "    <tr>\n",
       "      <th>1</th>\n",
       "      <td>Carcassonne</td>\n",
       "      <td>43.2114588</td>\n",
       "      <td>2.3508581</td>\n",
       "      <td>Marius - studio au cœur de la bastide</td>\n",
       "      <td>8,0</td>\n",
       "      <td>112 expériences vécues</td>\n",
       "      <td>9 Ruelle Perrot, 11000 Carcassonne, France</td>\n",
       "      <td>Connexion Wi-Fi gratuite,Chambres non-fumeurs,...</td>\n",
       "      <td>L’hébergement Marius - studio au cœur de la ba...</td>\n",
       "      <td>https://www.booking.com/hotel/fr/marius-studio...</td>\n",
       "    </tr>\n",
       "    <tr>\n",
       "      <th>2</th>\n",
       "      <td>Aigues Mortes</td>\n",
       "      <td>43.5672196715711</td>\n",
       "      <td>4.189343601465225</td>\n",
       "      <td>Hôtel Saint Louis</td>\n",
       "      <td>8,5</td>\n",
       "      <td>1 577 expériences vécues</td>\n",
       "      <td>10, Rue Amiral Courbet, 30220 Aigues-Mortes, F...</td>\n",
       "      <td>Parking,Spa et centre de bien-être,Connexion W...</td>\n",
       "      <td>Situé dans le cœur historique d'Aigues-Mortes,...</td>\n",
       "      <td>https://www.booking.com/hotel/fr/saint-louis-a...</td>\n",
       "    </tr>\n",
       "    <tr>\n",
       "      <th>3</th>\n",
       "      <td>Carcassonne</td>\n",
       "      <td>43.2140544</td>\n",
       "      <td>2.3460563</td>\n",
       "      <td>Chez Pauline &amp; Vincent Côté Canal</td>\n",
       "      <td>9,8</td>\n",
       "      <td>11 expériences vécues</td>\n",
       "      <td>19 Avenue Pierre Charles Lespinasse, 11000 Car...</td>\n",
       "      <td>Parking gratuit,Connexion Wi-Fi gratuite,Chamb...</td>\n",
       "      <td>L’hébergement Chez Pauline &amp; Vincent Côté Cana...</td>\n",
       "      <td>https://www.booking.com/hotel/fr/cote-canal-ca...</td>\n",
       "    </tr>\n",
       "    <tr>\n",
       "      <th>4</th>\n",
       "      <td>Carcassonne</td>\n",
       "      <td>43.2082373962379</td>\n",
       "      <td>2.36704409122467</td>\n",
       "      <td>La Rapière</td>\n",
       "      <td>8,4</td>\n",
       "      <td>3 099 expériences vécues</td>\n",
       "      <td>9 Montée Gaston Combéléran, 11000 Carcassonne,...</td>\n",
       "      <td>Parking gratuit,Connexion Wi-Fi gratuite,Chamb...</td>\n",
       "      <td>La chambre d'hôtes La Rapiere est située à Car...</td>\n",
       "      <td>https://www.booking.com/hotel/fr/la-rapia-re.f...</td>\n",
       "    </tr>\n",
       "  </tbody>\n",
       "</table>\n",
       "</div>"
      ],
      "text/plain": [
       "            city         hotel_lat          hotel_lon  \\\n",
       "0    Carcassonne   43.206183545263     2.361151027302   \n",
       "1    Carcassonne        43.2114588          2.3508581   \n",
       "2  Aigues Mortes  43.5672196715711  4.189343601465225   \n",
       "3    Carcassonne        43.2140544          2.3460563   \n",
       "4    Carcassonne  43.2082373962379   2.36704409122467   \n",
       "\n",
       "                                          hotel_name hotel_review  \\\n",
       "0  Studio pour 2 avec terrasse au pied de la Cité...          9,5   \n",
       "1              Marius - studio au cœur de la bastide          8,0   \n",
       "2                                  Hôtel Saint Louis          8,5   \n",
       "3                  Chez Pauline & Vincent Côté Canal          9,8   \n",
       "4                                         La Rapière          8,4   \n",
       "\n",
       "           hotel_nbr_review  \\\n",
       "0    174 expériences vécues   \n",
       "1    112 expériences vécues   \n",
       "2  1 577 expériences vécues   \n",
       "3     11 expériences vécues   \n",
       "4  3 099 expériences vécues   \n",
       "\n",
       "                                       hotel_address  \\\n",
       "0           36 Rue Longue, 11000 Carcassonne, France   \n",
       "1         9 Ruelle Perrot, 11000 Carcassonne, France   \n",
       "2  10, Rue Amiral Courbet, 30220 Aigues-Mortes, F...   \n",
       "3  19 Avenue Pierre Charles Lespinasse, 11000 Car...   \n",
       "4  9 Montée Gaston Combéléran, 11000 Carcassonne,...   \n",
       "\n",
       "                                    hotel_facilities  \\\n",
       "0  Parking gratuit,Connexion Wi-Fi gratuite,Chamb...   \n",
       "1  Connexion Wi-Fi gratuite,Chambres non-fumeurs,...   \n",
       "2  Parking,Spa et centre de bien-être,Connexion W...   \n",
       "3  Parking gratuit,Connexion Wi-Fi gratuite,Chamb...   \n",
       "4  Parking gratuit,Connexion Wi-Fi gratuite,Chamb...   \n",
       "\n",
       "                                          hotel_desc  \\\n",
       "0  L’hébergement Studio pour 2 avec terrasse au p...   \n",
       "1  L’hébergement Marius - studio au cœur de la ba...   \n",
       "2  Situé dans le cœur historique d'Aigues-Mortes,...   \n",
       "3  L’hébergement Chez Pauline & Vincent Côté Cana...   \n",
       "4  La chambre d'hôtes La Rapiere est située à Car...   \n",
       "\n",
       "                                           hotel_url  \n",
       "0  https://www.booking.com/hotel/fr/studio-pour-2...  \n",
       "1  https://www.booking.com/hotel/fr/marius-studio...  \n",
       "2  https://www.booking.com/hotel/fr/saint-louis-a...  \n",
       "3  https://www.booking.com/hotel/fr/cote-canal-ca...  \n",
       "4  https://www.booking.com/hotel/fr/la-rapia-re.f...  "
      ]
     },
     "execution_count": 11,
     "metadata": {},
     "output_type": "execute_result"
    }
   ],
   "source": [
    "#Read the csv that we create in the scrap notebook\n",
    "df = pd.read_csv(\"Kayak_Project_scrap_booking.csv\")\n",
    "df.head()"
   ]
  },
  {
   "cell_type": "code",
   "execution_count": 12,
   "metadata": {},
   "outputs": [
    {
     "data": {
      "text/plain": [
       "city                object\n",
       "hotel_lat           object\n",
       "hotel_lon           object\n",
       "hotel_name          object\n",
       "hotel_review        object\n",
       "hotel_nbr_review    object\n",
       "hotel_address       object\n",
       "hotel_facilities    object\n",
       "hotel_desc          object\n",
       "hotel_url           object\n",
       "dtype: object"
      ]
     },
     "execution_count": 12,
     "metadata": {},
     "output_type": "execute_result"
    }
   ],
   "source": [
    "# Types of columns\n",
    "df.dtypes"
   ]
  },
  {
   "cell_type": "code",
   "execution_count": 13,
   "metadata": {},
   "outputs": [],
   "source": [
    "# Convert float data\n",
    "df['hotel_lat'] = pd.to_numeric(df['hotel_lat'], errors='coerce')\n",
    "df['hotel_lon'] = pd.to_numeric(df['hotel_lon'], errors='coerce')"
   ]
  },
  {
   "cell_type": "code",
   "execution_count": 14,
   "metadata": {},
   "outputs": [
    {
     "data": {
      "text/html": [
       "<div>\n",
       "<style scoped>\n",
       "    .dataframe tbody tr th:only-of-type {\n",
       "        vertical-align: middle;\n",
       "    }\n",
       "\n",
       "    .dataframe tbody tr th {\n",
       "        vertical-align: top;\n",
       "    }\n",
       "\n",
       "    .dataframe thead th {\n",
       "        text-align: right;\n",
       "    }\n",
       "</style>\n",
       "<table border=\"1\" class=\"dataframe\">\n",
       "  <thead>\n",
       "    <tr style=\"text-align: right;\">\n",
       "      <th></th>\n",
       "      <th>city</th>\n",
       "      <th>hotel_lat</th>\n",
       "      <th>hotel_lon</th>\n",
       "      <th>hotel_name</th>\n",
       "      <th>hotel_review</th>\n",
       "      <th>hotel_nbr_review</th>\n",
       "      <th>hotel_address</th>\n",
       "      <th>hotel_facilities</th>\n",
       "      <th>hotel_desc</th>\n",
       "      <th>hotel_url</th>\n",
       "    </tr>\n",
       "  </thead>\n",
       "  <tbody>\n",
       "    <tr>\n",
       "      <th>0</th>\n",
       "      <td>Carcassonne</td>\n",
       "      <td>43.206184</td>\n",
       "      <td>2.361151</td>\n",
       "      <td>Studio pour 2 avec terrasse au pied de la Cité...</td>\n",
       "      <td>9.5</td>\n",
       "      <td>174.0</td>\n",
       "      <td>36 Rue Longue, 11000 Carcassonne, France</td>\n",
       "      <td>Parking gratuit,Connexion Wi-Fi gratuite,Chamb...</td>\n",
       "      <td>L’hébergement Studio pour 2 avec terrasse au p...</td>\n",
       "      <td>https://www.booking.com/hotel/fr/studio-pour-2...</td>\n",
       "    </tr>\n",
       "    <tr>\n",
       "      <th>1</th>\n",
       "      <td>Carcassonne</td>\n",
       "      <td>43.211459</td>\n",
       "      <td>2.350858</td>\n",
       "      <td>Marius - studio au cœur de la bastide</td>\n",
       "      <td>8.0</td>\n",
       "      <td>112.0</td>\n",
       "      <td>9 Ruelle Perrot, 11000 Carcassonne, France</td>\n",
       "      <td>Connexion Wi-Fi gratuite,Chambres non-fumeurs,...</td>\n",
       "      <td>L’hébergement Marius - studio au cœur de la ba...</td>\n",
       "      <td>https://www.booking.com/hotel/fr/marius-studio...</td>\n",
       "    </tr>\n",
       "    <tr>\n",
       "      <th>2</th>\n",
       "      <td>Aigues Mortes</td>\n",
       "      <td>43.567220</td>\n",
       "      <td>4.189344</td>\n",
       "      <td>Hôtel Saint Louis</td>\n",
       "      <td>8.5</td>\n",
       "      <td>1.0</td>\n",
       "      <td>10, Rue Amiral Courbet, 30220 Aigues-Mortes, F...</td>\n",
       "      <td>Parking,Spa et centre de bien-être,Connexion W...</td>\n",
       "      <td>Situé dans le cœur historique d'Aigues-Mortes,...</td>\n",
       "      <td>https://www.booking.com/hotel/fr/saint-louis-a...</td>\n",
       "    </tr>\n",
       "    <tr>\n",
       "      <th>3</th>\n",
       "      <td>Carcassonne</td>\n",
       "      <td>43.214054</td>\n",
       "      <td>2.346056</td>\n",
       "      <td>Chez Pauline &amp; Vincent Côté Canal</td>\n",
       "      <td>9.8</td>\n",
       "      <td>11.0</td>\n",
       "      <td>19 Avenue Pierre Charles Lespinasse, 11000 Car...</td>\n",
       "      <td>Parking gratuit,Connexion Wi-Fi gratuite,Chamb...</td>\n",
       "      <td>L’hébergement Chez Pauline &amp; Vincent Côté Cana...</td>\n",
       "      <td>https://www.booking.com/hotel/fr/cote-canal-ca...</td>\n",
       "    </tr>\n",
       "    <tr>\n",
       "      <th>4</th>\n",
       "      <td>Carcassonne</td>\n",
       "      <td>43.208237</td>\n",
       "      <td>2.367044</td>\n",
       "      <td>La Rapière</td>\n",
       "      <td>8.4</td>\n",
       "      <td>3.0</td>\n",
       "      <td>9 Montée Gaston Combéléran, 11000 Carcassonne,...</td>\n",
       "      <td>Parking gratuit,Connexion Wi-Fi gratuite,Chamb...</td>\n",
       "      <td>La chambre d'hôtes La Rapiere est située à Car...</td>\n",
       "      <td>https://www.booking.com/hotel/fr/la-rapia-re.f...</td>\n",
       "    </tr>\n",
       "  </tbody>\n",
       "</table>\n",
       "</div>"
      ],
      "text/plain": [
       "            city  hotel_lat  hotel_lon  \\\n",
       "0    Carcassonne  43.206184   2.361151   \n",
       "1    Carcassonne  43.211459   2.350858   \n",
       "2  Aigues Mortes  43.567220   4.189344   \n",
       "3    Carcassonne  43.214054   2.346056   \n",
       "4    Carcassonne  43.208237   2.367044   \n",
       "\n",
       "                                          hotel_name  hotel_review  \\\n",
       "0  Studio pour 2 avec terrasse au pied de la Cité...           9.5   \n",
       "1              Marius - studio au cœur de la bastide           8.0   \n",
       "2                                  Hôtel Saint Louis           8.5   \n",
       "3                  Chez Pauline & Vincent Côté Canal           9.8   \n",
       "4                                         La Rapière           8.4   \n",
       "\n",
       "   hotel_nbr_review                                      hotel_address  \\\n",
       "0             174.0           36 Rue Longue, 11000 Carcassonne, France   \n",
       "1             112.0         9 Ruelle Perrot, 11000 Carcassonne, France   \n",
       "2               1.0  10, Rue Amiral Courbet, 30220 Aigues-Mortes, F...   \n",
       "3              11.0  19 Avenue Pierre Charles Lespinasse, 11000 Car...   \n",
       "4               3.0  9 Montée Gaston Combéléran, 11000 Carcassonne,...   \n",
       "\n",
       "                                    hotel_facilities  \\\n",
       "0  Parking gratuit,Connexion Wi-Fi gratuite,Chamb...   \n",
       "1  Connexion Wi-Fi gratuite,Chambres non-fumeurs,...   \n",
       "2  Parking,Spa et centre de bien-être,Connexion W...   \n",
       "3  Parking gratuit,Connexion Wi-Fi gratuite,Chamb...   \n",
       "4  Parking gratuit,Connexion Wi-Fi gratuite,Chamb...   \n",
       "\n",
       "                                          hotel_desc  \\\n",
       "0  L’hébergement Studio pour 2 avec terrasse au p...   \n",
       "1  L’hébergement Marius - studio au cœur de la ba...   \n",
       "2  Situé dans le cœur historique d'Aigues-Mortes,...   \n",
       "3  L’hébergement Chez Pauline & Vincent Côté Cana...   \n",
       "4  La chambre d'hôtes La Rapiere est située à Car...   \n",
       "\n",
       "                                           hotel_url  \n",
       "0  https://www.booking.com/hotel/fr/studio-pour-2...  \n",
       "1  https://www.booking.com/hotel/fr/marius-studio...  \n",
       "2  https://www.booking.com/hotel/fr/saint-louis-a...  \n",
       "3  https://www.booking.com/hotel/fr/cote-canal-ca...  \n",
       "4  https://www.booking.com/hotel/fr/la-rapia-re.f...  "
      ]
     },
     "execution_count": 14,
     "metadata": {},
     "output_type": "execute_result"
    }
   ],
   "source": [
    "#Clean the str to have only float\n",
    "df['hotel_nbr_review'] = df['hotel_nbr_review'].str.extract(r'([\\d.]+)')\n",
    "df['hotel_nbr_review'] = pd.to_numeric(df['hotel_nbr_review'])\n",
    "\n",
    "#Standardization of the object then transform to numeric\n",
    "df['hotel_review'] = df['hotel_review'].str.replace(',', '.')\n",
    "df['hotel_review'] = pd.to_numeric(df['hotel_review'], errors='coerce')\n",
    "\n",
    "# Load the dataframe in a data lake : S3 bucket\n",
    "session = boto3.Session(aws_access_key_id=os.environ[\"AWS_ACCESS_KEY\"], \n",
    "                        aws_secret_access_key=os.environ[\"AWS_SECRET_ACCESS_KEY\"])\n",
    "\n",
    "s3 = session.resource(\"s3\")\n",
    "\n",
    "bucket = s3.create_bucket(Bucket=\"citiesinfoskayakjedha\")\n",
    "\n",
    "# Transform the dataframe into a csv. and upload the CSV file to S3\n",
    "csv = df.to_csv()\n",
    "put_object = bucket.put_object(Key=\"all_hotel_info.csv\", Body=csv)\n",
    "\n",
    "df.head()"
   ]
  },
  {
   "cell_type": "code",
   "execution_count": 15,
   "metadata": {},
   "outputs": [
    {
     "ename": "OperationalError",
     "evalue": "(psycopg2.OperationalError) could not translate host name \"database-2.c368u40ewjg3.eu-west-3.rds.amazonaws.com\" to address: Name or service not known\n\n(Background on this error at: https://sqlalche.me/e/20/e3q8)",
     "output_type": "error",
     "traceback": [
      "\u001b[1;31m---------------------------------------------------------------------------\u001b[0m",
      "\u001b[1;31mOperationalError\u001b[0m                          Traceback (most recent call last)",
      "File \u001b[1;32mc:\\Users\\ambri\\AppData\\Local\\Programs\\Python\\Python313\\Lib\\site-packages\\sqlalchemy\\engine\\base.py:146\u001b[0m, in \u001b[0;36mConnection.__init__\u001b[1;34m(self, engine, connection, _has_events, _allow_revalidate, _allow_autobegin)\u001b[0m\n\u001b[0;32m    145\u001b[0m \u001b[38;5;28;01mtry\u001b[39;00m:\n\u001b[1;32m--> 146\u001b[0m     \u001b[38;5;28mself\u001b[39m\u001b[38;5;241m.\u001b[39m_dbapi_connection \u001b[38;5;241m=\u001b[39m \u001b[43mengine\u001b[49m\u001b[38;5;241;43m.\u001b[39;49m\u001b[43mraw_connection\u001b[49m\u001b[43m(\u001b[49m\u001b[43m)\u001b[49m\n\u001b[0;32m    147\u001b[0m \u001b[38;5;28;01mexcept\u001b[39;00m dialect\u001b[38;5;241m.\u001b[39mloaded_dbapi\u001b[38;5;241m.\u001b[39mError \u001b[38;5;28;01mas\u001b[39;00m err:\n",
      "File \u001b[1;32mc:\\Users\\ambri\\AppData\\Local\\Programs\\Python\\Python313\\Lib\\site-packages\\sqlalchemy\\engine\\base.py:3298\u001b[0m, in \u001b[0;36mEngine.raw_connection\u001b[1;34m(self)\u001b[0m\n\u001b[0;32m   3277\u001b[0m \u001b[38;5;250m\u001b[39m\u001b[38;5;124;03m\"\"\"Return a \"raw\" DBAPI connection from the connection pool.\u001b[39;00m\n\u001b[0;32m   3278\u001b[0m \n\u001b[0;32m   3279\u001b[0m \u001b[38;5;124;03mThe returned object is a proxied version of the DBAPI\u001b[39;00m\n\u001b[1;32m   (...)\u001b[0m\n\u001b[0;32m   3296\u001b[0m \n\u001b[0;32m   3297\u001b[0m \u001b[38;5;124;03m\"\"\"\u001b[39;00m\n\u001b[1;32m-> 3298\u001b[0m \u001b[38;5;28;01mreturn\u001b[39;00m \u001b[38;5;28;43mself\u001b[39;49m\u001b[38;5;241;43m.\u001b[39;49m\u001b[43mpool\u001b[49m\u001b[38;5;241;43m.\u001b[39;49m\u001b[43mconnect\u001b[49m\u001b[43m(\u001b[49m\u001b[43m)\u001b[49m\n",
      "File \u001b[1;32mc:\\Users\\ambri\\AppData\\Local\\Programs\\Python\\Python313\\Lib\\site-packages\\sqlalchemy\\pool\\base.py:449\u001b[0m, in \u001b[0;36mPool.connect\u001b[1;34m(self)\u001b[0m\n\u001b[0;32m    442\u001b[0m \u001b[38;5;250m\u001b[39m\u001b[38;5;124;03m\"\"\"Return a DBAPI connection from the pool.\u001b[39;00m\n\u001b[0;32m    443\u001b[0m \n\u001b[0;32m    444\u001b[0m \u001b[38;5;124;03mThe connection is instrumented such that when its\u001b[39;00m\n\u001b[1;32m   (...)\u001b[0m\n\u001b[0;32m    447\u001b[0m \n\u001b[0;32m    448\u001b[0m \u001b[38;5;124;03m\"\"\"\u001b[39;00m\n\u001b[1;32m--> 449\u001b[0m \u001b[38;5;28;01mreturn\u001b[39;00m \u001b[43m_ConnectionFairy\u001b[49m\u001b[38;5;241;43m.\u001b[39;49m\u001b[43m_checkout\u001b[49m\u001b[43m(\u001b[49m\u001b[38;5;28;43mself\u001b[39;49m\u001b[43m)\u001b[49m\n",
      "File \u001b[1;32mc:\\Users\\ambri\\AppData\\Local\\Programs\\Python\\Python313\\Lib\\site-packages\\sqlalchemy\\pool\\base.py:1263\u001b[0m, in \u001b[0;36m_ConnectionFairy._checkout\u001b[1;34m(cls, pool, threadconns, fairy)\u001b[0m\n\u001b[0;32m   1262\u001b[0m \u001b[38;5;28;01mif\u001b[39;00m \u001b[38;5;129;01mnot\u001b[39;00m fairy:\n\u001b[1;32m-> 1263\u001b[0m     fairy \u001b[38;5;241m=\u001b[39m \u001b[43m_ConnectionRecord\u001b[49m\u001b[38;5;241;43m.\u001b[39;49m\u001b[43mcheckout\u001b[49m\u001b[43m(\u001b[49m\u001b[43mpool\u001b[49m\u001b[43m)\u001b[49m\n\u001b[0;32m   1265\u001b[0m     \u001b[38;5;28;01mif\u001b[39;00m threadconns \u001b[38;5;129;01mis\u001b[39;00m \u001b[38;5;129;01mnot\u001b[39;00m \u001b[38;5;28;01mNone\u001b[39;00m:\n",
      "File \u001b[1;32mc:\\Users\\ambri\\AppData\\Local\\Programs\\Python\\Python313\\Lib\\site-packages\\sqlalchemy\\pool\\base.py:712\u001b[0m, in \u001b[0;36m_ConnectionRecord.checkout\u001b[1;34m(cls, pool)\u001b[0m\n\u001b[0;32m    711\u001b[0m \u001b[38;5;28;01melse\u001b[39;00m:\n\u001b[1;32m--> 712\u001b[0m     rec \u001b[38;5;241m=\u001b[39m \u001b[43mpool\u001b[49m\u001b[38;5;241;43m.\u001b[39;49m\u001b[43m_do_get\u001b[49m\u001b[43m(\u001b[49m\u001b[43m)\u001b[49m\n\u001b[0;32m    714\u001b[0m \u001b[38;5;28;01mtry\u001b[39;00m:\n",
      "File \u001b[1;32mc:\\Users\\ambri\\AppData\\Local\\Programs\\Python\\Python313\\Lib\\site-packages\\sqlalchemy\\pool\\impl.py:179\u001b[0m, in \u001b[0;36mQueuePool._do_get\u001b[1;34m(self)\u001b[0m\n\u001b[0;32m    178\u001b[0m \u001b[38;5;28;01mexcept\u001b[39;00m:\n\u001b[1;32m--> 179\u001b[0m     \u001b[38;5;28;01mwith\u001b[39;00m \u001b[43mutil\u001b[49m\u001b[38;5;241;43m.\u001b[39;49m\u001b[43msafe_reraise\u001b[49m\u001b[43m(\u001b[49m\u001b[43m)\u001b[49m:\n\u001b[0;32m    180\u001b[0m         \u001b[38;5;28mself\u001b[39m\u001b[38;5;241m.\u001b[39m_dec_overflow()\n",
      "File \u001b[1;32mc:\\Users\\ambri\\AppData\\Local\\Programs\\Python\\Python313\\Lib\\site-packages\\sqlalchemy\\util\\langhelpers.py:146\u001b[0m, in \u001b[0;36msafe_reraise.__exit__\u001b[1;34m(self, type_, value, traceback)\u001b[0m\n\u001b[0;32m    145\u001b[0m     \u001b[38;5;28mself\u001b[39m\u001b[38;5;241m.\u001b[39m_exc_info \u001b[38;5;241m=\u001b[39m \u001b[38;5;28;01mNone\u001b[39;00m  \u001b[38;5;66;03m# remove potential circular references\u001b[39;00m\n\u001b[1;32m--> 146\u001b[0m     \u001b[38;5;28;01mraise\u001b[39;00m exc_value\u001b[38;5;241m.\u001b[39mwith_traceback(exc_tb)\n\u001b[0;32m    147\u001b[0m \u001b[38;5;28;01melse\u001b[39;00m:\n",
      "File \u001b[1;32mc:\\Users\\ambri\\AppData\\Local\\Programs\\Python\\Python313\\Lib\\site-packages\\sqlalchemy\\pool\\impl.py:177\u001b[0m, in \u001b[0;36mQueuePool._do_get\u001b[1;34m(self)\u001b[0m\n\u001b[0;32m    176\u001b[0m \u001b[38;5;28;01mtry\u001b[39;00m:\n\u001b[1;32m--> 177\u001b[0m     \u001b[38;5;28;01mreturn\u001b[39;00m \u001b[38;5;28;43mself\u001b[39;49m\u001b[38;5;241;43m.\u001b[39;49m\u001b[43m_create_connection\u001b[49m\u001b[43m(\u001b[49m\u001b[43m)\u001b[49m\n\u001b[0;32m    178\u001b[0m \u001b[38;5;28;01mexcept\u001b[39;00m:\n",
      "File \u001b[1;32mc:\\Users\\ambri\\AppData\\Local\\Programs\\Python\\Python313\\Lib\\site-packages\\sqlalchemy\\pool\\base.py:390\u001b[0m, in \u001b[0;36mPool._create_connection\u001b[1;34m(self)\u001b[0m\n\u001b[0;32m    388\u001b[0m \u001b[38;5;250m\u001b[39m\u001b[38;5;124;03m\"\"\"Called by subclasses to create a new ConnectionRecord.\"\"\"\u001b[39;00m\n\u001b[1;32m--> 390\u001b[0m \u001b[38;5;28;01mreturn\u001b[39;00m \u001b[43m_ConnectionRecord\u001b[49m\u001b[43m(\u001b[49m\u001b[38;5;28;43mself\u001b[39;49m\u001b[43m)\u001b[49m\n",
      "File \u001b[1;32mc:\\Users\\ambri\\AppData\\Local\\Programs\\Python\\Python313\\Lib\\site-packages\\sqlalchemy\\pool\\base.py:674\u001b[0m, in \u001b[0;36m_ConnectionRecord.__init__\u001b[1;34m(self, pool, connect)\u001b[0m\n\u001b[0;32m    673\u001b[0m \u001b[38;5;28;01mif\u001b[39;00m connect:\n\u001b[1;32m--> 674\u001b[0m     \u001b[38;5;28;43mself\u001b[39;49m\u001b[38;5;241;43m.\u001b[39;49m\u001b[43m__connect\u001b[49m\u001b[43m(\u001b[49m\u001b[43m)\u001b[49m\n\u001b[0;32m    675\u001b[0m \u001b[38;5;28mself\u001b[39m\u001b[38;5;241m.\u001b[39mfinalize_callback \u001b[38;5;241m=\u001b[39m deque()\n",
      "File \u001b[1;32mc:\\Users\\ambri\\AppData\\Local\\Programs\\Python\\Python313\\Lib\\site-packages\\sqlalchemy\\pool\\base.py:900\u001b[0m, in \u001b[0;36m_ConnectionRecord.__connect\u001b[1;34m(self)\u001b[0m\n\u001b[0;32m    899\u001b[0m \u001b[38;5;28;01mexcept\u001b[39;00m \u001b[38;5;167;01mBaseException\u001b[39;00m \u001b[38;5;28;01mas\u001b[39;00m e:\n\u001b[1;32m--> 900\u001b[0m     \u001b[38;5;28;01mwith\u001b[39;00m \u001b[43mutil\u001b[49m\u001b[38;5;241;43m.\u001b[39;49m\u001b[43msafe_reraise\u001b[49m\u001b[43m(\u001b[49m\u001b[43m)\u001b[49m:\n\u001b[0;32m    901\u001b[0m         pool\u001b[38;5;241m.\u001b[39mlogger\u001b[38;5;241m.\u001b[39mdebug(\u001b[38;5;124m\"\u001b[39m\u001b[38;5;124mError on connect(): \u001b[39m\u001b[38;5;132;01m%s\u001b[39;00m\u001b[38;5;124m\"\u001b[39m, e)\n",
      "File \u001b[1;32mc:\\Users\\ambri\\AppData\\Local\\Programs\\Python\\Python313\\Lib\\site-packages\\sqlalchemy\\util\\langhelpers.py:146\u001b[0m, in \u001b[0;36msafe_reraise.__exit__\u001b[1;34m(self, type_, value, traceback)\u001b[0m\n\u001b[0;32m    145\u001b[0m     \u001b[38;5;28mself\u001b[39m\u001b[38;5;241m.\u001b[39m_exc_info \u001b[38;5;241m=\u001b[39m \u001b[38;5;28;01mNone\u001b[39;00m  \u001b[38;5;66;03m# remove potential circular references\u001b[39;00m\n\u001b[1;32m--> 146\u001b[0m     \u001b[38;5;28;01mraise\u001b[39;00m exc_value\u001b[38;5;241m.\u001b[39mwith_traceback(exc_tb)\n\u001b[0;32m    147\u001b[0m \u001b[38;5;28;01melse\u001b[39;00m:\n",
      "File \u001b[1;32mc:\\Users\\ambri\\AppData\\Local\\Programs\\Python\\Python313\\Lib\\site-packages\\sqlalchemy\\pool\\base.py:896\u001b[0m, in \u001b[0;36m_ConnectionRecord.__connect\u001b[1;34m(self)\u001b[0m\n\u001b[0;32m    895\u001b[0m \u001b[38;5;28mself\u001b[39m\u001b[38;5;241m.\u001b[39mstarttime \u001b[38;5;241m=\u001b[39m time\u001b[38;5;241m.\u001b[39mtime()\n\u001b[1;32m--> 896\u001b[0m \u001b[38;5;28mself\u001b[39m\u001b[38;5;241m.\u001b[39mdbapi_connection \u001b[38;5;241m=\u001b[39m connection \u001b[38;5;241m=\u001b[39m \u001b[43mpool\u001b[49m\u001b[38;5;241;43m.\u001b[39;49m\u001b[43m_invoke_creator\u001b[49m\u001b[43m(\u001b[49m\u001b[38;5;28;43mself\u001b[39;49m\u001b[43m)\u001b[49m\n\u001b[0;32m    897\u001b[0m pool\u001b[38;5;241m.\u001b[39mlogger\u001b[38;5;241m.\u001b[39mdebug(\u001b[38;5;124m\"\u001b[39m\u001b[38;5;124mCreated new connection \u001b[39m\u001b[38;5;132;01m%r\u001b[39;00m\u001b[38;5;124m\"\u001b[39m, connection)\n",
      "File \u001b[1;32mc:\\Users\\ambri\\AppData\\Local\\Programs\\Python\\Python313\\Lib\\site-packages\\sqlalchemy\\engine\\create.py:646\u001b[0m, in \u001b[0;36mcreate_engine.<locals>.connect\u001b[1;34m(connection_record)\u001b[0m\n\u001b[0;32m    644\u001b[0m             \u001b[38;5;28;01mreturn\u001b[39;00m connection\n\u001b[1;32m--> 646\u001b[0m \u001b[38;5;28;01mreturn\u001b[39;00m \u001b[43mdialect\u001b[49m\u001b[38;5;241;43m.\u001b[39;49m\u001b[43mconnect\u001b[49m\u001b[43m(\u001b[49m\u001b[38;5;241;43m*\u001b[39;49m\u001b[43mcargs\u001b[49m\u001b[43m,\u001b[49m\u001b[43m \u001b[49m\u001b[38;5;241;43m*\u001b[39;49m\u001b[38;5;241;43m*\u001b[39;49m\u001b[43mcparams\u001b[49m\u001b[43m)\u001b[49m\n",
      "File \u001b[1;32mc:\\Users\\ambri\\AppData\\Local\\Programs\\Python\\Python313\\Lib\\site-packages\\sqlalchemy\\engine\\default.py:622\u001b[0m, in \u001b[0;36mDefaultDialect.connect\u001b[1;34m(self, *cargs, **cparams)\u001b[0m\n\u001b[0;32m    620\u001b[0m \u001b[38;5;28;01mdef\u001b[39;00m \u001b[38;5;21mconnect\u001b[39m(\u001b[38;5;28mself\u001b[39m, \u001b[38;5;241m*\u001b[39mcargs, \u001b[38;5;241m*\u001b[39m\u001b[38;5;241m*\u001b[39mcparams):\n\u001b[0;32m    621\u001b[0m     \u001b[38;5;66;03m# inherits the docstring from interfaces.Dialect.connect\u001b[39;00m\n\u001b[1;32m--> 622\u001b[0m     \u001b[38;5;28;01mreturn\u001b[39;00m \u001b[38;5;28;43mself\u001b[39;49m\u001b[38;5;241;43m.\u001b[39;49m\u001b[43mloaded_dbapi\u001b[49m\u001b[38;5;241;43m.\u001b[39;49m\u001b[43mconnect\u001b[49m\u001b[43m(\u001b[49m\u001b[38;5;241;43m*\u001b[39;49m\u001b[43mcargs\u001b[49m\u001b[43m,\u001b[49m\u001b[43m \u001b[49m\u001b[38;5;241;43m*\u001b[39;49m\u001b[38;5;241;43m*\u001b[39;49m\u001b[43mcparams\u001b[49m\u001b[43m)\u001b[49m\n",
      "File \u001b[1;32mc:\\Users\\ambri\\AppData\\Local\\Programs\\Python\\Python313\\Lib\\site-packages\\psycopg2\\__init__.py:135\u001b[0m, in \u001b[0;36mconnect\u001b[1;34m(dsn, connection_factory, cursor_factory, **kwargs)\u001b[0m\n\u001b[0;32m    134\u001b[0m dsn \u001b[38;5;241m=\u001b[39m _ext\u001b[38;5;241m.\u001b[39mmake_dsn(dsn, \u001b[38;5;241m*\u001b[39m\u001b[38;5;241m*\u001b[39mkwargs)\n\u001b[1;32m--> 135\u001b[0m conn \u001b[38;5;241m=\u001b[39m \u001b[43m_connect\u001b[49m\u001b[43m(\u001b[49m\u001b[43mdsn\u001b[49m\u001b[43m,\u001b[49m\u001b[43m \u001b[49m\u001b[43mconnection_factory\u001b[49m\u001b[38;5;241;43m=\u001b[39;49m\u001b[43mconnection_factory\u001b[49m\u001b[43m,\u001b[49m\u001b[43m \u001b[49m\u001b[38;5;241;43m*\u001b[39;49m\u001b[38;5;241;43m*\u001b[39;49m\u001b[43mkwasync\u001b[49m\u001b[43m)\u001b[49m\n\u001b[0;32m    136\u001b[0m \u001b[38;5;28;01mif\u001b[39;00m cursor_factory \u001b[38;5;129;01mis\u001b[39;00m \u001b[38;5;129;01mnot\u001b[39;00m \u001b[38;5;28;01mNone\u001b[39;00m:\n",
      "\u001b[1;31mOperationalError\u001b[0m: could not translate host name \"database-2.c368u40ewjg3.eu-west-3.rds.amazonaws.com\" to address: Name or service not known\n",
      "\nThe above exception was the direct cause of the following exception:\n",
      "\u001b[1;31mOperationalError\u001b[0m                          Traceback (most recent call last)",
      "Cell \u001b[1;32mIn[15], line 11\u001b[0m\n\u001b[0;32m      8\u001b[0m session \u001b[38;5;241m=\u001b[39m Session()\n\u001b[0;32m     10\u001b[0m \u001b[38;5;66;03m# Storing the dataframe as SQL tables\u001b[39;00m\n\u001b[1;32m---> 11\u001b[0m \u001b[43mdf\u001b[49m\u001b[38;5;241;43m.\u001b[39;49m\u001b[43mto_sql\u001b[49m\u001b[43m(\u001b[49m\u001b[38;5;124;43m'\u001b[39;49m\u001b[38;5;124;43mhotel_info\u001b[39;49m\u001b[38;5;124;43m'\u001b[39;49m\u001b[43m,\u001b[49m\u001b[43m \u001b[49m\u001b[43mcon\u001b[49m\u001b[38;5;241;43m=\u001b[39;49m\u001b[43mengine\u001b[49m\u001b[43m,\u001b[49m\u001b[43m \u001b[49m\u001b[43mif_exists\u001b[49m\u001b[38;5;241;43m=\u001b[39;49m\u001b[38;5;124;43m'\u001b[39;49m\u001b[38;5;124;43mreplace\u001b[39;49m\u001b[38;5;124;43m'\u001b[39;49m\u001b[43m,\u001b[49m\u001b[43m \u001b[49m\u001b[43mindex\u001b[49m\u001b[38;5;241;43m=\u001b[39;49m\u001b[38;5;28;43;01mFalse\u001b[39;49;00m\u001b[43m)\u001b[49m\n",
      "File \u001b[1;32mc:\\Users\\ambri\\AppData\\Local\\Programs\\Python\\Python313\\Lib\\site-packages\\pandas\\util\\_decorators.py:333\u001b[0m, in \u001b[0;36mdeprecate_nonkeyword_arguments.<locals>.decorate.<locals>.wrapper\u001b[1;34m(*args, **kwargs)\u001b[0m\n\u001b[0;32m    327\u001b[0m \u001b[38;5;28;01mif\u001b[39;00m \u001b[38;5;28mlen\u001b[39m(args) \u001b[38;5;241m>\u001b[39m num_allow_args:\n\u001b[0;32m    328\u001b[0m     warnings\u001b[38;5;241m.\u001b[39mwarn(\n\u001b[0;32m    329\u001b[0m         msg\u001b[38;5;241m.\u001b[39mformat(arguments\u001b[38;5;241m=\u001b[39m_format_argument_list(allow_args)),\n\u001b[0;32m    330\u001b[0m         \u001b[38;5;167;01mFutureWarning\u001b[39;00m,\n\u001b[0;32m    331\u001b[0m         stacklevel\u001b[38;5;241m=\u001b[39mfind_stack_level(),\n\u001b[0;32m    332\u001b[0m     )\n\u001b[1;32m--> 333\u001b[0m \u001b[38;5;28;01mreturn\u001b[39;00m \u001b[43mfunc\u001b[49m\u001b[43m(\u001b[49m\u001b[38;5;241;43m*\u001b[39;49m\u001b[43margs\u001b[49m\u001b[43m,\u001b[49m\u001b[43m \u001b[49m\u001b[38;5;241;43m*\u001b[39;49m\u001b[38;5;241;43m*\u001b[39;49m\u001b[43mkwargs\u001b[49m\u001b[43m)\u001b[49m\n",
      "File \u001b[1;32mc:\\Users\\ambri\\AppData\\Local\\Programs\\Python\\Python313\\Lib\\site-packages\\pandas\\core\\generic.py:3087\u001b[0m, in \u001b[0;36mNDFrame.to_sql\u001b[1;34m(self, name, con, schema, if_exists, index, index_label, chunksize, dtype, method)\u001b[0m\n\u001b[0;32m   2889\u001b[0m \u001b[38;5;250m\u001b[39m\u001b[38;5;124;03m\"\"\"\u001b[39;00m\n\u001b[0;32m   2890\u001b[0m \u001b[38;5;124;03mWrite records stored in a DataFrame to a SQL database.\u001b[39;00m\n\u001b[0;32m   2891\u001b[0m \n\u001b[1;32m   (...)\u001b[0m\n\u001b[0;32m   3083\u001b[0m \u001b[38;5;124;03m[(1,), (None,), (2,)]\u001b[39;00m\n\u001b[0;32m   3084\u001b[0m \u001b[38;5;124;03m\"\"\"\u001b[39;00m  \u001b[38;5;66;03m# noqa: E501\u001b[39;00m\n\u001b[0;32m   3085\u001b[0m \u001b[38;5;28;01mfrom\u001b[39;00m \u001b[38;5;21;01mpandas\u001b[39;00m\u001b[38;5;21;01m.\u001b[39;00m\u001b[38;5;21;01mio\u001b[39;00m \u001b[38;5;28;01mimport\u001b[39;00m sql\n\u001b[1;32m-> 3087\u001b[0m \u001b[38;5;28;01mreturn\u001b[39;00m \u001b[43msql\u001b[49m\u001b[38;5;241;43m.\u001b[39;49m\u001b[43mto_sql\u001b[49m\u001b[43m(\u001b[49m\n\u001b[0;32m   3088\u001b[0m \u001b[43m    \u001b[49m\u001b[38;5;28;43mself\u001b[39;49m\u001b[43m,\u001b[49m\n\u001b[0;32m   3089\u001b[0m \u001b[43m    \u001b[49m\u001b[43mname\u001b[49m\u001b[43m,\u001b[49m\n\u001b[0;32m   3090\u001b[0m \u001b[43m    \u001b[49m\u001b[43mcon\u001b[49m\u001b[43m,\u001b[49m\n\u001b[0;32m   3091\u001b[0m \u001b[43m    \u001b[49m\u001b[43mschema\u001b[49m\u001b[38;5;241;43m=\u001b[39;49m\u001b[43mschema\u001b[49m\u001b[43m,\u001b[49m\n\u001b[0;32m   3092\u001b[0m \u001b[43m    \u001b[49m\u001b[43mif_exists\u001b[49m\u001b[38;5;241;43m=\u001b[39;49m\u001b[43mif_exists\u001b[49m\u001b[43m,\u001b[49m\n\u001b[0;32m   3093\u001b[0m \u001b[43m    \u001b[49m\u001b[43mindex\u001b[49m\u001b[38;5;241;43m=\u001b[39;49m\u001b[43mindex\u001b[49m\u001b[43m,\u001b[49m\n\u001b[0;32m   3094\u001b[0m \u001b[43m    \u001b[49m\u001b[43mindex_label\u001b[49m\u001b[38;5;241;43m=\u001b[39;49m\u001b[43mindex_label\u001b[49m\u001b[43m,\u001b[49m\n\u001b[0;32m   3095\u001b[0m \u001b[43m    \u001b[49m\u001b[43mchunksize\u001b[49m\u001b[38;5;241;43m=\u001b[39;49m\u001b[43mchunksize\u001b[49m\u001b[43m,\u001b[49m\n\u001b[0;32m   3096\u001b[0m \u001b[43m    \u001b[49m\u001b[43mdtype\u001b[49m\u001b[38;5;241;43m=\u001b[39;49m\u001b[43mdtype\u001b[49m\u001b[43m,\u001b[49m\n\u001b[0;32m   3097\u001b[0m \u001b[43m    \u001b[49m\u001b[43mmethod\u001b[49m\u001b[38;5;241;43m=\u001b[39;49m\u001b[43mmethod\u001b[49m\u001b[43m,\u001b[49m\n\u001b[0;32m   3098\u001b[0m \u001b[43m\u001b[49m\u001b[43m)\u001b[49m\n",
      "File \u001b[1;32mc:\\Users\\ambri\\AppData\\Local\\Programs\\Python\\Python313\\Lib\\site-packages\\pandas\\io\\sql.py:841\u001b[0m, in \u001b[0;36mto_sql\u001b[1;34m(frame, name, con, schema, if_exists, index, index_label, chunksize, dtype, method, engine, **engine_kwargs)\u001b[0m\n\u001b[0;32m    836\u001b[0m \u001b[38;5;28;01melif\u001b[39;00m \u001b[38;5;129;01mnot\u001b[39;00m \u001b[38;5;28misinstance\u001b[39m(frame, DataFrame):\n\u001b[0;32m    837\u001b[0m     \u001b[38;5;28;01mraise\u001b[39;00m \u001b[38;5;167;01mNotImplementedError\u001b[39;00m(\n\u001b[0;32m    838\u001b[0m         \u001b[38;5;124m\"\u001b[39m\u001b[38;5;124m'\u001b[39m\u001b[38;5;124mframe\u001b[39m\u001b[38;5;124m'\u001b[39m\u001b[38;5;124m argument should be either a Series or a DataFrame\u001b[39m\u001b[38;5;124m\"\u001b[39m\n\u001b[0;32m    839\u001b[0m     )\n\u001b[1;32m--> 841\u001b[0m \u001b[38;5;28;01mwith\u001b[39;00m \u001b[43mpandasSQL_builder\u001b[49m\u001b[43m(\u001b[49m\u001b[43mcon\u001b[49m\u001b[43m,\u001b[49m\u001b[43m \u001b[49m\u001b[43mschema\u001b[49m\u001b[38;5;241;43m=\u001b[39;49m\u001b[43mschema\u001b[49m\u001b[43m,\u001b[49m\u001b[43m \u001b[49m\u001b[43mneed_transaction\u001b[49m\u001b[38;5;241;43m=\u001b[39;49m\u001b[38;5;28;43;01mTrue\u001b[39;49;00m\u001b[43m)\u001b[49m \u001b[38;5;28;01mas\u001b[39;00m pandas_sql:\n\u001b[0;32m    842\u001b[0m     \u001b[38;5;28;01mreturn\u001b[39;00m pandas_sql\u001b[38;5;241m.\u001b[39mto_sql(\n\u001b[0;32m    843\u001b[0m         frame,\n\u001b[0;32m    844\u001b[0m         name,\n\u001b[1;32m   (...)\u001b[0m\n\u001b[0;32m    853\u001b[0m         \u001b[38;5;241m*\u001b[39m\u001b[38;5;241m*\u001b[39mengine_kwargs,\n\u001b[0;32m    854\u001b[0m     )\n",
      "File \u001b[1;32mc:\\Users\\ambri\\AppData\\Local\\Programs\\Python\\Python313\\Lib\\site-packages\\pandas\\io\\sql.py:906\u001b[0m, in \u001b[0;36mpandasSQL_builder\u001b[1;34m(con, schema, need_transaction)\u001b[0m\n\u001b[0;32m    903\u001b[0m     \u001b[38;5;28;01mraise\u001b[39;00m \u001b[38;5;167;01mImportError\u001b[39;00m(\u001b[38;5;124m\"\u001b[39m\u001b[38;5;124mUsing URI string without sqlalchemy installed.\u001b[39m\u001b[38;5;124m\"\u001b[39m)\n\u001b[0;32m    905\u001b[0m \u001b[38;5;28;01mif\u001b[39;00m sqlalchemy \u001b[38;5;129;01mis\u001b[39;00m \u001b[38;5;129;01mnot\u001b[39;00m \u001b[38;5;28;01mNone\u001b[39;00m \u001b[38;5;129;01mand\u001b[39;00m \u001b[38;5;28misinstance\u001b[39m(con, (\u001b[38;5;28mstr\u001b[39m, sqlalchemy\u001b[38;5;241m.\u001b[39mengine\u001b[38;5;241m.\u001b[39mConnectable)):\n\u001b[1;32m--> 906\u001b[0m     \u001b[38;5;28;01mreturn\u001b[39;00m \u001b[43mSQLDatabase\u001b[49m\u001b[43m(\u001b[49m\u001b[43mcon\u001b[49m\u001b[43m,\u001b[49m\u001b[43m \u001b[49m\u001b[43mschema\u001b[49m\u001b[43m,\u001b[49m\u001b[43m \u001b[49m\u001b[43mneed_transaction\u001b[49m\u001b[43m)\u001b[49m\n\u001b[0;32m    908\u001b[0m adbc \u001b[38;5;241m=\u001b[39m import_optional_dependency(\u001b[38;5;124m\"\u001b[39m\u001b[38;5;124madbc_driver_manager.dbapi\u001b[39m\u001b[38;5;124m\"\u001b[39m, errors\u001b[38;5;241m=\u001b[39m\u001b[38;5;124m\"\u001b[39m\u001b[38;5;124mignore\u001b[39m\u001b[38;5;124m\"\u001b[39m)\n\u001b[0;32m    909\u001b[0m \u001b[38;5;28;01mif\u001b[39;00m adbc \u001b[38;5;129;01mand\u001b[39;00m \u001b[38;5;28misinstance\u001b[39m(con, adbc\u001b[38;5;241m.\u001b[39mConnection):\n",
      "File \u001b[1;32mc:\\Users\\ambri\\AppData\\Local\\Programs\\Python\\Python313\\Lib\\site-packages\\pandas\\io\\sql.py:1636\u001b[0m, in \u001b[0;36mSQLDatabase.__init__\u001b[1;34m(self, con, schema, need_transaction)\u001b[0m\n\u001b[0;32m   1634\u001b[0m     \u001b[38;5;28mself\u001b[39m\u001b[38;5;241m.\u001b[39mexit_stack\u001b[38;5;241m.\u001b[39mcallback(con\u001b[38;5;241m.\u001b[39mdispose)\n\u001b[0;32m   1635\u001b[0m \u001b[38;5;28;01mif\u001b[39;00m \u001b[38;5;28misinstance\u001b[39m(con, Engine):\n\u001b[1;32m-> 1636\u001b[0m     con \u001b[38;5;241m=\u001b[39m \u001b[38;5;28mself\u001b[39m\u001b[38;5;241m.\u001b[39mexit_stack\u001b[38;5;241m.\u001b[39menter_context(\u001b[43mcon\u001b[49m\u001b[38;5;241;43m.\u001b[39;49m\u001b[43mconnect\u001b[49m\u001b[43m(\u001b[49m\u001b[43m)\u001b[49m)\n\u001b[0;32m   1637\u001b[0m \u001b[38;5;28;01mif\u001b[39;00m need_transaction \u001b[38;5;129;01mand\u001b[39;00m \u001b[38;5;129;01mnot\u001b[39;00m con\u001b[38;5;241m.\u001b[39min_transaction():\n\u001b[0;32m   1638\u001b[0m     \u001b[38;5;28mself\u001b[39m\u001b[38;5;241m.\u001b[39mexit_stack\u001b[38;5;241m.\u001b[39menter_context(con\u001b[38;5;241m.\u001b[39mbegin())\n",
      "File \u001b[1;32mc:\\Users\\ambri\\AppData\\Local\\Programs\\Python\\Python313\\Lib\\site-packages\\sqlalchemy\\engine\\base.py:3274\u001b[0m, in \u001b[0;36mEngine.connect\u001b[1;34m(self)\u001b[0m\n\u001b[0;32m   3251\u001b[0m \u001b[38;5;28;01mdef\u001b[39;00m \u001b[38;5;21mconnect\u001b[39m(\u001b[38;5;28mself\u001b[39m) \u001b[38;5;241m-\u001b[39m\u001b[38;5;241m>\u001b[39m Connection:\n\u001b[0;32m   3252\u001b[0m \u001b[38;5;250m    \u001b[39m\u001b[38;5;124;03m\"\"\"Return a new :class:`_engine.Connection` object.\u001b[39;00m\n\u001b[0;32m   3253\u001b[0m \n\u001b[0;32m   3254\u001b[0m \u001b[38;5;124;03m    The :class:`_engine.Connection` acts as a Python context manager, so\u001b[39;00m\n\u001b[1;32m   (...)\u001b[0m\n\u001b[0;32m   3271\u001b[0m \n\u001b[0;32m   3272\u001b[0m \u001b[38;5;124;03m    \"\"\"\u001b[39;00m\n\u001b[1;32m-> 3274\u001b[0m     \u001b[38;5;28;01mreturn\u001b[39;00m \u001b[38;5;28;43mself\u001b[39;49m\u001b[38;5;241;43m.\u001b[39;49m\u001b[43m_connection_cls\u001b[49m\u001b[43m(\u001b[49m\u001b[38;5;28;43mself\u001b[39;49m\u001b[43m)\u001b[49m\n",
      "File \u001b[1;32mc:\\Users\\ambri\\AppData\\Local\\Programs\\Python\\Python313\\Lib\\site-packages\\sqlalchemy\\engine\\base.py:148\u001b[0m, in \u001b[0;36mConnection.__init__\u001b[1;34m(self, engine, connection, _has_events, _allow_revalidate, _allow_autobegin)\u001b[0m\n\u001b[0;32m    146\u001b[0m         \u001b[38;5;28mself\u001b[39m\u001b[38;5;241m.\u001b[39m_dbapi_connection \u001b[38;5;241m=\u001b[39m engine\u001b[38;5;241m.\u001b[39mraw_connection()\n\u001b[0;32m    147\u001b[0m     \u001b[38;5;28;01mexcept\u001b[39;00m dialect\u001b[38;5;241m.\u001b[39mloaded_dbapi\u001b[38;5;241m.\u001b[39mError \u001b[38;5;28;01mas\u001b[39;00m err:\n\u001b[1;32m--> 148\u001b[0m         \u001b[43mConnection\u001b[49m\u001b[38;5;241;43m.\u001b[39;49m\u001b[43m_handle_dbapi_exception_noconnection\u001b[49m\u001b[43m(\u001b[49m\n\u001b[0;32m    149\u001b[0m \u001b[43m            \u001b[49m\u001b[43merr\u001b[49m\u001b[43m,\u001b[49m\u001b[43m \u001b[49m\u001b[43mdialect\u001b[49m\u001b[43m,\u001b[49m\u001b[43m \u001b[49m\u001b[43mengine\u001b[49m\n\u001b[0;32m    150\u001b[0m \u001b[43m        \u001b[49m\u001b[43m)\u001b[49m\n\u001b[0;32m    151\u001b[0m         \u001b[38;5;28;01mraise\u001b[39;00m\n\u001b[0;32m    152\u001b[0m \u001b[38;5;28;01melse\u001b[39;00m:\n",
      "File \u001b[1;32mc:\\Users\\ambri\\AppData\\Local\\Programs\\Python\\Python313\\Lib\\site-packages\\sqlalchemy\\engine\\base.py:2439\u001b[0m, in \u001b[0;36mConnection._handle_dbapi_exception_noconnection\u001b[1;34m(cls, e, dialect, engine, is_disconnect, invalidate_pool_on_disconnect, is_pre_ping)\u001b[0m\n\u001b[0;32m   2437\u001b[0m \u001b[38;5;28;01melif\u001b[39;00m should_wrap:\n\u001b[0;32m   2438\u001b[0m     \u001b[38;5;28;01massert\u001b[39;00m sqlalchemy_exception \u001b[38;5;129;01mis\u001b[39;00m \u001b[38;5;129;01mnot\u001b[39;00m \u001b[38;5;28;01mNone\u001b[39;00m\n\u001b[1;32m-> 2439\u001b[0m     \u001b[38;5;28;01mraise\u001b[39;00m sqlalchemy_exception\u001b[38;5;241m.\u001b[39mwith_traceback(exc_info[\u001b[38;5;241m2\u001b[39m]) \u001b[38;5;28;01mfrom\u001b[39;00m \u001b[38;5;21;01me\u001b[39;00m\n\u001b[0;32m   2440\u001b[0m \u001b[38;5;28;01melse\u001b[39;00m:\n\u001b[0;32m   2441\u001b[0m     \u001b[38;5;28;01massert\u001b[39;00m exc_info[\u001b[38;5;241m1\u001b[39m] \u001b[38;5;129;01mis\u001b[39;00m \u001b[38;5;129;01mnot\u001b[39;00m \u001b[38;5;28;01mNone\u001b[39;00m\n",
      "File \u001b[1;32mc:\\Users\\ambri\\AppData\\Local\\Programs\\Python\\Python313\\Lib\\site-packages\\sqlalchemy\\engine\\base.py:146\u001b[0m, in \u001b[0;36mConnection.__init__\u001b[1;34m(self, engine, connection, _has_events, _allow_revalidate, _allow_autobegin)\u001b[0m\n\u001b[0;32m    144\u001b[0m \u001b[38;5;28;01mif\u001b[39;00m connection \u001b[38;5;129;01mis\u001b[39;00m \u001b[38;5;28;01mNone\u001b[39;00m:\n\u001b[0;32m    145\u001b[0m     \u001b[38;5;28;01mtry\u001b[39;00m:\n\u001b[1;32m--> 146\u001b[0m         \u001b[38;5;28mself\u001b[39m\u001b[38;5;241m.\u001b[39m_dbapi_connection \u001b[38;5;241m=\u001b[39m \u001b[43mengine\u001b[49m\u001b[38;5;241;43m.\u001b[39;49m\u001b[43mraw_connection\u001b[49m\u001b[43m(\u001b[49m\u001b[43m)\u001b[49m\n\u001b[0;32m    147\u001b[0m     \u001b[38;5;28;01mexcept\u001b[39;00m dialect\u001b[38;5;241m.\u001b[39mloaded_dbapi\u001b[38;5;241m.\u001b[39mError \u001b[38;5;28;01mas\u001b[39;00m err:\n\u001b[0;32m    148\u001b[0m         Connection\u001b[38;5;241m.\u001b[39m_handle_dbapi_exception_noconnection(\n\u001b[0;32m    149\u001b[0m             err, dialect, engine\n\u001b[0;32m    150\u001b[0m         )\n",
      "File \u001b[1;32mc:\\Users\\ambri\\AppData\\Local\\Programs\\Python\\Python313\\Lib\\site-packages\\sqlalchemy\\engine\\base.py:3298\u001b[0m, in \u001b[0;36mEngine.raw_connection\u001b[1;34m(self)\u001b[0m\n\u001b[0;32m   3276\u001b[0m \u001b[38;5;28;01mdef\u001b[39;00m \u001b[38;5;21mraw_connection\u001b[39m(\u001b[38;5;28mself\u001b[39m) \u001b[38;5;241m-\u001b[39m\u001b[38;5;241m>\u001b[39m PoolProxiedConnection:\n\u001b[0;32m   3277\u001b[0m \u001b[38;5;250m    \u001b[39m\u001b[38;5;124;03m\"\"\"Return a \"raw\" DBAPI connection from the connection pool.\u001b[39;00m\n\u001b[0;32m   3278\u001b[0m \n\u001b[0;32m   3279\u001b[0m \u001b[38;5;124;03m    The returned object is a proxied version of the DBAPI\u001b[39;00m\n\u001b[1;32m   (...)\u001b[0m\n\u001b[0;32m   3296\u001b[0m \n\u001b[0;32m   3297\u001b[0m \u001b[38;5;124;03m    \"\"\"\u001b[39;00m\n\u001b[1;32m-> 3298\u001b[0m     \u001b[38;5;28;01mreturn\u001b[39;00m \u001b[38;5;28;43mself\u001b[39;49m\u001b[38;5;241;43m.\u001b[39;49m\u001b[43mpool\u001b[49m\u001b[38;5;241;43m.\u001b[39;49m\u001b[43mconnect\u001b[49m\u001b[43m(\u001b[49m\u001b[43m)\u001b[49m\n",
      "File \u001b[1;32mc:\\Users\\ambri\\AppData\\Local\\Programs\\Python\\Python313\\Lib\\site-packages\\sqlalchemy\\pool\\base.py:449\u001b[0m, in \u001b[0;36mPool.connect\u001b[1;34m(self)\u001b[0m\n\u001b[0;32m    441\u001b[0m \u001b[38;5;28;01mdef\u001b[39;00m \u001b[38;5;21mconnect\u001b[39m(\u001b[38;5;28mself\u001b[39m) \u001b[38;5;241m-\u001b[39m\u001b[38;5;241m>\u001b[39m PoolProxiedConnection:\n\u001b[0;32m    442\u001b[0m \u001b[38;5;250m    \u001b[39m\u001b[38;5;124;03m\"\"\"Return a DBAPI connection from the pool.\u001b[39;00m\n\u001b[0;32m    443\u001b[0m \n\u001b[0;32m    444\u001b[0m \u001b[38;5;124;03m    The connection is instrumented such that when its\u001b[39;00m\n\u001b[1;32m   (...)\u001b[0m\n\u001b[0;32m    447\u001b[0m \n\u001b[0;32m    448\u001b[0m \u001b[38;5;124;03m    \"\"\"\u001b[39;00m\n\u001b[1;32m--> 449\u001b[0m     \u001b[38;5;28;01mreturn\u001b[39;00m \u001b[43m_ConnectionFairy\u001b[49m\u001b[38;5;241;43m.\u001b[39;49m\u001b[43m_checkout\u001b[49m\u001b[43m(\u001b[49m\u001b[38;5;28;43mself\u001b[39;49m\u001b[43m)\u001b[49m\n",
      "File \u001b[1;32mc:\\Users\\ambri\\AppData\\Local\\Programs\\Python\\Python313\\Lib\\site-packages\\sqlalchemy\\pool\\base.py:1263\u001b[0m, in \u001b[0;36m_ConnectionFairy._checkout\u001b[1;34m(cls, pool, threadconns, fairy)\u001b[0m\n\u001b[0;32m   1255\u001b[0m \u001b[38;5;129m@classmethod\u001b[39m\n\u001b[0;32m   1256\u001b[0m \u001b[38;5;28;01mdef\u001b[39;00m \u001b[38;5;21m_checkout\u001b[39m(\n\u001b[0;32m   1257\u001b[0m     \u001b[38;5;28mcls\u001b[39m,\n\u001b[1;32m   (...)\u001b[0m\n\u001b[0;32m   1260\u001b[0m     fairy: Optional[_ConnectionFairy] \u001b[38;5;241m=\u001b[39m \u001b[38;5;28;01mNone\u001b[39;00m,\n\u001b[0;32m   1261\u001b[0m ) \u001b[38;5;241m-\u001b[39m\u001b[38;5;241m>\u001b[39m _ConnectionFairy:\n\u001b[0;32m   1262\u001b[0m     \u001b[38;5;28;01mif\u001b[39;00m \u001b[38;5;129;01mnot\u001b[39;00m fairy:\n\u001b[1;32m-> 1263\u001b[0m         fairy \u001b[38;5;241m=\u001b[39m \u001b[43m_ConnectionRecord\u001b[49m\u001b[38;5;241;43m.\u001b[39;49m\u001b[43mcheckout\u001b[49m\u001b[43m(\u001b[49m\u001b[43mpool\u001b[49m\u001b[43m)\u001b[49m\n\u001b[0;32m   1265\u001b[0m         \u001b[38;5;28;01mif\u001b[39;00m threadconns \u001b[38;5;129;01mis\u001b[39;00m \u001b[38;5;129;01mnot\u001b[39;00m \u001b[38;5;28;01mNone\u001b[39;00m:\n\u001b[0;32m   1266\u001b[0m             threadconns\u001b[38;5;241m.\u001b[39mcurrent \u001b[38;5;241m=\u001b[39m weakref\u001b[38;5;241m.\u001b[39mref(fairy)\n",
      "File \u001b[1;32mc:\\Users\\ambri\\AppData\\Local\\Programs\\Python\\Python313\\Lib\\site-packages\\sqlalchemy\\pool\\base.py:712\u001b[0m, in \u001b[0;36m_ConnectionRecord.checkout\u001b[1;34m(cls, pool)\u001b[0m\n\u001b[0;32m    710\u001b[0m     rec \u001b[38;5;241m=\u001b[39m cast(_ConnectionRecord, pool\u001b[38;5;241m.\u001b[39m_do_get())\n\u001b[0;32m    711\u001b[0m \u001b[38;5;28;01melse\u001b[39;00m:\n\u001b[1;32m--> 712\u001b[0m     rec \u001b[38;5;241m=\u001b[39m \u001b[43mpool\u001b[49m\u001b[38;5;241;43m.\u001b[39;49m\u001b[43m_do_get\u001b[49m\u001b[43m(\u001b[49m\u001b[43m)\u001b[49m\n\u001b[0;32m    714\u001b[0m \u001b[38;5;28;01mtry\u001b[39;00m:\n\u001b[0;32m    715\u001b[0m     dbapi_connection \u001b[38;5;241m=\u001b[39m rec\u001b[38;5;241m.\u001b[39mget_connection()\n",
      "File \u001b[1;32mc:\\Users\\ambri\\AppData\\Local\\Programs\\Python\\Python313\\Lib\\site-packages\\sqlalchemy\\pool\\impl.py:179\u001b[0m, in \u001b[0;36mQueuePool._do_get\u001b[1;34m(self)\u001b[0m\n\u001b[0;32m    177\u001b[0m     \u001b[38;5;28;01mreturn\u001b[39;00m \u001b[38;5;28mself\u001b[39m\u001b[38;5;241m.\u001b[39m_create_connection()\n\u001b[0;32m    178\u001b[0m \u001b[38;5;28;01mexcept\u001b[39;00m:\n\u001b[1;32m--> 179\u001b[0m     \u001b[38;5;28;01mwith\u001b[39;00m \u001b[43mutil\u001b[49m\u001b[38;5;241;43m.\u001b[39;49m\u001b[43msafe_reraise\u001b[49m\u001b[43m(\u001b[49m\u001b[43m)\u001b[49m:\n\u001b[0;32m    180\u001b[0m         \u001b[38;5;28mself\u001b[39m\u001b[38;5;241m.\u001b[39m_dec_overflow()\n\u001b[0;32m    181\u001b[0m     \u001b[38;5;28;01mraise\u001b[39;00m\n",
      "File \u001b[1;32mc:\\Users\\ambri\\AppData\\Local\\Programs\\Python\\Python313\\Lib\\site-packages\\sqlalchemy\\util\\langhelpers.py:146\u001b[0m, in \u001b[0;36msafe_reraise.__exit__\u001b[1;34m(self, type_, value, traceback)\u001b[0m\n\u001b[0;32m    144\u001b[0m     \u001b[38;5;28;01massert\u001b[39;00m exc_value \u001b[38;5;129;01mis\u001b[39;00m \u001b[38;5;129;01mnot\u001b[39;00m \u001b[38;5;28;01mNone\u001b[39;00m\n\u001b[0;32m    145\u001b[0m     \u001b[38;5;28mself\u001b[39m\u001b[38;5;241m.\u001b[39m_exc_info \u001b[38;5;241m=\u001b[39m \u001b[38;5;28;01mNone\u001b[39;00m  \u001b[38;5;66;03m# remove potential circular references\u001b[39;00m\n\u001b[1;32m--> 146\u001b[0m     \u001b[38;5;28;01mraise\u001b[39;00m exc_value\u001b[38;5;241m.\u001b[39mwith_traceback(exc_tb)\n\u001b[0;32m    147\u001b[0m \u001b[38;5;28;01melse\u001b[39;00m:\n\u001b[0;32m    148\u001b[0m     \u001b[38;5;28mself\u001b[39m\u001b[38;5;241m.\u001b[39m_exc_info \u001b[38;5;241m=\u001b[39m \u001b[38;5;28;01mNone\u001b[39;00m  \u001b[38;5;66;03m# remove potential circular references\u001b[39;00m\n",
      "File \u001b[1;32mc:\\Users\\ambri\\AppData\\Local\\Programs\\Python\\Python313\\Lib\\site-packages\\sqlalchemy\\pool\\impl.py:177\u001b[0m, in \u001b[0;36mQueuePool._do_get\u001b[1;34m(self)\u001b[0m\n\u001b[0;32m    175\u001b[0m \u001b[38;5;28;01mif\u001b[39;00m \u001b[38;5;28mself\u001b[39m\u001b[38;5;241m.\u001b[39m_inc_overflow():\n\u001b[0;32m    176\u001b[0m     \u001b[38;5;28;01mtry\u001b[39;00m:\n\u001b[1;32m--> 177\u001b[0m         \u001b[38;5;28;01mreturn\u001b[39;00m \u001b[38;5;28;43mself\u001b[39;49m\u001b[38;5;241;43m.\u001b[39;49m\u001b[43m_create_connection\u001b[49m\u001b[43m(\u001b[49m\u001b[43m)\u001b[49m\n\u001b[0;32m    178\u001b[0m     \u001b[38;5;28;01mexcept\u001b[39;00m:\n\u001b[0;32m    179\u001b[0m         \u001b[38;5;28;01mwith\u001b[39;00m util\u001b[38;5;241m.\u001b[39msafe_reraise():\n",
      "File \u001b[1;32mc:\\Users\\ambri\\AppData\\Local\\Programs\\Python\\Python313\\Lib\\site-packages\\sqlalchemy\\pool\\base.py:390\u001b[0m, in \u001b[0;36mPool._create_connection\u001b[1;34m(self)\u001b[0m\n\u001b[0;32m    387\u001b[0m \u001b[38;5;28;01mdef\u001b[39;00m \u001b[38;5;21m_create_connection\u001b[39m(\u001b[38;5;28mself\u001b[39m) \u001b[38;5;241m-\u001b[39m\u001b[38;5;241m>\u001b[39m ConnectionPoolEntry:\n\u001b[0;32m    388\u001b[0m \u001b[38;5;250m    \u001b[39m\u001b[38;5;124;03m\"\"\"Called by subclasses to create a new ConnectionRecord.\"\"\"\u001b[39;00m\n\u001b[1;32m--> 390\u001b[0m     \u001b[38;5;28;01mreturn\u001b[39;00m \u001b[43m_ConnectionRecord\u001b[49m\u001b[43m(\u001b[49m\u001b[38;5;28;43mself\u001b[39;49m\u001b[43m)\u001b[49m\n",
      "File \u001b[1;32mc:\\Users\\ambri\\AppData\\Local\\Programs\\Python\\Python313\\Lib\\site-packages\\sqlalchemy\\pool\\base.py:674\u001b[0m, in \u001b[0;36m_ConnectionRecord.__init__\u001b[1;34m(self, pool, connect)\u001b[0m\n\u001b[0;32m    672\u001b[0m \u001b[38;5;28mself\u001b[39m\u001b[38;5;241m.\u001b[39m__pool \u001b[38;5;241m=\u001b[39m pool\n\u001b[0;32m    673\u001b[0m \u001b[38;5;28;01mif\u001b[39;00m connect:\n\u001b[1;32m--> 674\u001b[0m     \u001b[38;5;28;43mself\u001b[39;49m\u001b[38;5;241;43m.\u001b[39;49m\u001b[43m__connect\u001b[49m\u001b[43m(\u001b[49m\u001b[43m)\u001b[49m\n\u001b[0;32m    675\u001b[0m \u001b[38;5;28mself\u001b[39m\u001b[38;5;241m.\u001b[39mfinalize_callback \u001b[38;5;241m=\u001b[39m deque()\n",
      "File \u001b[1;32mc:\\Users\\ambri\\AppData\\Local\\Programs\\Python\\Python313\\Lib\\site-packages\\sqlalchemy\\pool\\base.py:900\u001b[0m, in \u001b[0;36m_ConnectionRecord.__connect\u001b[1;34m(self)\u001b[0m\n\u001b[0;32m    898\u001b[0m     \u001b[38;5;28mself\u001b[39m\u001b[38;5;241m.\u001b[39mfresh \u001b[38;5;241m=\u001b[39m \u001b[38;5;28;01mTrue\u001b[39;00m\n\u001b[0;32m    899\u001b[0m \u001b[38;5;28;01mexcept\u001b[39;00m \u001b[38;5;167;01mBaseException\u001b[39;00m \u001b[38;5;28;01mas\u001b[39;00m e:\n\u001b[1;32m--> 900\u001b[0m     \u001b[38;5;28;01mwith\u001b[39;00m \u001b[43mutil\u001b[49m\u001b[38;5;241;43m.\u001b[39;49m\u001b[43msafe_reraise\u001b[49m\u001b[43m(\u001b[49m\u001b[43m)\u001b[49m:\n\u001b[0;32m    901\u001b[0m         pool\u001b[38;5;241m.\u001b[39mlogger\u001b[38;5;241m.\u001b[39mdebug(\u001b[38;5;124m\"\u001b[39m\u001b[38;5;124mError on connect(): \u001b[39m\u001b[38;5;132;01m%s\u001b[39;00m\u001b[38;5;124m\"\u001b[39m, e)\n\u001b[0;32m    902\u001b[0m \u001b[38;5;28;01melse\u001b[39;00m:\n\u001b[0;32m    903\u001b[0m     \u001b[38;5;66;03m# in SQLAlchemy 1.4 the first_connect event is not used by\u001b[39;00m\n\u001b[0;32m    904\u001b[0m     \u001b[38;5;66;03m# the engine, so this will usually not be set\u001b[39;00m\n",
      "File \u001b[1;32mc:\\Users\\ambri\\AppData\\Local\\Programs\\Python\\Python313\\Lib\\site-packages\\sqlalchemy\\util\\langhelpers.py:146\u001b[0m, in \u001b[0;36msafe_reraise.__exit__\u001b[1;34m(self, type_, value, traceback)\u001b[0m\n\u001b[0;32m    144\u001b[0m     \u001b[38;5;28;01massert\u001b[39;00m exc_value \u001b[38;5;129;01mis\u001b[39;00m \u001b[38;5;129;01mnot\u001b[39;00m \u001b[38;5;28;01mNone\u001b[39;00m\n\u001b[0;32m    145\u001b[0m     \u001b[38;5;28mself\u001b[39m\u001b[38;5;241m.\u001b[39m_exc_info \u001b[38;5;241m=\u001b[39m \u001b[38;5;28;01mNone\u001b[39;00m  \u001b[38;5;66;03m# remove potential circular references\u001b[39;00m\n\u001b[1;32m--> 146\u001b[0m     \u001b[38;5;28;01mraise\u001b[39;00m exc_value\u001b[38;5;241m.\u001b[39mwith_traceback(exc_tb)\n\u001b[0;32m    147\u001b[0m \u001b[38;5;28;01melse\u001b[39;00m:\n\u001b[0;32m    148\u001b[0m     \u001b[38;5;28mself\u001b[39m\u001b[38;5;241m.\u001b[39m_exc_info \u001b[38;5;241m=\u001b[39m \u001b[38;5;28;01mNone\u001b[39;00m  \u001b[38;5;66;03m# remove potential circular references\u001b[39;00m\n",
      "File \u001b[1;32mc:\\Users\\ambri\\AppData\\Local\\Programs\\Python\\Python313\\Lib\\site-packages\\sqlalchemy\\pool\\base.py:896\u001b[0m, in \u001b[0;36m_ConnectionRecord.__connect\u001b[1;34m(self)\u001b[0m\n\u001b[0;32m    894\u001b[0m \u001b[38;5;28;01mtry\u001b[39;00m:\n\u001b[0;32m    895\u001b[0m     \u001b[38;5;28mself\u001b[39m\u001b[38;5;241m.\u001b[39mstarttime \u001b[38;5;241m=\u001b[39m time\u001b[38;5;241m.\u001b[39mtime()\n\u001b[1;32m--> 896\u001b[0m     \u001b[38;5;28mself\u001b[39m\u001b[38;5;241m.\u001b[39mdbapi_connection \u001b[38;5;241m=\u001b[39m connection \u001b[38;5;241m=\u001b[39m \u001b[43mpool\u001b[49m\u001b[38;5;241;43m.\u001b[39;49m\u001b[43m_invoke_creator\u001b[49m\u001b[43m(\u001b[49m\u001b[38;5;28;43mself\u001b[39;49m\u001b[43m)\u001b[49m\n\u001b[0;32m    897\u001b[0m     pool\u001b[38;5;241m.\u001b[39mlogger\u001b[38;5;241m.\u001b[39mdebug(\u001b[38;5;124m\"\u001b[39m\u001b[38;5;124mCreated new connection \u001b[39m\u001b[38;5;132;01m%r\u001b[39;00m\u001b[38;5;124m\"\u001b[39m, connection)\n\u001b[0;32m    898\u001b[0m     \u001b[38;5;28mself\u001b[39m\u001b[38;5;241m.\u001b[39mfresh \u001b[38;5;241m=\u001b[39m \u001b[38;5;28;01mTrue\u001b[39;00m\n",
      "File \u001b[1;32mc:\\Users\\ambri\\AppData\\Local\\Programs\\Python\\Python313\\Lib\\site-packages\\sqlalchemy\\engine\\create.py:646\u001b[0m, in \u001b[0;36mcreate_engine.<locals>.connect\u001b[1;34m(connection_record)\u001b[0m\n\u001b[0;32m    643\u001b[0m         \u001b[38;5;28;01mif\u001b[39;00m connection \u001b[38;5;129;01mis\u001b[39;00m \u001b[38;5;129;01mnot\u001b[39;00m \u001b[38;5;28;01mNone\u001b[39;00m:\n\u001b[0;32m    644\u001b[0m             \u001b[38;5;28;01mreturn\u001b[39;00m connection\n\u001b[1;32m--> 646\u001b[0m \u001b[38;5;28;01mreturn\u001b[39;00m \u001b[43mdialect\u001b[49m\u001b[38;5;241;43m.\u001b[39;49m\u001b[43mconnect\u001b[49m\u001b[43m(\u001b[49m\u001b[38;5;241;43m*\u001b[39;49m\u001b[43mcargs\u001b[49m\u001b[43m,\u001b[49m\u001b[43m \u001b[49m\u001b[38;5;241;43m*\u001b[39;49m\u001b[38;5;241;43m*\u001b[39;49m\u001b[43mcparams\u001b[49m\u001b[43m)\u001b[49m\n",
      "File \u001b[1;32mc:\\Users\\ambri\\AppData\\Local\\Programs\\Python\\Python313\\Lib\\site-packages\\sqlalchemy\\engine\\default.py:622\u001b[0m, in \u001b[0;36mDefaultDialect.connect\u001b[1;34m(self, *cargs, **cparams)\u001b[0m\n\u001b[0;32m    620\u001b[0m \u001b[38;5;28;01mdef\u001b[39;00m \u001b[38;5;21mconnect\u001b[39m(\u001b[38;5;28mself\u001b[39m, \u001b[38;5;241m*\u001b[39mcargs, \u001b[38;5;241m*\u001b[39m\u001b[38;5;241m*\u001b[39mcparams):\n\u001b[0;32m    621\u001b[0m     \u001b[38;5;66;03m# inherits the docstring from interfaces.Dialect.connect\u001b[39;00m\n\u001b[1;32m--> 622\u001b[0m     \u001b[38;5;28;01mreturn\u001b[39;00m \u001b[38;5;28;43mself\u001b[39;49m\u001b[38;5;241;43m.\u001b[39;49m\u001b[43mloaded_dbapi\u001b[49m\u001b[38;5;241;43m.\u001b[39;49m\u001b[43mconnect\u001b[49m\u001b[43m(\u001b[49m\u001b[38;5;241;43m*\u001b[39;49m\u001b[43mcargs\u001b[49m\u001b[43m,\u001b[49m\u001b[43m \u001b[49m\u001b[38;5;241;43m*\u001b[39;49m\u001b[38;5;241;43m*\u001b[39;49m\u001b[43mcparams\u001b[49m\u001b[43m)\u001b[49m\n",
      "File \u001b[1;32mc:\\Users\\ambri\\AppData\\Local\\Programs\\Python\\Python313\\Lib\\site-packages\\psycopg2\\__init__.py:135\u001b[0m, in \u001b[0;36mconnect\u001b[1;34m(dsn, connection_factory, cursor_factory, **kwargs)\u001b[0m\n\u001b[0;32m    132\u001b[0m     kwasync[\u001b[38;5;124m'\u001b[39m\u001b[38;5;124masync_\u001b[39m\u001b[38;5;124m'\u001b[39m] \u001b[38;5;241m=\u001b[39m kwargs\u001b[38;5;241m.\u001b[39mpop(\u001b[38;5;124m'\u001b[39m\u001b[38;5;124masync_\u001b[39m\u001b[38;5;124m'\u001b[39m)\n\u001b[0;32m    134\u001b[0m dsn \u001b[38;5;241m=\u001b[39m _ext\u001b[38;5;241m.\u001b[39mmake_dsn(dsn, \u001b[38;5;241m*\u001b[39m\u001b[38;5;241m*\u001b[39mkwargs)\n\u001b[1;32m--> 135\u001b[0m conn \u001b[38;5;241m=\u001b[39m \u001b[43m_connect\u001b[49m\u001b[43m(\u001b[49m\u001b[43mdsn\u001b[49m\u001b[43m,\u001b[49m\u001b[43m \u001b[49m\u001b[43mconnection_factory\u001b[49m\u001b[38;5;241;43m=\u001b[39;49m\u001b[43mconnection_factory\u001b[49m\u001b[43m,\u001b[49m\u001b[43m \u001b[49m\u001b[38;5;241;43m*\u001b[39;49m\u001b[38;5;241;43m*\u001b[39;49m\u001b[43mkwasync\u001b[49m\u001b[43m)\u001b[49m\n\u001b[0;32m    136\u001b[0m \u001b[38;5;28;01mif\u001b[39;00m cursor_factory \u001b[38;5;129;01mis\u001b[39;00m \u001b[38;5;129;01mnot\u001b[39;00m \u001b[38;5;28;01mNone\u001b[39;00m:\n\u001b[0;32m    137\u001b[0m     conn\u001b[38;5;241m.\u001b[39mcursor_factory \u001b[38;5;241m=\u001b[39m cursor_factory\n",
      "\u001b[1;31mOperationalError\u001b[0m: (psycopg2.OperationalError) could not translate host name \"database-2.c368u40ewjg3.eu-west-3.rds.amazonaws.com\" to address: Name or service not known\n\n(Background on this error at: https://sqlalche.me/e/20/e3q8)"
     ]
    }
   ],
   "source": [
    "# Initialization of the SQL engine\n",
    "USERNAME = \"postgres\"\n",
    "HOSTNAME = os.environ[\"HOSTNAME\"]\n",
    "PASSWORD = os.environ[\"PASSWORD\"]\n",
    "\n",
    "engine = create_engine(f\"postgresql+psycopg2://{USERNAME}:{PASSWORD}@{HOSTNAME}\", echo=True)\n",
    "Session = sessionmaker(bind=engine)\n",
    "session = Session()\n",
    "\n",
    "# Storing the dataframe as SQL tables\n",
    "df.to_sql('hotel_info', con=engine, if_exists='replace', index=False)"
   ]
  },
  {
   "cell_type": "code",
   "execution_count": 16,
   "metadata": {},
   "outputs": [
    {
     "data": {
      "text/html": [
       "<div>\n",
       "<style scoped>\n",
       "    .dataframe tbody tr th:only-of-type {\n",
       "        vertical-align: middle;\n",
       "    }\n",
       "\n",
       "    .dataframe tbody tr th {\n",
       "        vertical-align: top;\n",
       "    }\n",
       "\n",
       "    .dataframe thead th {\n",
       "        text-align: right;\n",
       "    }\n",
       "</style>\n",
       "<table border=\"1\" class=\"dataframe\">\n",
       "  <thead>\n",
       "    <tr style=\"text-align: right;\">\n",
       "      <th></th>\n",
       "      <th>city</th>\n",
       "      <th>hotel_lat</th>\n",
       "      <th>hotel_lon</th>\n",
       "      <th>hotel_name</th>\n",
       "      <th>hotel_review</th>\n",
       "      <th>hotel_nbr_review</th>\n",
       "      <th>hotel_address</th>\n",
       "      <th>hotel_facilities</th>\n",
       "      <th>hotel_desc</th>\n",
       "      <th>hotel_url</th>\n",
       "    </tr>\n",
       "  </thead>\n",
       "  <tbody>\n",
       "    <tr>\n",
       "      <th>0</th>\n",
       "      <td>Cassis</td>\n",
       "      <td>43.217600</td>\n",
       "      <td>5.532350</td>\n",
       "      <td>LE SEPT charmant studio aux portes des calanques</td>\n",
       "      <td>9.9</td>\n",
       "      <td>89.0</td>\n",
       "      <td>7 Avenue des Carriers, 13260 Cassis, France</td>\n",
       "      <td>Piscine extérieure,Parking gratuit,Connexion W...</td>\n",
       "      <td>Situé à Cassis et offrant une vue sur la mer, ...</td>\n",
       "      <td>https://www.booking.com/hotel/fr/le-sept-charm...</td>\n",
       "    </tr>\n",
       "    <tr>\n",
       "      <th>1</th>\n",
       "      <td>Cassis</td>\n",
       "      <td>43.215246</td>\n",
       "      <td>5.544668</td>\n",
       "      <td>Chambre d'hôtes Clos du Petit Jésus</td>\n",
       "      <td>9.9</td>\n",
       "      <td>117.0</td>\n",
       "      <td>4 Av. de Provence, 13260 Cassis, France</td>\n",
       "      <td>Piscine extérieure,Parking gratuit,Connexion W...</td>\n",
       "      <td>Situé à Cassis, à seulement 5 minutes à pied d...</td>\n",
       "      <td>https://www.booking.com/hotel/fr/clos-du-petit...</td>\n",
       "    </tr>\n",
       "    <tr>\n",
       "      <th>2</th>\n",
       "      <td>Cassis</td>\n",
       "      <td>43.215246</td>\n",
       "      <td>5.544668</td>\n",
       "      <td>Chambre d'hôtes Clos du Petit Jésus</td>\n",
       "      <td>9.9</td>\n",
       "      <td>117.0</td>\n",
       "      <td>4 Av. de Provence, 13260 Cassis, France</td>\n",
       "      <td>Piscine extérieure,Parking gratuit,Connexion W...</td>\n",
       "      <td>Situé à Cassis, à seulement 5 minutes à pied d...</td>\n",
       "      <td>https://www.booking.com/hotel/fr/clos-du-petit...</td>\n",
       "    </tr>\n",
       "    <tr>\n",
       "      <th>3</th>\n",
       "      <td>Aigues Mortes</td>\n",
       "      <td>43.581709</td>\n",
       "      <td>4.208536</td>\n",
       "      <td>Séjour atypique et insolite sur notre péniche ...</td>\n",
       "      <td>9.9</td>\n",
       "      <td>38.0</td>\n",
       "      <td>la Coradine Chemin de la Pinède, 30220 Aigues-...</td>\n",
       "      <td>Parking gratuit,Connexion Wi-Fi rapide gratuit...</td>\n",
       "      <td>Situé à Aigues-Mortes, l’hébergement Séjour at...</td>\n",
       "      <td>https://www.booking.com/hotel/fr/peniche-aigue...</td>\n",
       "    </tr>\n",
       "    <tr>\n",
       "      <th>4</th>\n",
       "      <td>Avignon</td>\n",
       "      <td>43.945188</td>\n",
       "      <td>4.799626</td>\n",
       "      <td>Apartment 40m2-Air conditioning-Elevator-Under...</td>\n",
       "      <td>9.8</td>\n",
       "      <td>53.0</td>\n",
       "      <td>3 Rue Velouterie, 84000 Avignon, France</td>\n",
       "      <td>Parking gratuit,Connexion Wi-Fi gratuite,Chamb...</td>\n",
       "      <td>L’hébergement Apartment 40m2-Air conditioning-...</td>\n",
       "      <td>https://www.booking.com/hotel/fr/appart-parkin...</td>\n",
       "    </tr>\n",
       "    <tr>\n",
       "      <th>5</th>\n",
       "      <td>Avignon</td>\n",
       "      <td>43.945188</td>\n",
       "      <td>4.799626</td>\n",
       "      <td>Apartment 40m2-Air conditioning-Elevator-Under...</td>\n",
       "      <td>9.8</td>\n",
       "      <td>53.0</td>\n",
       "      <td>3 Rue Velouterie, 84000 Avignon, France</td>\n",
       "      <td>Parking gratuit,Connexion Wi-Fi gratuite,Chamb...</td>\n",
       "      <td>L’hébergement Apartment 40m2-Air conditioning-...</td>\n",
       "      <td>https://www.booking.com/hotel/fr/appart-parkin...</td>\n",
       "    </tr>\n",
       "    <tr>\n",
       "      <th>6</th>\n",
       "      <td>Avignon</td>\n",
       "      <td>43.945188</td>\n",
       "      <td>4.799626</td>\n",
       "      <td>Apartment 40m2-Air conditioning-Elevator-Under...</td>\n",
       "      <td>9.8</td>\n",
       "      <td>54.0</td>\n",
       "      <td>3 Rue Velouterie, 84000 Avignon, France</td>\n",
       "      <td>Parking gratuit,Connexion Wi-Fi gratuite,Chamb...</td>\n",
       "      <td>L’hébergement Apartment 40m2-Air conditioning-...</td>\n",
       "      <td>https://www.booking.com/hotel/fr/appart-parkin...</td>\n",
       "    </tr>\n",
       "    <tr>\n",
       "      <th>7</th>\n",
       "      <td>Avignon</td>\n",
       "      <td>43.945188</td>\n",
       "      <td>4.799626</td>\n",
       "      <td>Apartment 40m2-Air conditioning-Elevator-Under...</td>\n",
       "      <td>9.8</td>\n",
       "      <td>53.0</td>\n",
       "      <td>3 Rue Velouterie, 84000 Avignon, France</td>\n",
       "      <td>Parking gratuit,Connexion Wi-Fi gratuite,Chamb...</td>\n",
       "      <td>L’hébergement Apartment 40m2-Air conditioning-...</td>\n",
       "      <td>https://www.booking.com/hotel/fr/appart-parkin...</td>\n",
       "    </tr>\n",
       "    <tr>\n",
       "      <th>8</th>\n",
       "      <td>Avignon</td>\n",
       "      <td>43.950019</td>\n",
       "      <td>4.809769</td>\n",
       "      <td>Avignon Intra-muros, vue Palais des Papes</td>\n",
       "      <td>9.8</td>\n",
       "      <td>35.0</td>\n",
       "      <td>7 Rue Saluces, 84000 Avignon, France</td>\n",
       "      <td>Parking,Connexion Wi-Fi gratuite,Chambres fami...</td>\n",
       "      <td>Offrant une vue sur la ville et doté d’une con...</td>\n",
       "      <td>https://www.booking.com/hotel/fr/avignon-intra...</td>\n",
       "    </tr>\n",
       "    <tr>\n",
       "      <th>9</th>\n",
       "      <td>Avignon</td>\n",
       "      <td>43.945188</td>\n",
       "      <td>4.799626</td>\n",
       "      <td>Apartment 40m2-Air conditioning-Elevator-Under...</td>\n",
       "      <td>9.8</td>\n",
       "      <td>53.0</td>\n",
       "      <td>3 Rue Velouterie, 84000 Avignon, France</td>\n",
       "      <td>Parking gratuit,Connexion Wi-Fi gratuite,Chamb...</td>\n",
       "      <td>L’hébergement Apartment 40m2-Air conditioning-...</td>\n",
       "      <td>https://www.booking.com/hotel/fr/appart-parkin...</td>\n",
       "    </tr>\n",
       "    <tr>\n",
       "      <th>10</th>\n",
       "      <td>Avignon</td>\n",
       "      <td>43.945188</td>\n",
       "      <td>4.799626</td>\n",
       "      <td>Apartment 40m2-Air conditioning-Elevator-Under...</td>\n",
       "      <td>9.8</td>\n",
       "      <td>47.0</td>\n",
       "      <td>3 Rue Velouterie, 84000 Avignon, France</td>\n",
       "      <td>Parking gratuit,Connexion Wi-Fi gratuite,Chamb...</td>\n",
       "      <td>L’hébergement Apartment 40m2-Air conditioning-...</td>\n",
       "      <td>https://www.booking.com/hotel/fr/appart-parkin...</td>\n",
       "    </tr>\n",
       "    <tr>\n",
       "      <th>11</th>\n",
       "      <td>Avignon</td>\n",
       "      <td>43.945188</td>\n",
       "      <td>4.799626</td>\n",
       "      <td>Apartment 40m2-Air conditioning-Elevator-Under...</td>\n",
       "      <td>9.8</td>\n",
       "      <td>54.0</td>\n",
       "      <td>3 Rue Velouterie, 84000 Avignon, France</td>\n",
       "      <td>Parking gratuit,Connexion Wi-Fi gratuite,Chamb...</td>\n",
       "      <td>L’hébergement Apartment 40m2-Air conditioning-...</td>\n",
       "      <td>https://www.booking.com/hotel/fr/appart-parkin...</td>\n",
       "    </tr>\n",
       "    <tr>\n",
       "      <th>12</th>\n",
       "      <td>Avignon</td>\n",
       "      <td>43.950019</td>\n",
       "      <td>4.809769</td>\n",
       "      <td>Avignon Intra-muros, vue Palais des Papes</td>\n",
       "      <td>9.8</td>\n",
       "      <td>35.0</td>\n",
       "      <td>7 Rue Saluces, 84000 Avignon, France</td>\n",
       "      <td>Parking,Connexion Wi-Fi gratuite,Chambres fami...</td>\n",
       "      <td>Offrant une vue sur la ville et doté d’une con...</td>\n",
       "      <td>https://www.booking.com/hotel/fr/avignon-intra...</td>\n",
       "    </tr>\n",
       "    <tr>\n",
       "      <th>13</th>\n",
       "      <td>Avignon</td>\n",
       "      <td>43.945188</td>\n",
       "      <td>4.799626</td>\n",
       "      <td>Apartment 40m2-Air conditioning-Elevator-Under...</td>\n",
       "      <td>9.8</td>\n",
       "      <td>53.0</td>\n",
       "      <td>3 Rue Velouterie, 84000 Avignon, France</td>\n",
       "      <td>Parking gratuit,Connexion Wi-Fi gratuite,Chamb...</td>\n",
       "      <td>L’hébergement Apartment 40m2-Air conditioning-...</td>\n",
       "      <td>https://www.booking.com/hotel/fr/appart-parkin...</td>\n",
       "    </tr>\n",
       "    <tr>\n",
       "      <th>14</th>\n",
       "      <td>Avignon</td>\n",
       "      <td>43.950019</td>\n",
       "      <td>4.809769</td>\n",
       "      <td>Avignon Intra-muros, vue Palais des Papes</td>\n",
       "      <td>9.8</td>\n",
       "      <td>35.0</td>\n",
       "      <td>7 Rue Saluces, 84000 Avignon, France</td>\n",
       "      <td>Parking,Connexion Wi-Fi gratuite,Chambres fami...</td>\n",
       "      <td>Offrant une vue sur la ville et doté d’une con...</td>\n",
       "      <td>https://www.booking.com/hotel/fr/avignon-intra...</td>\n",
       "    </tr>\n",
       "    <tr>\n",
       "      <th>15</th>\n",
       "      <td>Carcassonne</td>\n",
       "      <td>43.207188</td>\n",
       "      <td>2.361495</td>\n",
       "      <td>Le Loft de La Tour Pinte</td>\n",
       "      <td>9.8</td>\n",
       "      <td>60.0</td>\n",
       "      <td>70 Rue Barbacane, 11000 Carcassonne, France</td>\n",
       "      <td>Connexion Wi-Fi gratuite,Chambres familiales,C...</td>\n",
       "      <td>Offrant une vue sur la ville, l’hébergement Le...</td>\n",
       "      <td>https://www.booking.com/hotel/fr/le-loft-de-la...</td>\n",
       "    </tr>\n",
       "    <tr>\n",
       "      <th>16</th>\n",
       "      <td>Avignon</td>\n",
       "      <td>43.945188</td>\n",
       "      <td>4.799626</td>\n",
       "      <td>Apartment 40m2-Air conditioning-Elevator-Under...</td>\n",
       "      <td>9.8</td>\n",
       "      <td>54.0</td>\n",
       "      <td>3 Rue Velouterie, 84000 Avignon, France</td>\n",
       "      <td>Parking gratuit,Connexion Wi-Fi gratuite,Chamb...</td>\n",
       "      <td>L’hébergement Apartment 40m2-Air conditioning-...</td>\n",
       "      <td>https://www.booking.com/hotel/fr/appart-parkin...</td>\n",
       "    </tr>\n",
       "    <tr>\n",
       "      <th>17</th>\n",
       "      <td>Avignon</td>\n",
       "      <td>43.951293</td>\n",
       "      <td>4.806370</td>\n",
       "      <td>PLACE DU PALAIS DES PAPES 3 chambres Parking C...</td>\n",
       "      <td>9.8</td>\n",
       "      <td>40.0</td>\n",
       "      <td>1er étage 17 Place du Palais, 84000 Avignon, F...</td>\n",
       "      <td>Parking gratuit,Connexion Wi-Fi gratuite,Chamb...</td>\n",
       "      <td>L’hébergement PLACE DU PALAIS DES PAPES 3 cham...</td>\n",
       "      <td>https://www.booking.com/hotel/fr/place-du-pala...</td>\n",
       "    </tr>\n",
       "    <tr>\n",
       "      <th>18</th>\n",
       "      <td>Carcassonne</td>\n",
       "      <td>43.178580</td>\n",
       "      <td>2.414622</td>\n",
       "      <td>Au point du jour - Gîtes Carcassonne, Lac de l...</td>\n",
       "      <td>9.8</td>\n",
       "      <td>114.0</td>\n",
       "      <td>19 Chemin du Point du Jour Montlegun, 11000 Ca...</td>\n",
       "      <td>Piscine extérieure,Parking gratuit,Connexion W...</td>\n",
       "      <td>L’établissement Au point du jour - Gîtes Carca...</td>\n",
       "      <td>https://www.booking.com/hotel/fr/au-point-du-j...</td>\n",
       "    </tr>\n",
       "    <tr>\n",
       "      <th>19</th>\n",
       "      <td>Avignon</td>\n",
       "      <td>43.950019</td>\n",
       "      <td>4.809769</td>\n",
       "      <td>Avignon Intra-muros, vue Palais des Papes</td>\n",
       "      <td>9.8</td>\n",
       "      <td>35.0</td>\n",
       "      <td>7 Rue Saluces, 84000 Avignon, France</td>\n",
       "      <td>Parking,Connexion Wi-Fi gratuite,Chambres fami...</td>\n",
       "      <td>Offrant une vue sur la ville et doté d’une con...</td>\n",
       "      <td>https://www.booking.com/hotel/fr/avignon-intra...</td>\n",
       "    </tr>\n",
       "  </tbody>\n",
       "</table>\n",
       "</div>"
      ],
      "text/plain": [
       "             city  hotel_lat  hotel_lon  \\\n",
       "0          Cassis  43.217600   5.532350   \n",
       "1          Cassis  43.215246   5.544668   \n",
       "2          Cassis  43.215246   5.544668   \n",
       "3   Aigues Mortes  43.581709   4.208536   \n",
       "4         Avignon  43.945188   4.799626   \n",
       "5         Avignon  43.945188   4.799626   \n",
       "6         Avignon  43.945188   4.799626   \n",
       "7         Avignon  43.945188   4.799626   \n",
       "8         Avignon  43.950019   4.809769   \n",
       "9         Avignon  43.945188   4.799626   \n",
       "10        Avignon  43.945188   4.799626   \n",
       "11        Avignon  43.945188   4.799626   \n",
       "12        Avignon  43.950019   4.809769   \n",
       "13        Avignon  43.945188   4.799626   \n",
       "14        Avignon  43.950019   4.809769   \n",
       "15    Carcassonne  43.207188   2.361495   \n",
       "16        Avignon  43.945188   4.799626   \n",
       "17        Avignon  43.951293   4.806370   \n",
       "18    Carcassonne  43.178580   2.414622   \n",
       "19        Avignon  43.950019   4.809769   \n",
       "\n",
       "                                           hotel_name  hotel_review  \\\n",
       "0    LE SEPT charmant studio aux portes des calanques           9.9   \n",
       "1                 Chambre d'hôtes Clos du Petit Jésus           9.9   \n",
       "2                 Chambre d'hôtes Clos du Petit Jésus           9.9   \n",
       "3   Séjour atypique et insolite sur notre péniche ...           9.9   \n",
       "4   Apartment 40m2-Air conditioning-Elevator-Under...           9.8   \n",
       "5   Apartment 40m2-Air conditioning-Elevator-Under...           9.8   \n",
       "6   Apartment 40m2-Air conditioning-Elevator-Under...           9.8   \n",
       "7   Apartment 40m2-Air conditioning-Elevator-Under...           9.8   \n",
       "8           Avignon Intra-muros, vue Palais des Papes           9.8   \n",
       "9   Apartment 40m2-Air conditioning-Elevator-Under...           9.8   \n",
       "10  Apartment 40m2-Air conditioning-Elevator-Under...           9.8   \n",
       "11  Apartment 40m2-Air conditioning-Elevator-Under...           9.8   \n",
       "12          Avignon Intra-muros, vue Palais des Papes           9.8   \n",
       "13  Apartment 40m2-Air conditioning-Elevator-Under...           9.8   \n",
       "14          Avignon Intra-muros, vue Palais des Papes           9.8   \n",
       "15                           Le Loft de La Tour Pinte           9.8   \n",
       "16  Apartment 40m2-Air conditioning-Elevator-Under...           9.8   \n",
       "17  PLACE DU PALAIS DES PAPES 3 chambres Parking C...           9.8   \n",
       "18  Au point du jour - Gîtes Carcassonne, Lac de l...           9.8   \n",
       "19          Avignon Intra-muros, vue Palais des Papes           9.8   \n",
       "\n",
       "    hotel_nbr_review                                      hotel_address  \\\n",
       "0               89.0        7 Avenue des Carriers, 13260 Cassis, France   \n",
       "1              117.0            4 Av. de Provence, 13260 Cassis, France   \n",
       "2              117.0            4 Av. de Provence, 13260 Cassis, France   \n",
       "3               38.0  la Coradine Chemin de la Pinède, 30220 Aigues-...   \n",
       "4               53.0            3 Rue Velouterie, 84000 Avignon, France   \n",
       "5               53.0            3 Rue Velouterie, 84000 Avignon, France   \n",
       "6               54.0            3 Rue Velouterie, 84000 Avignon, France   \n",
       "7               53.0            3 Rue Velouterie, 84000 Avignon, France   \n",
       "8               35.0               7 Rue Saluces, 84000 Avignon, France   \n",
       "9               53.0            3 Rue Velouterie, 84000 Avignon, France   \n",
       "10              47.0            3 Rue Velouterie, 84000 Avignon, France   \n",
       "11              54.0            3 Rue Velouterie, 84000 Avignon, France   \n",
       "12              35.0               7 Rue Saluces, 84000 Avignon, France   \n",
       "13              53.0            3 Rue Velouterie, 84000 Avignon, France   \n",
       "14              35.0               7 Rue Saluces, 84000 Avignon, France   \n",
       "15              60.0        70 Rue Barbacane, 11000 Carcassonne, France   \n",
       "16              54.0            3 Rue Velouterie, 84000 Avignon, France   \n",
       "17              40.0  1er étage 17 Place du Palais, 84000 Avignon, F...   \n",
       "18             114.0  19 Chemin du Point du Jour Montlegun, 11000 Ca...   \n",
       "19              35.0               7 Rue Saluces, 84000 Avignon, France   \n",
       "\n",
       "                                     hotel_facilities  \\\n",
       "0   Piscine extérieure,Parking gratuit,Connexion W...   \n",
       "1   Piscine extérieure,Parking gratuit,Connexion W...   \n",
       "2   Piscine extérieure,Parking gratuit,Connexion W...   \n",
       "3   Parking gratuit,Connexion Wi-Fi rapide gratuit...   \n",
       "4   Parking gratuit,Connexion Wi-Fi gratuite,Chamb...   \n",
       "5   Parking gratuit,Connexion Wi-Fi gratuite,Chamb...   \n",
       "6   Parking gratuit,Connexion Wi-Fi gratuite,Chamb...   \n",
       "7   Parking gratuit,Connexion Wi-Fi gratuite,Chamb...   \n",
       "8   Parking,Connexion Wi-Fi gratuite,Chambres fami...   \n",
       "9   Parking gratuit,Connexion Wi-Fi gratuite,Chamb...   \n",
       "10  Parking gratuit,Connexion Wi-Fi gratuite,Chamb...   \n",
       "11  Parking gratuit,Connexion Wi-Fi gratuite,Chamb...   \n",
       "12  Parking,Connexion Wi-Fi gratuite,Chambres fami...   \n",
       "13  Parking gratuit,Connexion Wi-Fi gratuite,Chamb...   \n",
       "14  Parking,Connexion Wi-Fi gratuite,Chambres fami...   \n",
       "15  Connexion Wi-Fi gratuite,Chambres familiales,C...   \n",
       "16  Parking gratuit,Connexion Wi-Fi gratuite,Chamb...   \n",
       "17  Parking gratuit,Connexion Wi-Fi gratuite,Chamb...   \n",
       "18  Piscine extérieure,Parking gratuit,Connexion W...   \n",
       "19  Parking,Connexion Wi-Fi gratuite,Chambres fami...   \n",
       "\n",
       "                                           hotel_desc  \\\n",
       "0   Situé à Cassis et offrant une vue sur la mer, ...   \n",
       "1   Situé à Cassis, à seulement 5 minutes à pied d...   \n",
       "2   Situé à Cassis, à seulement 5 minutes à pied d...   \n",
       "3   Situé à Aigues-Mortes, l’hébergement Séjour at...   \n",
       "4   L’hébergement Apartment 40m2-Air conditioning-...   \n",
       "5   L’hébergement Apartment 40m2-Air conditioning-...   \n",
       "6   L’hébergement Apartment 40m2-Air conditioning-...   \n",
       "7   L’hébergement Apartment 40m2-Air conditioning-...   \n",
       "8   Offrant une vue sur la ville et doté d’une con...   \n",
       "9   L’hébergement Apartment 40m2-Air conditioning-...   \n",
       "10  L’hébergement Apartment 40m2-Air conditioning-...   \n",
       "11  L’hébergement Apartment 40m2-Air conditioning-...   \n",
       "12  Offrant une vue sur la ville et doté d’une con...   \n",
       "13  L’hébergement Apartment 40m2-Air conditioning-...   \n",
       "14  Offrant une vue sur la ville et doté d’une con...   \n",
       "15  Offrant une vue sur la ville, l’hébergement Le...   \n",
       "16  L’hébergement Apartment 40m2-Air conditioning-...   \n",
       "17  L’hébergement PLACE DU PALAIS DES PAPES 3 cham...   \n",
       "18  L’établissement Au point du jour - Gîtes Carca...   \n",
       "19  Offrant une vue sur la ville et doté d’une con...   \n",
       "\n",
       "                                            hotel_url  \n",
       "0   https://www.booking.com/hotel/fr/le-sept-charm...  \n",
       "1   https://www.booking.com/hotel/fr/clos-du-petit...  \n",
       "2   https://www.booking.com/hotel/fr/clos-du-petit...  \n",
       "3   https://www.booking.com/hotel/fr/peniche-aigue...  \n",
       "4   https://www.booking.com/hotel/fr/appart-parkin...  \n",
       "5   https://www.booking.com/hotel/fr/appart-parkin...  \n",
       "6   https://www.booking.com/hotel/fr/appart-parkin...  \n",
       "7   https://www.booking.com/hotel/fr/appart-parkin...  \n",
       "8   https://www.booking.com/hotel/fr/avignon-intra...  \n",
       "9   https://www.booking.com/hotel/fr/appart-parkin...  \n",
       "10  https://www.booking.com/hotel/fr/appart-parkin...  \n",
       "11  https://www.booking.com/hotel/fr/appart-parkin...  \n",
       "12  https://www.booking.com/hotel/fr/avignon-intra...  \n",
       "13  https://www.booking.com/hotel/fr/appart-parkin...  \n",
       "14  https://www.booking.com/hotel/fr/avignon-intra...  \n",
       "15  https://www.booking.com/hotel/fr/le-loft-de-la...  \n",
       "16  https://www.booking.com/hotel/fr/appart-parkin...  \n",
       "17  https://www.booking.com/hotel/fr/place-du-pala...  \n",
       "18  https://www.booking.com/hotel/fr/au-point-du-j...  \n",
       "19  https://www.booking.com/hotel/fr/avignon-intra...  "
      ]
     },
     "execution_count": 16,
     "metadata": {},
     "output_type": "execute_result"
    }
   ],
   "source": [
    "#Apply a mask with the conditions needed : the review and the nbr of review\n",
    "conditions = (df['hotel_review']>8.7) & (df['hotel_nbr_review'] > 30)\n",
    "top_hotels = df[conditions]\n",
    "top20_hotels = top_hotels.sort_values('hotel_review', ascending=False).head(20).reset_index(drop=True)\n",
    "top20_hotels"
   ]
  },
  {
   "cell_type": "code",
   "execution_count": 17,
   "metadata": {},
   "outputs": [
    {
     "data": {
      "application/vnd.plotly.v1+json": {
       "config": {
        "plotlyServerURL": "https://plot.ly"
       },
       "data": [
        {
         "hovertemplate": "<b>%{hovertext}</b><br><br>hotel_nbr_review=%{marker.size}<br>hotel_lat=%{lat}<br>hotel_lon=%{lon}<br>hotel_review=%{marker.color}<extra></extra>",
         "hovertext": [
          "LE SEPT charmant studio aux portes des calanques",
          "Chambre d'hôtes Clos du Petit Jésus",
          "Chambre d'hôtes Clos du Petit Jésus",
          "Séjour atypique et insolite sur notre péniche La Coradine avec grand spa",
          "Apartment 40m2-Air conditioning-Elevator-Underground parking-Self checkin! Appart climatisé 40m2-Ascenseur-Parking souterrain -Arrivée autonome",
          "Apartment 40m2-Air conditioning-Elevator-Underground parking-Self checkin! Appart climatisé 40m2-Ascenseur-Parking souterrain -Arrivée autonome",
          "Apartment 40m2-Air conditioning-Elevator-Underground parking-Self checkin! Appart climatisé 40m2-Ascenseur-Parking souterrain -Arrivée autonome",
          "Apartment 40m2-Air conditioning-Elevator-Underground parking-Self checkin! Appart climatisé 40m2-Ascenseur-Parking souterrain -Arrivée autonome",
          "Avignon Intra-muros, vue Palais des Papes",
          "Apartment 40m2-Air conditioning-Elevator-Underground parking-Self checkin! Appart climatisé 40m2-Ascenseur-Parking souterrain -Arrivée autonome",
          "Apartment 40m2-Air conditioning-Elevator-Underground parking-Self checkin! Appart climatisé 40m2-Ascenseur-Parking souterrain -Arrivée autonome",
          "Apartment 40m2-Air conditioning-Elevator-Underground parking-Self checkin! Appart climatisé 40m2-Ascenseur-Parking souterrain -Arrivée autonome",
          "Avignon Intra-muros, vue Palais des Papes",
          "Apartment 40m2-Air conditioning-Elevator-Underground parking-Self checkin! Appart climatisé 40m2-Ascenseur-Parking souterrain -Arrivée autonome",
          "Avignon Intra-muros, vue Palais des Papes",
          "Le Loft de La Tour Pinte",
          "Apartment 40m2-Air conditioning-Elevator-Underground parking-Self checkin! Appart climatisé 40m2-Ascenseur-Parking souterrain -Arrivée autonome",
          "PLACE DU PALAIS DES PAPES 3 chambres Parking Climatisation 3 Salles de bain",
          "Au point du jour - Gîtes Carcassonne, Lac de la Cavayère",
          "Avignon Intra-muros, vue Palais des Papes"
         ],
         "lat": [
          43.2175997,
          43.21524568880528,
          43.21524568880528,
          43.581709,
          43.9451879,
          43.9451879,
          43.9451879,
          43.9451879,
          43.950019190601,
          43.9451879,
          43.9451879,
          43.9451879,
          43.950019190601,
          43.9451879,
          43.950019190601,
          43.207188358573,
          43.9451879,
          43.951292521934,
          43.17858,
          43.950019190601
         ],
         "legendgroup": "",
         "lon": [
          5.53235,
          5.544667840003967,
          5.544667840003967,
          4.208536,
          4.7996263,
          4.7996263,
          4.7996263,
          4.7996263,
          4.809768784945,
          4.7996263,
          4.7996263,
          4.7996263,
          4.809768784945,
          4.7996263,
          4.809768784945,
          2.361494517696,
          4.7996263,
          4.806369701852,
          2.4146219,
          4.809768784945
         ],
         "marker": {
          "color": [
           9.9,
           9.9,
           9.9,
           9.9,
           9.8,
           9.8,
           9.8,
           9.8,
           9.8,
           9.8,
           9.8,
           9.8,
           9.8,
           9.8,
           9.8,
           9.8,
           9.8,
           9.8,
           9.8,
           9.8
          ],
          "coloraxis": "coloraxis",
          "opacity": 1,
          "size": [
           89,
           117,
           117,
           38,
           53,
           53,
           54,
           53,
           35,
           53,
           47,
           54,
           35,
           53,
           35,
           60,
           54,
           40,
           114,
           35
          ],
          "sizemode": "area",
          "sizeref": 0.09551020408163265
         },
         "mode": "markers",
         "name": "",
         "showlegend": false,
         "subplot": "map",
         "type": "scattermap"
        }
       ],
       "layout": {
        "coloraxis": {
         "colorbar": {
          "title": {
           "text": "hotel_review"
          }
         },
         "colorscale": [
          [
           0,
           "#440154"
          ],
          [
           0.1111111111111111,
           "#482878"
          ],
          [
           0.2222222222222222,
           "#3e4989"
          ],
          [
           0.3333333333333333,
           "#31688e"
          ],
          [
           0.4444444444444444,
           "#26828e"
          ],
          [
           0.5555555555555556,
           "#1f9e89"
          ],
          [
           0.6666666666666666,
           "#35b779"
          ],
          [
           0.7777777777777778,
           "#6ece58"
          ],
          [
           0.8888888888888888,
           "#b5de2b"
          ],
          [
           1,
           "#fde725"
          ]
         ]
        },
        "height": 900,
        "legend": {
         "itemsizing": "constant",
         "tracegroupgap": 0
        },
        "map": {
         "center": {
          "lat": 43.74368144102608,
          "lon": 4.642420981966796
         },
         "domain": {
          "x": [
           0,
           1
          ],
          "y": [
           0,
           1
          ]
         },
         "zoom": 5
        },
        "mapbox": {
         "center": {
          "lat": 43.74368144102608,
          "lon": 4.642420981966796
         },
         "zoom": 5
        },
        "margin": {
         "b": 10,
         "l": 10,
         "r": 10,
         "t": 100
        },
        "template": {
         "data": {
          "bar": [
           {
            "error_x": {
             "color": "#2a3f5f"
            },
            "error_y": {
             "color": "#2a3f5f"
            },
            "marker": {
             "line": {
              "color": "#E5ECF6",
              "width": 0.5
             },
             "pattern": {
              "fillmode": "overlay",
              "size": 10,
              "solidity": 0.2
             }
            },
            "type": "bar"
           }
          ],
          "barpolar": [
           {
            "marker": {
             "line": {
              "color": "#E5ECF6",
              "width": 0.5
             },
             "pattern": {
              "fillmode": "overlay",
              "size": 10,
              "solidity": 0.2
             }
            },
            "type": "barpolar"
           }
          ],
          "carpet": [
           {
            "aaxis": {
             "endlinecolor": "#2a3f5f",
             "gridcolor": "white",
             "linecolor": "white",
             "minorgridcolor": "white",
             "startlinecolor": "#2a3f5f"
            },
            "baxis": {
             "endlinecolor": "#2a3f5f",
             "gridcolor": "white",
             "linecolor": "white",
             "minorgridcolor": "white",
             "startlinecolor": "#2a3f5f"
            },
            "type": "carpet"
           }
          ],
          "choropleth": [
           {
            "colorbar": {
             "outlinewidth": 0,
             "ticks": ""
            },
            "type": "choropleth"
           }
          ],
          "contour": [
           {
            "colorbar": {
             "outlinewidth": 0,
             "ticks": ""
            },
            "colorscale": [
             [
              0,
              "#0d0887"
             ],
             [
              0.1111111111111111,
              "#46039f"
             ],
             [
              0.2222222222222222,
              "#7201a8"
             ],
             [
              0.3333333333333333,
              "#9c179e"
             ],
             [
              0.4444444444444444,
              "#bd3786"
             ],
             [
              0.5555555555555556,
              "#d8576b"
             ],
             [
              0.6666666666666666,
              "#ed7953"
             ],
             [
              0.7777777777777778,
              "#fb9f3a"
             ],
             [
              0.8888888888888888,
              "#fdca26"
             ],
             [
              1,
              "#f0f921"
             ]
            ],
            "type": "contour"
           }
          ],
          "contourcarpet": [
           {
            "colorbar": {
             "outlinewidth": 0,
             "ticks": ""
            },
            "type": "contourcarpet"
           }
          ],
          "heatmap": [
           {
            "colorbar": {
             "outlinewidth": 0,
             "ticks": ""
            },
            "colorscale": [
             [
              0,
              "#0d0887"
             ],
             [
              0.1111111111111111,
              "#46039f"
             ],
             [
              0.2222222222222222,
              "#7201a8"
             ],
             [
              0.3333333333333333,
              "#9c179e"
             ],
             [
              0.4444444444444444,
              "#bd3786"
             ],
             [
              0.5555555555555556,
              "#d8576b"
             ],
             [
              0.6666666666666666,
              "#ed7953"
             ],
             [
              0.7777777777777778,
              "#fb9f3a"
             ],
             [
              0.8888888888888888,
              "#fdca26"
             ],
             [
              1,
              "#f0f921"
             ]
            ],
            "type": "heatmap"
           }
          ],
          "heatmapgl": [
           {
            "colorbar": {
             "outlinewidth": 0,
             "ticks": ""
            },
            "colorscale": [
             [
              0,
              "#0d0887"
             ],
             [
              0.1111111111111111,
              "#46039f"
             ],
             [
              0.2222222222222222,
              "#7201a8"
             ],
             [
              0.3333333333333333,
              "#9c179e"
             ],
             [
              0.4444444444444444,
              "#bd3786"
             ],
             [
              0.5555555555555556,
              "#d8576b"
             ],
             [
              0.6666666666666666,
              "#ed7953"
             ],
             [
              0.7777777777777778,
              "#fb9f3a"
             ],
             [
              0.8888888888888888,
              "#fdca26"
             ],
             [
              1,
              "#f0f921"
             ]
            ],
            "type": "heatmapgl"
           }
          ],
          "histogram": [
           {
            "marker": {
             "pattern": {
              "fillmode": "overlay",
              "size": 10,
              "solidity": 0.2
             }
            },
            "type": "histogram"
           }
          ],
          "histogram2d": [
           {
            "colorbar": {
             "outlinewidth": 0,
             "ticks": ""
            },
            "colorscale": [
             [
              0,
              "#0d0887"
             ],
             [
              0.1111111111111111,
              "#46039f"
             ],
             [
              0.2222222222222222,
              "#7201a8"
             ],
             [
              0.3333333333333333,
              "#9c179e"
             ],
             [
              0.4444444444444444,
              "#bd3786"
             ],
             [
              0.5555555555555556,
              "#d8576b"
             ],
             [
              0.6666666666666666,
              "#ed7953"
             ],
             [
              0.7777777777777778,
              "#fb9f3a"
             ],
             [
              0.8888888888888888,
              "#fdca26"
             ],
             [
              1,
              "#f0f921"
             ]
            ],
            "type": "histogram2d"
           }
          ],
          "histogram2dcontour": [
           {
            "colorbar": {
             "outlinewidth": 0,
             "ticks": ""
            },
            "colorscale": [
             [
              0,
              "#0d0887"
             ],
             [
              0.1111111111111111,
              "#46039f"
             ],
             [
              0.2222222222222222,
              "#7201a8"
             ],
             [
              0.3333333333333333,
              "#9c179e"
             ],
             [
              0.4444444444444444,
              "#bd3786"
             ],
             [
              0.5555555555555556,
              "#d8576b"
             ],
             [
              0.6666666666666666,
              "#ed7953"
             ],
             [
              0.7777777777777778,
              "#fb9f3a"
             ],
             [
              0.8888888888888888,
              "#fdca26"
             ],
             [
              1,
              "#f0f921"
             ]
            ],
            "type": "histogram2dcontour"
           }
          ],
          "mesh3d": [
           {
            "colorbar": {
             "outlinewidth": 0,
             "ticks": ""
            },
            "type": "mesh3d"
           }
          ],
          "parcoords": [
           {
            "line": {
             "colorbar": {
              "outlinewidth": 0,
              "ticks": ""
             }
            },
            "type": "parcoords"
           }
          ],
          "pie": [
           {
            "automargin": true,
            "type": "pie"
           }
          ],
          "scatter": [
           {
            "fillpattern": {
             "fillmode": "overlay",
             "size": 10,
             "solidity": 0.2
            },
            "type": "scatter"
           }
          ],
          "scatter3d": [
           {
            "line": {
             "colorbar": {
              "outlinewidth": 0,
              "ticks": ""
             }
            },
            "marker": {
             "colorbar": {
              "outlinewidth": 0,
              "ticks": ""
             }
            },
            "type": "scatter3d"
           }
          ],
          "scattercarpet": [
           {
            "marker": {
             "colorbar": {
              "outlinewidth": 0,
              "ticks": ""
             }
            },
            "type": "scattercarpet"
           }
          ],
          "scattergeo": [
           {
            "marker": {
             "colorbar": {
              "outlinewidth": 0,
              "ticks": ""
             }
            },
            "type": "scattergeo"
           }
          ],
          "scattergl": [
           {
            "marker": {
             "colorbar": {
              "outlinewidth": 0,
              "ticks": ""
             }
            },
            "type": "scattergl"
           }
          ],
          "scattermapbox": [
           {
            "marker": {
             "colorbar": {
              "outlinewidth": 0,
              "ticks": ""
             }
            },
            "type": "scattermapbox"
           }
          ],
          "scatterpolar": [
           {
            "marker": {
             "colorbar": {
              "outlinewidth": 0,
              "ticks": ""
             }
            },
            "type": "scatterpolar"
           }
          ],
          "scatterpolargl": [
           {
            "marker": {
             "colorbar": {
              "outlinewidth": 0,
              "ticks": ""
             }
            },
            "type": "scatterpolargl"
           }
          ],
          "scatterternary": [
           {
            "marker": {
             "colorbar": {
              "outlinewidth": 0,
              "ticks": ""
             }
            },
            "type": "scatterternary"
           }
          ],
          "surface": [
           {
            "colorbar": {
             "outlinewidth": 0,
             "ticks": ""
            },
            "colorscale": [
             [
              0,
              "#0d0887"
             ],
             [
              0.1111111111111111,
              "#46039f"
             ],
             [
              0.2222222222222222,
              "#7201a8"
             ],
             [
              0.3333333333333333,
              "#9c179e"
             ],
             [
              0.4444444444444444,
              "#bd3786"
             ],
             [
              0.5555555555555556,
              "#d8576b"
             ],
             [
              0.6666666666666666,
              "#ed7953"
             ],
             [
              0.7777777777777778,
              "#fb9f3a"
             ],
             [
              0.8888888888888888,
              "#fdca26"
             ],
             [
              1,
              "#f0f921"
             ]
            ],
            "type": "surface"
           }
          ],
          "table": [
           {
            "cells": {
             "fill": {
              "color": "#EBF0F8"
             },
             "line": {
              "color": "white"
             }
            },
            "header": {
             "fill": {
              "color": "#C8D4E3"
             },
             "line": {
              "color": "white"
             }
            },
            "type": "table"
           }
          ]
         },
         "layout": {
          "annotationdefaults": {
           "arrowcolor": "#2a3f5f",
           "arrowhead": 0,
           "arrowwidth": 1
          },
          "autotypenumbers": "strict",
          "coloraxis": {
           "colorbar": {
            "outlinewidth": 0,
            "ticks": ""
           }
          },
          "colorscale": {
           "diverging": [
            [
             0,
             "#8e0152"
            ],
            [
             0.1,
             "#c51b7d"
            ],
            [
             0.2,
             "#de77ae"
            ],
            [
             0.3,
             "#f1b6da"
            ],
            [
             0.4,
             "#fde0ef"
            ],
            [
             0.5,
             "#f7f7f7"
            ],
            [
             0.6,
             "#e6f5d0"
            ],
            [
             0.7,
             "#b8e186"
            ],
            [
             0.8,
             "#7fbc41"
            ],
            [
             0.9,
             "#4d9221"
            ],
            [
             1,
             "#276419"
            ]
           ],
           "sequential": [
            [
             0,
             "#0d0887"
            ],
            [
             0.1111111111111111,
             "#46039f"
            ],
            [
             0.2222222222222222,
             "#7201a8"
            ],
            [
             0.3333333333333333,
             "#9c179e"
            ],
            [
             0.4444444444444444,
             "#bd3786"
            ],
            [
             0.5555555555555556,
             "#d8576b"
            ],
            [
             0.6666666666666666,
             "#ed7953"
            ],
            [
             0.7777777777777778,
             "#fb9f3a"
            ],
            [
             0.8888888888888888,
             "#fdca26"
            ],
            [
             1,
             "#f0f921"
            ]
           ],
           "sequentialminus": [
            [
             0,
             "#0d0887"
            ],
            [
             0.1111111111111111,
             "#46039f"
            ],
            [
             0.2222222222222222,
             "#7201a8"
            ],
            [
             0.3333333333333333,
             "#9c179e"
            ],
            [
             0.4444444444444444,
             "#bd3786"
            ],
            [
             0.5555555555555556,
             "#d8576b"
            ],
            [
             0.6666666666666666,
             "#ed7953"
            ],
            [
             0.7777777777777778,
             "#fb9f3a"
            ],
            [
             0.8888888888888888,
             "#fdca26"
            ],
            [
             1,
             "#f0f921"
            ]
           ]
          },
          "colorway": [
           "#636efa",
           "#EF553B",
           "#00cc96",
           "#ab63fa",
           "#FFA15A",
           "#19d3f3",
           "#FF6692",
           "#B6E880",
           "#FF97FF",
           "#FECB52"
          ],
          "font": {
           "color": "#2a3f5f"
          },
          "geo": {
           "bgcolor": "white",
           "lakecolor": "white",
           "landcolor": "#E5ECF6",
           "showlakes": true,
           "showland": true,
           "subunitcolor": "white"
          },
          "hoverlabel": {
           "align": "left"
          },
          "hovermode": "closest",
          "mapbox": {
           "style": "light"
          },
          "paper_bgcolor": "white",
          "plot_bgcolor": "#E5ECF6",
          "polar": {
           "angularaxis": {
            "gridcolor": "white",
            "linecolor": "white",
            "ticks": ""
           },
           "bgcolor": "#E5ECF6",
           "radialaxis": {
            "gridcolor": "white",
            "linecolor": "white",
            "ticks": ""
           }
          },
          "scene": {
           "xaxis": {
            "backgroundcolor": "#E5ECF6",
            "gridcolor": "white",
            "gridwidth": 2,
            "linecolor": "white",
            "showbackground": true,
            "ticks": "",
            "zerolinecolor": "white"
           },
           "yaxis": {
            "backgroundcolor": "#E5ECF6",
            "gridcolor": "white",
            "gridwidth": 2,
            "linecolor": "white",
            "showbackground": true,
            "ticks": "",
            "zerolinecolor": "white"
           },
           "zaxis": {
            "backgroundcolor": "#E5ECF6",
            "gridcolor": "white",
            "gridwidth": 2,
            "linecolor": "white",
            "showbackground": true,
            "ticks": "",
            "zerolinecolor": "white"
           }
          },
          "shapedefaults": {
           "line": {
            "color": "#2a3f5f"
           }
          },
          "ternary": {
           "aaxis": {
            "gridcolor": "white",
            "linecolor": "white",
            "ticks": ""
           },
           "baxis": {
            "gridcolor": "white",
            "linecolor": "white",
            "ticks": ""
           },
           "bgcolor": "#E5ECF6",
           "caxis": {
            "gridcolor": "white",
            "linecolor": "white",
            "ticks": ""
           }
          },
          "title": {
           "x": 0.05
          },
          "xaxis": {
           "automargin": true,
           "gridcolor": "white",
           "linecolor": "white",
           "ticks": "",
           "title": {
            "standoff": 15
           },
           "zerolinecolor": "white",
           "zerolinewidth": 2
          },
          "yaxis": {
           "automargin": true,
           "gridcolor": "white",
           "linecolor": "white",
           "ticks": "",
           "title": {
            "standoff": 15
           },
           "zerolinecolor": "white",
           "zerolinewidth": 2
          }
         }
        },
        "title": {
         "text": "Top 20 hotels in the top 5 places where the weather is best in France in the next 7 days"
        },
        "width": 1200
       }
      }
     },
     "metadata": {},
     "output_type": "display_data"
    }
   ],
   "source": [
    "# Plot the map of the top 20 hotels in the top 5 places\n",
    "fig = px.scatter_map(top20_hotels, lat=\"hotel_lat\",\n",
    "                        lon=\"hotel_lon\",\n",
    "                        color='hotel_review',\n",
    "                        size='hotel_nbr_review',\n",
    "                        size_max=35,  \n",
    "                        title='Top 20 hotels in the top 5 places where the weather is best in France in the next 7 days',\n",
    "                        color_continuous_scale=\"Viridis\",\n",
    "                        opacity=1,\n",
    "                        hover_name='hotel_name',\n",
    "                        width=1200, height=900,  \n",
    "                        zoom=5)  \n",
    "fig.update_layout(margin={\"r\":10,\"t\":100,\"l\":10,\"b\":10})\n",
    "fig.show()\n",
    "fig.write_html(\"top_20_hotels.html\")"
   ]
  }
 ],
 "metadata": {
  "kernelspec": {
   "display_name": "Python 3",
   "language": "python",
   "name": "python3"
  },
  "language_info": {
   "codemirror_mode": {
    "name": "ipython",
    "version": 3
   },
   "file_extension": ".py",
   "mimetype": "text/x-python",
   "name": "python",
   "nbconvert_exporter": "python",
   "pygments_lexer": "ipython3",
   "version": "3.13.0"
  }
 },
 "nbformat": 4,
 "nbformat_minor": 2
}
